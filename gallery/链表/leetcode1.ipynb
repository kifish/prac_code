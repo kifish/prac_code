{
 "cells": [
  {
   "cell_type": "code",
   "execution_count": 1,
   "metadata": {},
   "outputs": [
    {
     "data": {
      "text/plain": [
       "[2, 0, 3]"
      ]
     },
     "execution_count": 1,
     "metadata": {},
     "output_type": "execute_result"
    }
   ],
   "source": [
    "x = [2,3]\n",
    "x.insert(1,0)\n",
    "x"
   ]
  },
  {
   "cell_type": "code",
   "execution_count": 3,
   "metadata": {},
   "outputs": [
    {
     "data": {
      "text/plain": [
       "[2, 0]"
      ]
     },
     "execution_count": 3,
     "metadata": {},
     "output_type": "execute_result"
    }
   ],
   "source": [
    "x.pop()\n",
    "x"
   ]
  },
  {
   "cell_type": "code",
   "execution_count": 2,
   "metadata": {},
   "outputs": [
    {
     "name": "stdout",
     "output_type": "stream",
     "text": [
      "2\n"
     ]
    }
   ],
   "source": [
    "for i in range(2,1,-1):\n",
    "    print(i)"
   ]
  },
  {
   "cell_type": "code",
   "execution_count": null,
   "metadata": {
    "collapsed": true
   },
   "outputs": [],
   "source": [
    "#88. Merge Sorted Array"
   ]
  },
  {
   "cell_type": "code",
   "execution_count": null,
   "metadata": {
    "collapsed": true
   },
   "outputs": [],
   "source": [
    "class Solution:\n",
    "    def merge(self, nums1, m, nums2, n):\n",
    "        \"\"\"\n",
    "        :type nums1: List[int]\n",
    "        :type m: int\n",
    "        :type nums2: List[int]\n",
    "        :type n: int\n",
    "        :rtype: void Do not return anything, modify nums1 in-place instead.\n",
    "        \"\"\"\n",
    "        i = 0\n",
    "        j = 0\n",
    "        final_len = m + n\n",
    "        while (i < m and j < n):\n",
    "            # 循环不变量\n",
    "            # num[i]维持着最大值\n",
    "            # num[j]维持着最小值\n",
    "            if nums1[i] > nums2[j]:\n",
    "                nums1.insert(i,nums2[j])\n",
    "                j += 1\n",
    "                # 插入导致list变了\n",
    "                i += 1\n",
    "                m += 1\n",
    "            else:\n",
    "                i += 1\n",
    "        while j < n:\n",
    "            nums1.insert(i,nums2[j])\n",
    "            i += 1\n",
    "            j += 1\n",
    "        \n",
    "        i = 0\n",
    "        t = len(nums1)\n",
    "        while i <  t - final_len:\n",
    "            nums1.pop()\n",
    "            i += 1\n",
    "\n",
    "        "
   ]
  },
  {
   "cell_type": "code",
   "execution_count": null,
   "metadata": {
    "collapsed": true
   },
   "outputs": [],
   "source": [
    "#21. Merge Two Sorted Lists"
   ]
  },
  {
   "cell_type": "code",
   "execution_count": null,
   "metadata": {
    "collapsed": true
   },
   "outputs": [],
   "source": [
    "class Solution:\n",
    "    def mergeTwoLists(self, l1, l2):\n",
    "        \"\"\"\n",
    "        :type l1: ListNode\n",
    "        :type l2: ListNode\n",
    "        :rtype: ListNode\n",
    "        \"\"\"\n",
    "        res = None\n",
    "        pre = None\n",
    "        i = l1\n",
    "        j = l2\n",
    "        while i and j:\n",
    "            if i.val <= j.val:\n",
    "                if not res:\n",
    "                    res = i\n",
    "                    pre = res\n",
    "                    i = i.next\n",
    "                else:\n",
    "                    pre.next = i\n",
    "                    pre = pre.next\n",
    "                    i = i.next\n",
    "            else:\n",
    "                if not res:\n",
    "                    res = j\n",
    "                    pre = res\n",
    "                    j = j.next\n",
    "                else:\n",
    "                    pre.next = j\n",
    "                    pre = pre.next\n",
    "                    j = j.next\n",
    "        while i:\n",
    "            # 如果l1 或者 l2 本身有一个为空链表\n",
    "            if not res:\n",
    "                res = pre = i\n",
    "                i = i.next\n",
    "            else:\n",
    "                pre.next = i\n",
    "                pre = pre.next\n",
    "                i = i.next\n",
    "        while j:\n",
    "            if not res:\n",
    "                res = pre = j\n",
    "                j = j.next\n",
    "            else:\n",
    "                pre.next = j\n",
    "                pre = pre.next\n",
    "                j = j.next\n",
    "        \n",
    "        return res\n",
    "           "
   ]
  }
 ],
 "metadata": {
  "kernelspec": {
   "display_name": "Python 3",
   "language": "python",
   "name": "python3"
  },
  "language_info": {
   "codemirror_mode": {
    "name": "ipython",
    "version": 3
   },
   "file_extension": ".py",
   "mimetype": "text/x-python",
   "name": "python",
   "nbconvert_exporter": "python",
   "pygments_lexer": "ipython3",
   "version": "3.6.3"
  }
 },
 "nbformat": 4,
 "nbformat_minor": 2
}
