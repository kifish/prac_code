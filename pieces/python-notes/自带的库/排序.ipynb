{
 "cells": [
  {
   "cell_type": "markdown",
   "metadata": {},
   "source": [
    "operator模块提供的itemgetter函数用于获取对象的哪些维的数据，参数为一些序号（即需要获取的数据在对象中的序号），如若你用过padas、numpy的话，相信你对这个概念会理解。相当于那里的axis。下面看例子。"
   ]
  },
  {
   "cell_type": "code",
   "execution_count": 14,
   "metadata": {},
   "outputs": [
    {
     "data": {
      "text/plain": [
       "2"
      ]
     },
     "execution_count": 14,
     "metadata": {},
     "output_type": "execute_result"
    }
   ],
   "source": [
    "import operator\n",
    "a = [1,2,3] \n",
    "b=operator.itemgetter(1)    \n",
    "b(a) "
   ]
  },
  {
   "cell_type": "code",
   "execution_count": 15,
   "metadata": {},
   "outputs": [
    {
     "data": {
      "text/plain": [
       "(2, 1)"
      ]
     },
     "execution_count": 15,
     "metadata": {},
     "output_type": "execute_result"
    }
   ],
   "source": [
    "b=operator.itemgetter(1,0)   \n",
    "b(a) "
   ]
  },
  {
   "cell_type": "code",
   "execution_count": 17,
   "metadata": {},
   "outputs": [
    {
     "data": {
      "text/plain": [
       "[('john', 'A', 15), ('dave', 'B', 10), ('jane', 'B', 12)]"
      ]
     },
     "execution_count": 17,
     "metadata": {},
     "output_type": "execute_result"
    }
   ],
   "source": [
    "#用 operator 函数进行多级排序\n",
    "# lambda匿名函数可能也可以\n",
    "students = [('john', 'A', 15), ('jane', 'B', 12), ('dave', 'B', 10),]  \n",
    "sorted(students, key=operator.itemgetter(1,2))"
   ]
  },
  {
   "cell_type": "code",
   "execution_count": 20,
   "metadata": {},
   "outputs": [
    {
     "data": {
      "text/plain": [
       "[('data4', 4), ('data1', 3), ('data3', 2), ('data2', 1)]"
      ]
     },
     "execution_count": 20,
     "metadata": {},
     "output_type": "execute_result"
    }
   ],
   "source": [
    "d = {'data1':3, 'data2':1, 'data3':2, 'data4':4}  \n",
    "sorted(d.items(), key=operator.itemgetter(1), reverse=True)  "
   ]
  },
  {
   "cell_type": "code",
   "execution_count": 21,
   "metadata": {
    "collapsed": true
   },
   "outputs": [],
   "source": [
    "persons = [{'name':'Bon','age':32},\n",
    "           {'name':'Alan','age':50},\n",
    "           {'name':'Bon','age':33},\n",
    "           {'name':'Job','age':23}]"
   ]
  },
  {
   "cell_type": "markdown",
   "metadata": {},
   "source": [
    "功能和stl里面的sort差不多。\n",
    "\n",
    "sort与sorted原型：\n",
    "sorted(iterable[,cmp[,key[,reverse]]])\n",
    "s.sort([cmp[,key[,reverse]]])\n",
    "cmp:比较函数\n",
    "key:带一个参数的函数，用于提取每个元素的比较值，默认为None\n",
    "reverse：表示结果是否反转"
   ]
  },
  {
   "cell_type": "code",
   "execution_count": 23,
   "metadata": {},
   "outputs": [
    {
     "name": "stdout",
     "output_type": "stream",
     "text": [
      "[{'name': 'Alan', 'age': 50}, {'name': 'Bon', 'age': 32}, {'name': 'Bon', 'age': 33}, {'name': 'Job', 'age': 23}]\n",
      "[{'name': 'Bon', 'age': 32}, {'name': 'Alan', 'age': 50}, {'name': 'Bon', 'age': 33}, {'name': 'Job', 'age': 23}]\n"
     ]
    }
   ],
   "source": [
    "#先按照name有小到大排序。对于name相同的，则按照age有小到大排序\n",
    "print(sorted(persons, key = lambda x:(x['name'],x['age'])))\n",
    "print(persons)"
   ]
  },
  {
   "cell_type": "code",
   "execution_count": 24,
   "metadata": {},
   "outputs": [
    {
     "name": "stdout",
     "output_type": "stream",
     "text": [
      "[{'name': 'Alan', 'age': 50}, {'name': 'Bon', 'age': 32}, {'name': 'Bon', 'age': 33}, {'name': 'Job', 'age': 23}]\n"
     ]
    }
   ],
   "source": [
    "persons.sort(key = lambda x:(x['name'],x['age']))\n",
    "print(persons)"
   ]
  },
  {
   "cell_type": "code",
   "execution_count": 25,
   "metadata": {},
   "outputs": [
    {
     "name": "stdout",
     "output_type": "stream",
     "text": [
      "None\n"
     ]
    }
   ],
   "source": [
    "print(persons.sort(key = lambda x:(x['name'],x['age'])))"
   ]
  },
  {
   "cell_type": "markdown",
   "metadata": {},
   "source": [
    "sorted会返回一个排序后的列表，原有的列表不变\n",
    "而sort会直接修改原有列表，函数返回None."
   ]
  },
  {
   "cell_type": "code",
   "execution_count": 27,
   "metadata": {},
   "outputs": [
    {
     "name": "stdout",
     "output_type": "stream",
     "text": [
      "[1, 2, 2, 3, 4]\n"
     ]
    }
   ],
   "source": [
    "#sorted()作用于任意可迭代对象，而sort一般作用于列表\n",
    "a_tuple = (1,2,4,2,3)\n",
    "print(sorted(a_tuple))"
   ]
  },
  {
   "cell_type": "code",
   "execution_count": 28,
   "metadata": {},
   "outputs": [
    {
     "name": "stdout",
     "output_type": "stream",
     "text": [
      "['Carol', 'Linda', 'Bob']\n"
     ]
    }
   ],
   "source": [
    "from operator import itemgetter\n",
    "phonebook = {'Linda':'7750','Bob':'9345','Carol':'5834'}\n",
    "sorted_pb = sorted(phonebook, key=itemgetter(1))    # 按照数字大小进行排序\n",
    "print(sorted_pb)"
   ]
  },
  {
   "cell_type": "code",
   "execution_count": 29,
   "metadata": {},
   "outputs": [
    {
     "name": "stdout",
     "output_type": "stream",
     "text": [
      "[['Mandy', 82, 'A'], ['Bob', 95, 'A'], ['Alan', 86, 'C'], ['Rob', 86, 'E']]\n"
     ]
    }
   ],
   "source": [
    "gameresult = [['Bob',95,'A'],['Alan',86,'C'],['Mandy',82,'A'],['Rob',86,'E']]\n",
    "print(sorted(gameresult,key=itemgetter(2,1)))"
   ]
  },
  {
   "cell_type": "code",
   "execution_count": 30,
   "metadata": {
    "collapsed": true
   },
   "outputs": [],
   "source": [
    "mydic = {'Li':['M',7],\n",
    "         'Lh':['M',6],\n",
    "         'Zhang':['E',2],\n",
    "         'Wang':['P',3],\n",
    "         'Du':['C',9],\n",
    "         'Ma':['C',2],\n",
    "         'Zhe':['H',7]\n",
    "    }"
   ]
  },
  {
   "cell_type": "code",
   "execution_count": 31,
   "metadata": {},
   "outputs": [
    {
     "name": "stdout",
     "output_type": "stream",
     "text": [
      "[('Du', ['C', 9]), ('Lh', ['M', 6]), ('Li', ['M', 7]), ('Ma', ['C', 2]), ('Wang', ['P', 3]), ('Zhang', ['E', 2]), ('Zhe', ['H', 7])]\n"
     ]
    }
   ],
   "source": [
    "print(sorted(mydic.items(),key=itemgetter(0)))      # 按照'Li'排序"
   ]
  },
  {
   "cell_type": "markdown",
   "metadata": {},
   "source": [
    "itemgetter(1) 是定制化的函数"
   ]
  },
  {
   "cell_type": "code",
   "execution_count": 32,
   "metadata": {},
   "outputs": [
    {
     "name": "stdout",
     "output_type": "stream",
     "text": [
      "[('Zhang', ['E', 2]), ('Ma', ['C', 2]), ('Wang', ['P', 3]), ('Lh', ['M', 6]), ('Li', ['M', 7]), ('Zhe', ['H', 7]), ('Du', ['C', 9])]\n"
     ]
    }
   ],
   "source": [
    "print(sorted(mydic.items(),key=lambda k:itemgetter(1)(k[1])))   # 按照7排序"
   ]
  },
  {
   "cell_type": "code",
   "execution_count": 33,
   "metadata": {},
   "outputs": [
    {
     "name": "stdout",
     "output_type": "stream",
     "text": [
      "[('Du', ['C', 9]), ('Ma', ['C', 2]), ('Zhang', ['E', 2]), ('Zhe', ['H', 7]), ('Li', ['M', 7]), ('Lh', ['M', 6]), ('Wang', ['P', 3])]\n"
     ]
    }
   ],
   "source": [
    "print(sorted(mydic.items(),key=lambda k:itemgetter(0)(k[1])))   # 按照'M'排序"
   ]
  },
  {
   "cell_type": "code",
   "execution_count": 34,
   "metadata": {},
   "outputs": [
    {
     "name": "stdout",
     "output_type": "stream",
     "text": [
      "[{'name': 'b', 'grade': 1}, {'name': 'a', 'grade': 2}]\n"
     ]
    }
   ],
   "source": [
    "game = [{'name':'a','grade':2},{'name':'b','grade':1}]\n",
    "print(sorted(game,key=itemgetter('grade')))"
   ]
  }
 ],
 "metadata": {
  "kernelspec": {
   "display_name": "Python [conda root]",
   "language": "python",
   "name": "conda-root-py"
  },
  "language_info": {
   "codemirror_mode": {
    "name": "ipython",
    "version": 3
   },
   "file_extension": ".py",
   "mimetype": "text/x-python",
   "name": "python",
   "nbconvert_exporter": "python",
   "pygments_lexer": "ipython3",
   "version": "3.6.3"
  }
 },
 "nbformat": 4,
 "nbformat_minor": 2
}
