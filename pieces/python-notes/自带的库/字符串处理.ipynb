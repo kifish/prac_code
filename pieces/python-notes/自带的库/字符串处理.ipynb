{
 "cells": [
  {
   "cell_type": "code",
   "execution_count": 1,
   "metadata": {},
   "outputs": [
    {
     "name": "stdout",
     "output_type": "stream",
     "text": [
      "2\n"
     ]
    }
   ],
   "source": [
    "s = \"   I like   the Tian'anmen Square    of the Capital Beijing.  \"\n",
    "print(s.count('the'))"
   ]
  },
  {
   "cell_type": "code",
   "execution_count": 2,
   "metadata": {},
   "outputs": [
    {
     "name": "stdout",
     "output_type": "stream",
     "text": [
      "True\n"
     ]
    }
   ],
   "source": [
    "print(\"Beijing\" in s)"
   ]
  },
  {
   "cell_type": "code",
   "execution_count": 3,
   "metadata": {},
   "outputs": [
    {
     "name": "stdout",
     "output_type": "stream",
     "text": [
      "   I like   the Tian'anmen Square    of the Capital Beijing.   |     I like   the Tian'anmen Square    of the Capital Beijing!  \n"
     ]
    }
   ],
   "source": [
    "res = s.replace('.', '!')\n",
    "print(s, \"| \", res)"
   ]
  },
  {
   "cell_type": "code",
   "execution_count": 4,
   "metadata": {},
   "outputs": [
    {
     "name": "stdout",
     "output_type": "stream",
     "text": [
      "   I like   the  | Tian'anmen Square |     of the Capital Beijing.  \n"
     ]
    }
   ],
   "source": [
    "pre, key, post = s.partition(\"Tian'anmen Square\")\n",
    "print(pre,\"|\",key,\"|\",post)"
   ]
  },
  {
   "cell_type": "code",
   "execution_count": 5,
   "metadata": {},
   "outputs": [
    {
     "name": "stdout",
     "output_type": "stream",
     "text": [
      "['I', 'like', 'the', \"Tian'anmen\", 'Square', 'of', 'the', 'Capital', 'Beijing.']\n",
      "['', '', '', 'I', 'like', '', '', 'the', \"Tian'anmen\", 'Square', '', '', '', 'of', 'the', 'Capital', 'Beijing.', '', '']\n"
     ]
    }
   ],
   "source": [
    "print(s.split())\n",
    "print(s.split(\" \"))"
   ]
  },
  {
   "cell_type": "code",
   "execution_count": 6,
   "metadata": {},
   "outputs": [
    {
     "name": "stdout",
     "output_type": "stream",
     "text": [
      "   I Like   The Tian'Anmen Square    Of The Capital Beijing.  \n"
     ]
    }
   ],
   "source": [
    "print(s.title())"
   ]
  },
  {
   "cell_type": "code",
   "execution_count": 7,
   "metadata": {},
   "outputs": [
    {
     "name": "stdout",
     "output_type": "stream",
     "text": [
      "I Like The Tian'anmen Square Of The Capital Beijing.\n"
     ]
    }
   ],
   "source": [
    "import string\n",
    "print(string.capwords(s))"
   ]
  },
  {
   "cell_type": "code",
   "execution_count": 8,
   "metadata": {},
   "outputs": [
    {
     "name": "stdout",
     "output_type": "stream",
     "text": [
      "居中对齐：\n",
      "    I     \n",
      "   like   \n",
      "   the    \n",
      "Tian'anmen\n",
      "  Square  \n",
      "    of    \n",
      "   the    \n",
      " Capital  \n",
      " Beijing. \n"
     ]
    }
   ],
   "source": [
    "word_list = s.split()\n",
    "print(\"居中对齐：\")\n",
    "for word in word_list:\n",
    "    print(word.center(10))"
   ]
  },
  {
   "cell_type": "code",
   "execution_count": 9,
   "metadata": {},
   "outputs": [
    {
     "name": "stdout",
     "output_type": "stream",
     "text": [
      "左对齐\n",
      "I         \n",
      "like      \n",
      "the       \n",
      "Tian'anmen\n",
      "Square    \n",
      "of        \n",
      "the       \n",
      "Capital   \n",
      "Beijing.  \n"
     ]
    }
   ],
   "source": [
    "print(\"左对齐\")\n",
    "for word in word_list:\n",
    "    print(word.ljust(10))"
   ]
  },
  {
   "cell_type": "code",
   "execution_count": 10,
   "metadata": {},
   "outputs": [
    {
     "name": "stdout",
     "output_type": "stream",
     "text": [
      "0填充\n",
      "0000I\n",
      "0like\n",
      "00the\n",
      "Tian'anmen\n",
      "Square\n",
      "000of\n",
      "00the\n",
      "Capital\n",
      "Beijing.\n"
     ]
    }
   ],
   "source": [
    "print(\"0填充\")\n",
    "for word in word_list:\n",
    "    print(word.zfill(5))"
   ]
  },
  {
   "cell_type": "code",
   "execution_count": 11,
   "metadata": {},
   "outputs": [
    {
     "name": "stdout",
     "output_type": "stream",
     "text": [
      "   I like   the Tian'anmen Square    of the Capital Beijing.  \n",
      "I like   the Tian'anmen Square    of the Capital Beijing.\n"
     ]
    }
   ],
   "source": [
    "print(s)\n",
    "print(s.strip())"
   ]
  },
  {
   "cell_type": "markdown",
   "metadata": {},
   "source": [
    "Python strip() 方法用于移除字符串头尾指定的字符（默认为空格）。"
   ]
  },
  {
   "cell_type": "code",
   "execution_count": 1,
   "metadata": {},
   "outputs": [
    {
     "name": "stdout",
     "output_type": "stream",
     "text": [
      "hh \n",
      "hh \n",
      "hh\n"
     ]
    }
   ],
   "source": [
    "a = 'hh '\n",
    "print(a) #hh1个空格\n",
    "a.strip()\n",
    "print(a) #hh1个空格\n",
    "a = a.strip()\n",
    "print(a) #hh"
   ]
  },
  {
   "cell_type": "code",
   "execution_count": 3,
   "metadata": {},
   "outputs": [
    {
     "data": {
      "text/plain": [
       "['', 'H', 'H', 'U', '']"
      ]
     },
     "execution_count": 3,
     "metadata": {},
     "output_type": "execute_result"
    }
   ],
   "source": [
    "' H H U '.split(' ')"
   ]
  },
  {
   "cell_type": "code",
   "execution_count": 4,
   "metadata": {},
   "outputs": [
    {
     "data": {
      "text/plain": [
       "['', 'Hu', 'aH', 'eU', '']"
      ]
     },
     "execution_count": 4,
     "metadata": {},
     "output_type": "execute_result"
    }
   ],
   "source": [
    "' Hu aH eU '.split(' ')"
   ]
  },
  {
   "cell_type": "code",
   "execution_count": 5,
   "metadata": {},
   "outputs": [
    {
     "data": {
      "text/plain": [
       "['', 'Hu', 'aH', 'eU', 'a']"
      ]
     },
     "execution_count": 5,
     "metadata": {},
     "output_type": "execute_result"
    }
   ],
   "source": [
    "' Hu aH eU a'.split(' ')"
   ]
  },
  {
   "cell_type": "code",
   "execution_count": 12,
   "metadata": {},
   "outputs": [
    {
     "name": "stdout",
     "output_type": "stream",
     "text": [
      "   I like   the Tian'anmen Square    of the Capital Beijing.  \n",
      "I like the Tian'anmen Square of the Capital Beijing.\n"
     ]
    }
   ],
   "source": [
    "print(s)\n",
    "print(\" \".join(s.split()))"
   ]
  },
  {
   "cell_type": "code",
   "execution_count": null,
   "metadata": {
    "collapsed": true
   },
   "outputs": [],
   "source": []
  }
 ],
 "metadata": {
  "kernelspec": {
   "display_name": "Python [conda root]",
   "language": "python",
   "name": "conda-root-py"
  },
  "language_info": {
   "codemirror_mode": {
    "name": "ipython",
    "version": 3
   },
   "file_extension": ".py",
   "mimetype": "text/x-python",
   "name": "python",
   "nbconvert_exporter": "python",
   "pygments_lexer": "ipython3",
   "version": "3.6.3"
  }
 },
 "nbformat": 4,
 "nbformat_minor": 2
}
