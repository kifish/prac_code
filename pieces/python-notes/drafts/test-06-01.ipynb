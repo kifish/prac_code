{
 "cells": [
  {
   "cell_type": "code",
   "execution_count": 6,
   "metadata": {},
   "outputs": [
    {
     "name": "stdout",
     "output_type": "stream",
     "text": [
      "病理号                                            8001053877\n",
      "性别                                                      女\n",
      "出生日期                                  1975-08-31 00:00:00\n",
      "报告时间                                  2017-12-27 10:18:00\n",
      "诊断结论      （右肝）中分化肝细胞性癌（M1，MVI小于5个）（肝切缘及周围肝）汇管区慢性炎（肝门部）慢性炎\n",
      "肉眼所见    右肝癌及。免疫组化染色：CK弱（+），Hepa（+），Glypican-3（+），CD34（...\n",
      "Name: 0, dtype: object\n",
      "病理号                                            8001054222\n",
      "性别                                                      男\n",
      "出生日期                                  1969-07-18 00:00:00\n",
      "报告时间                                  2017-12-26 16:55:00\n",
      "诊断结论                        （肝脏）中分化肝细胞性肝癌（周围肝）结节性肝硬化慢性胆囊炎\n",
      "肉眼所见    破碎肝组织一堆，大小：11*8*3cm，其内见一游离的灰白色的质硬结节，大小：1.5*2*1...\n",
      "Name: 1, dtype: object\n",
      "病理号                                              66412201\n",
      "性别                                                      男\n",
      "出生日期                                  1971-12-19 00:00:00\n",
      "报告时间                                  2017-12-25 16:59:00\n",
      "诊断结论    （右肝）中分化肝细胞癌（M1，MVI小于5个）（标本切缘及周围肝）结节性肝硬化慢性胆囊炎伴胆...\n",
      "肉眼所见    肝组织1块，大小12*11*9cm，切面见一灰白色肿块，大小7*6*9cm，肿块脆之易碎。胆...\n",
      "Name: 2, dtype: object\n",
      "病理号                                            8001056645\n",
      "性别                                                      男\n",
      "出生日期                                  1969-02-03 00:00:00\n",
      "报告时间                                  2017-12-25 11:11:00\n",
      "诊断结论          （右肝）中分化肝细胞癌（M1，MVI小于5个）（肝切缘及周围肝）结节性肝硬化慢性胆囊炎\n",
      "肉眼所见    肝癌及胆囊：肝组织一块，大小10*9*5cm，肝切面见一肿块，肿块大小5*4*6cm，肿块一...\n",
      "Name: 3, dtype: object\n",
      "------------\n",
      "Index(['病理号', '性别', '出生日期', '报告时间', '诊断结论', '肉眼所见'], dtype='object')\n"
     ]
    }
   ],
   "source": [
    "import pandas as pd\n",
    "excel_sheet = pd.read_excel('F:\\\\myproject\\\\data\\\\14陆军军医_withTrans.xlsx') \n",
    "for index,row in excel_sheet.iterrows():\n",
    "    if index > 3:\n",
    "        break\n",
    "    print(row)\n",
    "print(\"------------\")\n",
    "#打印列名\n",
    "print(excel_sheet.keys())"
   ]
  },
  {
   "cell_type": "code",
   "execution_count": 8,
   "metadata": {},
   "outputs": [],
   "source": [
    "#self.DICT_PATH = 'F:\\\\myproject\\\\code\\\\emr_dict\\\\cut_dict.txt'"
   ]
  },
  {
   "cell_type": "code",
   "execution_count": 17,
   "metadata": {},
   "outputs": [
    {
     "name": "stdout",
     "output_type": "stream",
     "text": [
      "None\n",
      "None\n",
      "None\n",
      "None\n",
      "<_sre.SRE_Match object; span=(0, 3), match='11%'>\n",
      "None\n"
     ]
    }
   ],
   "source": [
    "import re\n",
    "print(re.match('^[0-9\\-]+%$', ',30,'))\n",
    "print(re.match('^[0-9\\-]+%$', ',30%,'))\n",
    "print(re.match('^[0-9\\-]+%$', ',9%,'))\n",
    "print(re.match('^[0-9\\-]+%$', ',11%'))\n",
    "print(re.match('^[0-9\\-]+%$', '11%'))\n",
    "print(re.match('^[0-9\\-]+$', ',11'))"
   ]
  },
  {
   "cell_type": "code",
   "execution_count": 20,
   "metadata": {},
   "outputs": [
    {
     "name": "stdout",
     "output_type": "stream",
     "text": [
      "abbccd\n",
      "ab#bc#cd\n",
      "['ab', 'bc', 'cd']\n"
     ]
    }
   ],
   "source": [
    "word_list = [\"ab\",\"bc\",\"cd\"]\n",
    "res = \"\".join(word_list)\n",
    "print(res)\n",
    "res2 = \"#\".join(word_list)\n",
    "print(res2)\n",
    "print(res2.split('#'))"
   ]
  },
  {
   "cell_type": "code",
   "execution_count": 21,
   "metadata": {},
   "outputs": [
    {
     "data": {
      "text/plain": [
       "'C:\\\\Users\\\\k'"
      ]
     },
     "execution_count": 21,
     "metadata": {},
     "output_type": "execute_result"
    }
   ],
   "source": [
    "pwd"
   ]
  },
  {
   "cell_type": "code",
   "execution_count": 27,
   "metadata": {},
   "outputs": [
    {
     "name": "stdout",
     "output_type": "stream",
     "text": [
      "{'(左半肝)', '(右肝)', '(肝门部)', '(+)', '(肝脏Ⅵ段)'}\n",
      "None\n"
     ]
    }
   ],
   "source": [
    "file_path = 'F:\\\\myproject\\\\data\\\\14陆军军医_withTrans.xlsx'\n",
    "import pandas as pd\n",
    "excel_sheetexcel_sh  = pd.read_excel(file_path) \n",
    "position_set = set()\n",
    "pos_pattern = re.compile(r'(.*)(\\(.*\\))')  #r 不转义 #这样写没有考虑正则贪婪匹配的问题\n",
    "for index,row in excel_sheet.iterrows():\n",
    "    content = row['诊断结论']\n",
    "    if re.match(pos_pattern,content):\n",
    "        position_set.add(re.match(pos_pattern,content).group(2))\n",
    "        \n",
    "print(position_set)\n",
    "t = '（右肝）中分化肝细胞性癌（M1，MVI小于5个）（肝切缘及周围肝）汇管区慢性炎（肝门部）慢性炎'\n",
    "print(re.match(pos_pattern,t))"
   ]
  },
  {
   "cell_type": "code",
   "execution_count": 31,
   "metadata": {},
   "outputs": [
    {
     "name": "stdout",
     "output_type": "stream",
     "text": [
      "{'(左半肝)', '(右肝)', '(肝门部)', '(+)', '(肝脏Ⅵ段)'}\n",
      "None\n"
     ]
    }
   ],
   "source": [
    "pos_pattern = re.compile(r'(\\(.*?\\))')  #r 不转义 #这样写没有考虑正则贪婪匹配的问题\n",
    "for index,row in excel_sheet.iterrows():\n",
    "    content = row['诊断结论']\n",
    "    if re.match(pos_pattern,content):\n",
    "        position_set.add(re.match(pos_pattern,content).group(1))\n",
    "#加 '?'可实现非贪婪匹配        \n",
    "print(position_set)\n",
    "t = '（右肝）中分化肝细胞性癌（M1，MVI小于5个）（肝切缘及周围肝）汇管区慢性炎（肝门部）慢性炎'\n",
    "print(re.match(pos_pattern,t))"
   ]
  },
  {
   "cell_type": "code",
   "execution_count": 36,
   "metadata": {},
   "outputs": [
    {
     "name": "stdout",
     "output_type": "stream",
     "text": [
      "None\n",
      "<_sre.SRE_Match object; span=(0, 47), match='（右肝）中分化肝细胞性癌（M1，MVI小于5个）（肝切缘及周围肝）汇管区慢性炎（肝门部）慢性炎'>\n"
     ]
    }
   ],
   "source": [
    "pos_pattern = re.compile(r'\\(.*')  #r 不转义 #这样写没有考虑正则贪婪匹配的问题\n",
    "t = '（右肝）中分化肝细胞性癌（M1，MVI小于5个）（肝切缘及周围肝）汇管区慢性炎（肝门部）慢性炎'\n",
    "print(re.match(pos_pattern,t))\n",
    "\n",
    "pos_pattern = re.compile(r'\\（.*')  #r 不转义 #这样写没有考虑正则贪婪匹配的问题\n",
    "t = '（右肝）中分化肝细胞性癌（M1，MVI小于5个）（肝切缘及周围肝）汇管区慢性炎（肝门部）慢性炎'\n",
    "print(re.match(pos_pattern,t))\n",
    "\n",
    "#注意中文英文 括号的问题\n"
   ]
  },
  {
   "cell_type": "code",
   "execution_count": 37,
   "metadata": {},
   "outputs": [
    {
     "name": "stdout",
     "output_type": "stream",
     "text": [
      "{'(左肝肿瘤)', '(右肝)', '(左肝外叶)', '(部分Ⅴ、Ⅵ段肝)', '(胆管内癌栓)', '(右肝Ⅷ、Ⅴ段)', '(肝脏第Ⅷ段)', '(右肝、S4b左肝)', '(肝门部胆管)', '(右后下段)', '(肝脏Ⅵ段)', '(肝管及胆总管)', '(右肝外叶)', '(肝Ⅵ、Ⅶ段)', '(肝门部胆管、肝内胆管)', '(右三肝)', '(肝门部肝组织)', '(超左半肝)', '(肝右前叶)', '(左半肝、左尾状叶)', '(左半肝肝管)', '(肝脏肿瘤)', '(肝脏大肿块)', '(肝4b段+尾状叶)', '(肝左叶、肝右叶)', '(部分肝)', '(肝肿瘤、右肝结节)', '(肝门)', '(肝左三叶)', '(肝尾状叶)', '(肝脏肝门部胆管)', '(肝右叶)', '(左肝Ⅲ段)', '(右肝前叶、肝脏右后叶)', '(肝门部)', '(肝方叶、尾状叶肝门部胆管)', '(左肝、尾状叶)', '(胆管内占位及癌栓)', '(左半肝肝内胆管)', '(左肝叶)', '(肝门部胆管组织)', '(肝)', '(右半肝、尾状叶)', '(右半肝、左内肝、左外肝)', '(左肝Ⅳa段、右肝Ⅵ段)', '(右肝叶)', '(肝脏Ⅷ段)', '(左肝、右肝)', '(左肝外叶、部分Ⅳ段)', '(肝Ⅷ段)', '(右半结肠及右肝)', '(肝Ⅴ段)', '(肝门部胆管、胆囊)', '(病肝)', '(左外肝)', '(肝左尾状叶)', '(肝VIII段肿瘤)', '(“肝癌介入术后”,右半肝)', '(左外叶肝)', '(右侧肝脏)', '(右后胆管、肝门部胆管、右肝管、胆囊颈部)', '(右肝后叶)', '(右肝Ⅵ、Ⅶ段)', '(左肝后叶)', '(病灶)', '(部分肝组织)', '(肝尾叶)', '(左肝胆管)', '(肝肿块)', '(部分Ⅶ、Ⅷ段)', '(肝脏组织)', '(六、七段肝叶)', '(正常肝)', '(肝肿瘤)', '(肝Ⅶ)', '(左肝外叶、尾状叶)', '(右后叶)', '(右肝、左肝)', '(肝Ⅵ段)', '(胆总管)', '(胆管壁)', '(胆囊及肝占位)', '(左外叶)', '(超左半肝+部分八段包块)', '(肝第Ⅶ段)', '(右肝Ⅵ段)', '(左半肝及尾状叶)', '(右肝Ⅴ段)', '(右肝+尾状叶)', '(右肝Ⅷ段)', '(肝右后叶)', '(送检胆管组织及冰余胆管壁组织1、2)', '(Ⅵ段肝)', '(右)', '(肝部分Ⅵ、Ⅶ段)', '(肝脏Ⅶ段)', '(左半肝、左肝结节)', '(胆管和肝)', '(肝占位组织)', '(右后叶肝脏)', '(肝总管)', '(右半肝+尾状叶)', '(胆管下段)', '(左、右肝包块)', '(肝Ⅳb段)', '(肝胆管)', '(肝左外叶)', '(肿瘤)', '(肝总管、左肝管、右肝管)', '(左肝Ⅳ段)', '(胆囊管)', '(右肝Ⅴ、Ⅷ段)', '(肝脏结节1、2)', '(左半肝+左尾状叶)', '(肝门部组织)', '(肝门部肝总管)', '(右前半肝)', '(肝总管、肝门部胆管)', '(肝脏占位)', '(胆管中下段)', '(中肝叶、肝脏左内叶)', '(肝组织)', '(左外叶、右肝)', '(肝内)', '(肝右叶及尾叶)', '(肝脏包块)', '(肝门部胆管内肿瘤)', '(肝左外叶Ⅱ段)', '(右肝实质肿瘤)', '(肝左叶)', '(左半肝Ⅶ段)', '(胆管)', '(肝脏Ⅴ、Ⅷ段)', '(超左半肝、尾状叶、右肝)', '(肝脏Ⅷ、Ⅴ、Ⅳ段)', '(肝门部胆肠吻合口)', '(肝左叶、尾状叶)', '(肝Ⅳ、Ⅴ、Ⅷ段)', '(肝脏大结节)', '(肝脏Ⅵ、Ⅶ段)', '(正常肝组织)', '(肝脏左外叶)', '(左内叶)', '(左半肝肝门部胆管)', '(右肝5段)', '(肝穿组织)', '(左肝内叶)', '(左半肝胆管)', '(右肝占位)', '(+)', '(Ⅳ、Ⅴ段肝)', '(右半肝)', '(右肝前叶)', '(右肝Ⅶ段)', '(胆囊)', '(冰送胆总管,送检肝外胆管)', '(右肝+尾状叶右半)', '(左半肝、肝Ⅴ段)', '(肝脏)', '(右肝Ⅳ段)', '(肝肿瘤组织)', '(尾状叶)', '(肝Ⅳ段)', '(肝门部胆管、胆总管)', '(右肝肿块)', '(左半肝、Ⅶ段腹侧)', '(肝Ⅷ、尾状叶)', '(右半肝肝门部)', '(左尾状叶)', '(肝右后叶下段)', '(肝左外叶、右前叶)', '(肝内胆管肿物)', '(肝v段)', '(中肝)', '(左、右肝)', '(肝方叶、尾状叶)', '(右肝肿瘤)', '(肝Ⅶ、Ⅷ段)', '(右肝正常)', '(尾叶)', '(肝脏结节)', '(左半肝)', '(肝Ⅶ段)', '(右肝后叶上段)', '(肝Ⅲ、Ⅳ段)', '(右后叶、Ⅳ段)', '(胆管内组织)', '(肝右三叶)', '(右肝Ⅳ、Ⅵ、Ⅶ段)', '(肝ⅡⅢ段)', '(肝ⅣB段)', '(肿瘤组织)', '(肝门部、胆囊颈、十二指肠)', '(右半肝、左肝管)', '(肝脏右后叶)', '(肝Ⅴ、Ⅵ段)', '(胆总管下段、肝门部胆管)', '(肝门部肿块、左肝包块)', '(右肝Ⅵ段、小肝癌组织)', '(胆管中段)', '(左肝外叶、右肝8段)', '(右肝、胆管内容物)', '(右肝大结节)', '(穿刺肝癌组织)', '(右肝尾状叶)', '(右肝Ⅴ、Ⅵ段)', '(右后肝脏)', '(左半肝,右肝)', '(部分Ⅵ、Ⅶ段肝)', '(肝中叶)', '(肝脏S8)', '(部分Ⅳ、Ⅴ段肝组织及胆囊)', '(左肝外叶,部分Ⅵ、Ⅷ段肝组织)', '(肝脏病变组织)', '(肝穿病灶组织)', '(左肝)', '(左半肝、肝门部胆管)', '(右肝介入术后)', '(胆囊、肝)', '(左半肝、右肝)', '(肝脏ⅦⅧ段)', '(左半肝+尾状叶)', '(左肝包块)', '(右肝S6、S7)', '(肝脏Ⅴ段)', '(肝Ⅴ、Ⅷ段)', '(左半肝肝门部)', '(右肝癌组织)', '(左半肝、尾状叶)', '(右肝癌介入术后)', '(肝Ⅱ段)'}\n"
     ]
    }
   ],
   "source": [
    "def DBC2SBC(input_str):\n",
    "    output_str = \"\"\n",
    "    for uchar in input_str:\n",
    "        inside_code = ord(uchar)\n",
    "        if inside_code == 0x3000:   #如果是空格直接替换\n",
    "            inside_code = 0x0020\n",
    "        elif (inside_code >= 65281 and inside_code <= 65374):\n",
    "            inside_code -= 0xfee0\n",
    "        output_str += chr(inside_code)\n",
    "    return output_str\n",
    "\n",
    "pos_pattern = re.compile(r'(\\(.*?\\))') \n",
    "for index,row in excel_sheet.iterrows():\n",
    "    content = row['诊断结论']\n",
    "    content = DBC2SBC(content)\n",
    "    if re.match(pos_pattern,content):\n",
    "        position_set.add(re.match(pos_pattern,content).group(1))\n",
    "#加 '?'可实现非贪婪匹配        \n",
    "print(position_set)"
   ]
  },
  {
   "cell_type": "code",
   "execution_count": 38,
   "metadata": {},
   "outputs": [
    {
     "name": "stdout",
     "output_type": "stream",
     "text": [
      "231\n"
     ]
    }
   ],
   "source": [
    "print(len(position_set))"
   ]
  },
  {
   "cell_type": "code",
   "execution_count": 1,
   "metadata": {},
   "outputs": [
    {
     "data": {
      "text/plain": [
       "[\"'hh'\", \"'a'\"]"
      ]
     },
     "execution_count": 1,
     "metadata": {},
     "output_type": "execute_result"
    }
   ],
   "source": [
    "\"'hh','a'\".split(',')"
   ]
  },
  {
   "cell_type": "code",
   "execution_count": 3,
   "metadata": {},
   "outputs": [],
   "source": [
    "res = \"肝组织\", \"1个\", \",\", \"大小\", \"16×10×8CM\", \",\", \"已\", \"被\", \"切开\", \",\", \"距\", \"切缘\", \"2CM\", \"处\", \"可见\", \"一\", \"灰白色\", \"肿块\", \",\", \"大小\", \"8×7×6CM\", \",\", \"肿块\", \"切面\", \"灰白\", \"灰褐色\", \"质软\", \",\", \"见\", \"出血\", \"坏死\", \"明显\", \";\", \"胆囊\", \"一条\", \",\", \"长\", \"6CM\", \",\", \"直径\", \"2.8CM\", \",\", \"壁厚\", \"0.2CM\", \",\", \"粘膜\", \"粗糙\", \";\", \"总蜡块\", \"数\", \"6块\", \"\\n\", \"\\n\", \"镜检\", \":\", \"送检\", \"肝脏切除标本\", \"于\", \"肿块\", \"处\", \"取材\", \"见\", \"癌组织\", \",\", \"癌细胞\", \"多边形\", \",\", \"胞浆\", \"丰富\", \",\", \"嗜\", \"酸性\", \"或\", \"淡染\", \",\", \"核\", \"圆形\", \"、\", \"卵圆形\", \",\", \"深染\", \",\", \"异型\", \"性\", \"明显\", \",\", \"可见\", \"核分裂象\", \",\", \"癌细胞\", \"梁型\", \"或\", \"团片型\", \"排列\", \",\", \"间质\", \"血窦\", \"丰富\", \";\", \"肝\", \"切缘\", \"及\", \"周围肝\", \"组织\", \"肝细胞\", \"结节状\", \"增生\", \",\", \"汇管区\", \"纤维\", \"增生\", \";\", \"胆囊\", \"组织\", \"显\", \"慢性炎\", \";\", \"免疫组化\", \"染色\", \":\", \"CK\", \"+\", \"+\", \"对照\", \"+\", \",\", \"GPC-3\", \"+\", \"+\", \"对照\", \"+\", \",\", \"CD34\", \"血管\", \"+\", \"+\", \"对照\", \"+\", \",\", \"AFP\", \"-\", \"+\", \"对照\", \"+\", \",\", \"CK8/18\", \"+\", \"+\", \"对照\", \"+\", \",\", \"HEPA\", \"+\", \"+\", \"对照\", \"+\", \",\", \"CK19\", \"-\", \"+\", \"对照\", \"+\", \",\", \"KI-67\", \"阳性细胞\", \"数\", \"5%\", \"、\", \"+\", \"对照\", \"+\", \";\".split(',')"
   ]
  },
  {
   "cell_type": "code",
   "execution_count": 4,
   "metadata": {},
   "outputs": [
    {
     "name": "stdout",
     "output_type": "stream",
     "text": [
      "<class 'tuple'>\n"
     ]
    }
   ],
   "source": [
    "print(type(res))"
   ]
  },
  {
   "cell_type": "code",
   "execution_count": 5,
   "metadata": {},
   "outputs": [
    {
     "name": "stdout",
     "output_type": "stream",
     "text": [
      "<class 'list'>\n"
     ]
    }
   ],
   "source": [
    "res = list(res)\n",
    "print(type(res))"
   ]
  },
  {
   "cell_type": "code",
   "execution_count": 6,
   "metadata": {},
   "outputs": [
    {
     "name": "stdout",
     "output_type": "stream",
     "text": [
      "['肝组织', '1个', ',', '大小', '16×10×8CM', ',', '已', '被', '切开', ',', '距', '切缘', '2CM', '处', '可见', '一', '灰白色', '肿块', ',', '大小', '8×7×6CM', ',', '肿块', '切面', '灰白', '灰褐色', '质软', ',', '见', '出血', '坏死', '明显', ';', '胆囊', '一条', ',', '长', '6CM', ',', '直径', '2.8CM', ',', '壁厚', '0.2CM', ',', '粘膜', '粗糙', ';', '总蜡块', '数', '6块', '\\n', '\\n', '镜检', ':', '送检', '肝脏切除标本', '于', '肿块', '处', '取材', '见', '癌组织', ',', '癌细胞', '多边形', ',', '胞浆', '丰富', ',', '嗜', '酸性', '或', '淡染', ',', '核', '圆形', '、', '卵圆形', ',', '深染', ',', '异型', '性', '明显', ',', '可见', '核分裂象', ',', '癌细胞', '梁型', '或', '团片型', '排列', ',', '间质', '血窦', '丰富', ';', '肝', '切缘', '及', '周围肝', '组织', '肝细胞', '结节状', '增生', ',', '汇管区', '纤维', '增生', ';', '胆囊', '组织', '显', '慢性炎', ';', '免疫组化', '染色', ':', 'CK', '+', '+', '对照', '+', ',', 'GPC-3', '+', '+', '对照', '+', ',', 'CD34', '血管', '+', '+', '对照', '+', ',', 'AFP', '-', '+', '对照', '+', ',', 'CK8/18', '+', '+', '对照', '+', ',', 'HEPA', '+', '+', '对照', '+', ',', 'CK19', '-', '+', '对照', '+', ',', 'KI-67', '阳性细胞', '数', '5%', '、', '+', '对照', '+', [';']]\n"
     ]
    }
   ],
   "source": [
    "print(res)"
   ]
  },
  {
   "cell_type": "code",
   "execution_count": 8,
   "metadata": {},
   "outputs": [
    {
     "data": {
      "text/plain": [
       "\"'\""
      ]
     },
     "execution_count": 8,
     "metadata": {},
     "output_type": "execute_result"
    }
   ],
   "source": [
    "str('\\'')"
   ]
  },
  {
   "cell_type": "code",
   "execution_count": 9,
   "metadata": {},
   "outputs": [
    {
     "data": {
      "text/plain": [
       "'\"'"
      ]
     },
     "execution_count": 9,
     "metadata": {},
     "output_type": "execute_result"
    }
   ],
   "source": [
    "str('\\\"')"
   ]
  },
  {
   "cell_type": "code",
   "execution_count": 10,
   "metadata": {},
   "outputs": [
    {
     "data": {
      "text/plain": [
       "'CM'"
      ]
     },
     "execution_count": 10,
     "metadata": {},
     "output_type": "execute_result"
    }
   ],
   "source": [
    "x = 'cm'\n",
    "x.upper()\n"
   ]
  },
  {
   "cell_type": "code",
   "execution_count": 11,
   "metadata": {},
   "outputs": [
    {
     "ename": "NameError",
     "evalue": "name 'add' is not defined",
     "output_type": "error",
     "traceback": [
      "\u001b[1;31m---------------------------------------------------------------------------\u001b[0m",
      "\u001b[1;31mNameError\u001b[0m                                 Traceback (most recent call last)",
      "\u001b[1;32m<ipython-input-11-2e8e00ead54c>\u001b[0m in \u001b[0;36m<module>\u001b[1;34m()\u001b[0m\n\u001b[1;32m----> 1\u001b[1;33m \u001b[0madd\u001b[0m\u001b[1;33m(\u001b[0m\u001b[1;36m1\u001b[0m\u001b[1;33m,\u001b[0m\u001b[1;36m1\u001b[0m\u001b[1;33m)\u001b[0m\u001b[1;33m\u001b[0m\u001b[0m\n\u001b[0m",
      "\u001b[1;31mNameError\u001b[0m: name 'add' is not defined"
     ]
    }
   ],
   "source": [
    "add(1,1)"
   ]
  },
  {
   "cell_type": "code",
   "execution_count": 21,
   "metadata": {},
   "outputs": [
    {
     "name": "stdout",
     "output_type": "stream",
     "text": [
      "12\n"
     ]
    }
   ],
   "source": [
    "import re\n",
    "digits = re.search('\\d+', '12个')\n",
    "if digits:\n",
    "    print(digits.group(0))"
   ]
  },
  {
   "cell_type": "code",
   "execution_count": 27,
   "metadata": {},
   "outputs": [
    {
     "name": "stdout",
     "output_type": "stream",
     "text": [
      "<class 'str'>\n",
      "12\n",
      "<class 'int'>\n",
      "12\n"
     ]
    }
   ],
   "source": [
    "import re\n",
    "digits = re.search('\\d+', '12个')\n",
    "if digits:\n",
    "    res = digits.group()\n",
    "    print(type(res))\n",
    "    print(res)\n",
    "    res = int(res)\n",
    "    print(type(res))\n",
    "    print(res)"
   ]
  },
  {
   "cell_type": "code",
   "execution_count": 25,
   "metadata": {},
   "outputs": [],
   "source": [
    "#group()  group(0) 是等价的"
   ]
  },
  {
   "cell_type": "code",
   "execution_count": 29,
   "metadata": {},
   "outputs": [
    {
     "data": {
      "text/plain": [
       "False"
      ]
     },
     "execution_count": 29,
     "metadata": {},
     "output_type": "execute_result"
    }
   ],
   "source": [
    "'' > '-1'"
   ]
  },
  {
   "cell_type": "code",
   "execution_count": 30,
   "metadata": {},
   "outputs": [
    {
     "data": {
      "text/plain": [
       "<_sre.SRE_Match object; span=(0, 1), match='-'>"
      ]
     },
     "execution_count": 30,
     "metadata": {},
     "output_type": "execute_result"
    }
   ],
   "source": [
    "re.match('\\-','-2')"
   ]
  },
  {
   "cell_type": "code",
   "execution_count": 32,
   "metadata": {},
   "outputs": [
    {
     "data": {
      "text/plain": [
       "'3*4*5'"
      ]
     },
     "execution_count": 32,
     "metadata": {},
     "output_type": "execute_result"
    }
   ],
   "source": [
    "re.match('\\d\\*\\d\\*\\d(?!CM)','3*4*5*CM').group()"
   ]
  },
  {
   "cell_type": "code",
   "execution_count": 33,
   "metadata": {},
   "outputs": [
    {
     "data": {
      "text/plain": [
       "'3*4*5'"
      ]
     },
     "execution_count": 33,
     "metadata": {},
     "output_type": "execute_result"
    }
   ],
   "source": [
    "re.match('\\d\\*\\d\\*\\d(?!C)','3*4*5*CM').group()"
   ]
  },
  {
   "cell_type": "code",
   "execution_count": null,
   "metadata": {},
   "outputs": [],
   "source": []
  },
  {
   "cell_type": "code",
   "execution_count": 36,
   "metadata": {},
   "outputs": [],
   "source": [
    "re.match('\\d\\*\\d\\*\\d(?!CM)','3*4*5CM')"
   ]
  },
  {
   "cell_type": "code",
   "execution_count": 37,
   "metadata": {},
   "outputs": [
    {
     "data": {
      "text/plain": [
       "<_sre.SRE_Match object; span=(0, 5), match='3*4*5'>"
      ]
     },
     "execution_count": 37,
     "metadata": {},
     "output_type": "execute_result"
    }
   ],
   "source": [
    "re.match('\\d\\*\\d\\*\\d(?!CM)','3*4*5')"
   ]
  },
  {
   "cell_type": "code",
   "execution_count": 38,
   "metadata": {},
   "outputs": [
    {
     "data": {
      "text/plain": [
       "<_sre.SRE_Match object; span=(0, 5), match='3*4*5'>"
      ]
     },
     "execution_count": 38,
     "metadata": {},
     "output_type": "execute_result"
    }
   ],
   "source": [
    "re.match('(?P<mystr>\\d\\*\\d\\*\\d(?!CM))','3*4*5')"
   ]
  },
  {
   "cell_type": "code",
   "execution_count": 42,
   "metadata": {},
   "outputs": [
    {
     "name": "stdout",
     "output_type": "stream",
     "text": [
      "3*4*5\n",
      "3*4*5CM\n"
     ]
    }
   ],
   "source": [
    "test = '3*4*5'\n",
    "test2 = re.sub('(?P<mystr>\\d\\*\\d\\*\\d(?!CM))','\\g<mystr>' + 'CM',test)\n",
    "print(test)\n",
    "print(test2)"
   ]
  },
  {
   "cell_type": "code",
   "execution_count": 43,
   "metadata": {},
   "outputs": [
    {
     "name": "stdout",
     "output_type": "stream",
     "text": [
      "肝脏组织一块，大小10*9*5cm，肝被膜下见一大小6.5*5*5的包块，肿块切面灰白灰黄色，坏死明显，总蜡块数5块\n",
      "肝脏组织一块，大小10*9*5CMcm，肝被膜下见一大小6.5*5*5CM的包块，肿块切面灰白灰黄色，坏死明显，总蜡块数5块\n"
     ]
    }
   ],
   "source": [
    "test = '肝脏组织一块，大小10*9*5cm，肝被膜下见一大小6.5*5*5的包块，肿块切面灰白灰黄色，坏死明显，总蜡块数5块'\n",
    "test2 = re.sub('(?P<mystr>\\d\\*\\d\\*\\d(?!CM))','\\g<mystr>' + 'CM',test)\n",
    "print(test)\n",
    "print(test2)"
   ]
  },
  {
   "cell_type": "code",
   "execution_count": null,
   "metadata": {},
   "outputs": [],
   "source": [
    "#其实这里是 从'6.5'的'5'开始匹配的"
   ]
  },
  {
   "cell_type": "code",
   "execution_count": 50,
   "metadata": {},
   "outputs": [
    {
     "name": "stdout",
     "output_type": "stream",
     "text": [
      "肝脏组织一块，大小10*9*5cm，肝被膜下见一大小6.5*5.5*5的包块，肿块切面灰白灰黄色，坏死明显，总蜡块数5块\n",
      "肝脏组织一块，大小10*9*5CMcm，肝被膜下见一大小6.5*5.5*5的包块，肿块切面灰白灰黄色，坏死明显，总蜡块数5块\n"
     ]
    }
   ],
   "source": [
    "test = '肝脏组织一块，大小10*9*5cm，肝被膜下见一大小6.5*5.5*5的包块，肿块切面灰白灰黄色，坏死明显，总蜡块数5块'\n",
    "test2 = re.sub('(?P<mystr>\\d\\*\\d\\*\\d(?!CM))','\\g<mystr>' + 'CM',test)\n",
    "print(test)\n",
    "print(test2)"
   ]
  },
  {
   "cell_type": "code",
   "execution_count": 44,
   "metadata": {},
   "outputs": [
    {
     "name": "stdout",
     "output_type": "stream",
     "text": [
      "右肝肿瘤及胆囊：肝组织一块，大小9*6*5cm，已被切开，切面可见一大小4*3.52*3cm的圆形肿块，肿块切面灰白色质软，可见出血，坏死，另见胆囊一条，长7，直径3cm，壁厚0.3cm。共6个蜡块。\n",
      "右肝肿瘤及胆囊：肝组织一块，大小9*6*5CMcm，已被切开，切面可见一大小4*3.52*3cm的圆形肿块，肿块切面灰白色质软，可见出血，坏死，另见胆囊一条，长7，直径3cm，壁厚0.3cm。共6个蜡块。\n"
     ]
    }
   ],
   "source": [
    "test = '右肝肿瘤及胆囊：肝组织一块，大小9*6*5cm，已被切开，切面可见一大小4*3.52*3cm的圆形肿块，肿块切面灰白色质软，可见出血，坏死，另见胆囊一条，长7，直径3cm，壁厚0.3cm。共6个蜡块。'\n",
    "test2 = re.sub('(?P<mystr>\\d\\*\\d\\*\\d(?!CM))','\\g<mystr>' + 'CM',test)\n",
    "print(test)\n",
    "print(test2)"
   ]
  },
  {
   "cell_type": "code",
   "execution_count": 45,
   "metadata": {},
   "outputs": [
    {
     "name": "stdout",
     "output_type": "stream",
     "text": [
      "右肝肿瘤及胆囊：肝组织一块，大小9*6*5CM，已被切开，切面可见一大小4*3.52*3CM的圆形肿块，肿块切面灰白色质软，可见出血，坏死，另见胆囊一条，长7，直径3CM，壁厚0.3CM。共6个蜡块。\n",
      "右肝肿瘤及胆囊：肝组织一块，大小9*6*5CM，已被切开，切面可见一大小4*3.52*3CM的圆形肿块，肿块切面灰白色质软，可见出血，坏死，另见胆囊一条，长7，直径3CM，壁厚0.3CM。共6个蜡块。\n"
     ]
    }
   ],
   "source": [
    "test = '右肝肿瘤及胆囊：肝组织一块，大小9*6*5cm，已被切开，切面可见一大小4*3.52*3cm的圆形肿块，肿块切面灰白色质软，可见出血，坏死，另见胆囊一条，长7，直径3cm，壁厚0.3cm。共6个蜡块。'\n",
    "test = test.upper()\n",
    "test2 = re.sub('(?P<mystr>\\d\\*\\d\\*\\d(?!CM))','\\g<mystr>' + 'CM',test)\n",
    "print(test)\n",
    "print(test2)"
   ]
  },
  {
   "cell_type": "code",
   "execution_count": 46,
   "metadata": {},
   "outputs": [
    {
     "name": "stdout",
     "output_type": "stream",
     "text": [
      "右肝肿瘤及胆囊：肝组织一块，大小9*6*5cm，已被切开，切面可见一大小4*3.52*3cm的圆形肿块，肿块切面灰白色质软，可见出血，坏死，另见胆囊一条，长7，直径3cm，壁厚0.3cm。共6个蜡块。\n",
      "右肝肿瘤及胆囊：肝组织一块，大小9*6CM*5cm，已被切开，切面可见一大小4*3CM.52*3CMcm的圆形肿块，肿块切面灰白色质软，可见出血，坏死，另见胆囊一条，长7，直径3cm，壁厚0.3cm。共6个蜡块。\n"
     ]
    }
   ],
   "source": [
    "test = '右肝肿瘤及胆囊：肝组织一块，大小9*6*5cm，已被切开，切面可见一大小4*3.52*3cm的圆形肿块，肿块切面灰白色质软，可见出血，坏死，另见胆囊一条，长7，直径3cm，壁厚0.3cm。共6个蜡块。'\n",
    "test2 = re.sub('(?P<mystr>[\\d\\.]*\\d\\*\\d(?!CM))','\\g<mystr>' + 'CM',test)\n",
    "print(test)\n",
    "print(test2)"
   ]
  },
  {
   "cell_type": "code",
   "execution_count": null,
   "metadata": {},
   "outputs": [],
   "source": [
    "#不转义点号也是一个常见的错误。一个没有转义的点号将匹配任何字符，包括点号。"
   ]
  },
  {
   "cell_type": "code",
   "execution_count": null,
   "metadata": {},
   "outputs": [],
   "source": [
    "#还得考虑浮点数的问题"
   ]
  },
  {
   "cell_type": "code",
   "execution_count": 47,
   "metadata": {},
   "outputs": [
    {
     "name": "stdout",
     "output_type": "stream",
     "text": [
      "右肝肿瘤及胆囊：肝组织一块，大小9*6*5cm，已被切开，切面可见一大小4*3.52*3cm的圆形肿块，肿块切面灰白色质软，可见出血，坏死，另见胆囊一条，长7，直径3cm，壁厚0.3cm。共6个蜡块。\n",
      "右肝肿瘤及胆囊：肝组织一块，大小9*6CM*5cm，已被切开，切面可见一大小4*3CM.52*3CMcm的圆形肿块，肿块切面灰白色质软，可见出血，坏死，另见胆囊一条，长7，直径3cm，壁厚0.3cm。共6个蜡块。\n"
     ]
    }
   ],
   "source": [
    "test = '右肝肿瘤及胆囊：肝组织一块，大小9*6*5cm，已被切开，切面可见一大小4*3.52*3cm的圆形肿块，肿块切面灰白色质软，可见出血，坏死，另见胆囊一条，长7，直径3cm，壁厚0.3cm。共6个蜡块。'\n",
    "test2 = re.sub(r'(?P<mystr>[\\d\\.]*\\d\\*\\d(?!CM))','\\g<mystr>' + 'CM',test)\n",
    "print(test)\n",
    "print(test2)"
   ]
  },
  {
   "cell_type": "markdown",
   "metadata": {},
   "source": [
    "与大多数编程语言相同，正则表达式里使用\"\\\"作为转义字符，这就可能造成反斜杠困扰。假如你需要匹配文本中的字符\"\\\"，那么使用编程语言表示的正则表达式里将需要4个反斜杠\"\\\\\\\\\"：前两个和后两个分别用于在编程语言里转义成反斜杠，转换成两个反斜杠后再在正则表达式里转义成一个反斜杠。Python里的原生字符串很好地解决了这个问题，这个例子中的正则表达式可以使用r\"\\\\\"表示。同样，匹配一个数字的\"\\\\d\"可以写成r\"\\d\"。有了原生字符串，你再也不用担心是不是漏写了反斜杠，写出来的表达式也更直观。"
   ]
  },
  {
   "cell_type": "code",
   "execution_count": 48,
   "metadata": {},
   "outputs": [
    {
     "name": "stdout",
     "output_type": "stream",
     "text": [
      "肝脏组织一块，大小10*9*5cm，肝被膜下见一大小6.5*5*5的包块，肿块切面灰白灰黄色，坏死明显，总蜡块数5块\n",
      "肝脏组织一块，大小10*9*5CMcm，肝被膜下见一大小6.5*5*5CM的包块，肿块切面灰白灰黄色，坏死明显，总蜡块数5块\n"
     ]
    }
   ],
   "source": [
    "test = '肝脏组织一块，大小10*9*5cm，肝被膜下见一大小6.5*5*5的包块，肿块切面灰白灰黄色，坏死明显，总蜡块数5块'\n",
    "test2 = re.sub('(?P<mystr>\\d[\\.\\d]*\\*\\d[\\.\\d]*\\*\\d[\\.\\d]*(?!CM))','\\g<mystr>' + 'CM',test)\n",
    "print(test)\n",
    "print(test2)"
   ]
  },
  {
   "cell_type": "code",
   "execution_count": 49,
   "metadata": {},
   "outputs": [
    {
     "name": "stdout",
     "output_type": "stream",
     "text": [
      "肝脏组织一块，大小10*9*5CM，肝被膜下见一大小6.5*5*5的包块，肿块切面灰白灰黄色，坏死明显，总蜡块数5块\n",
      "肝脏组织一块，大小10*9*5CM，肝被膜下见一大小6.5*5*5CM的包块，肿块切面灰白灰黄色，坏死明显，总蜡块数5块\n"
     ]
    }
   ],
   "source": [
    "test = '肝脏组织一块，大小10*9*5CM，肝被膜下见一大小6.5*5*5的包块，肿块切面灰白灰黄色，坏死明显，总蜡块数5块'\n",
    "test2 = re.sub('(?P<mystr>\\d[\\.\\d]*\\*\\d[\\.\\d]*\\*\\d[\\.\\d]*(?!CM))','\\g<mystr>' + 'CM',test)\n",
    "print(test)\n",
    "print(test2)"
   ]
  },
  {
   "cell_type": "code",
   "execution_count": 51,
   "metadata": {},
   "outputs": [
    {
     "name": "stdout",
     "output_type": "stream",
     "text": [
      "肝脏组织一块，大小10.979*9.18*5CM，肝被膜下见一大小6.5*5*5的包块，肿块切面灰白灰黄色，坏死明显，总蜡块数5块\n",
      "肝脏组织一块，大小10.979*9.18*5CM，肝被膜下见一大小6.5*5*5CM的包块，肿块切面灰白灰黄色，坏死明显，总蜡块数5块\n"
     ]
    }
   ],
   "source": [
    "test = '肝脏组织一块，大小10.979*9.18*5CM，肝被膜下见一大小6.5*5*5的包块，肿块切面灰白灰黄色，坏死明显，总蜡块数5块'\n",
    "test2 = re.sub('(?P<mystr>\\d[\\.\\d]*\\*\\d[\\.\\d]*\\*\\d[\\.\\d]*(?!CM))','\\g<mystr>' + 'CM',test)\n",
    "print(test)\n",
    "print(test2)"
   ]
  },
  {
   "cell_type": "code",
   "execution_count": 52,
   "metadata": {},
   "outputs": [],
   "source": [
    "#re.sub()有5个函数，三个必选参数pattern,repl,string；两个可选参数count,flags"
   ]
  },
  {
   "cell_type": "code",
   "execution_count": 53,
   "metadata": {},
   "outputs": [
    {
     "name": "stdout",
     "output_type": "stream",
     "text": [
      "10\n"
     ]
    }
   ],
   "source": [
    "x = '10.0'\n",
    "if '.0' in x:\n",
    "    print(x[:-2])\n"
   ]
  },
  {
   "cell_type": "code",
   "execution_count": null,
   "metadata": {},
   "outputs": [],
   "source": []
  }
 ],
 "metadata": {
  "kernelspec": {
   "display_name": "Python 3",
   "language": "python",
   "name": "python3"
  },
  "language_info": {
   "codemirror_mode": {
    "name": "ipython",
    "version": 3
   },
   "file_extension": ".py",
   "mimetype": "text/x-python",
   "name": "python",
   "nbconvert_exporter": "python",
   "pygments_lexer": "ipython3",
   "version": "3.6.4"
  }
 },
 "nbformat": 4,
 "nbformat_minor": 2
}
