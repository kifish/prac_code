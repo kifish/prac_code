{
 "cells": [
  {
   "cell_type": "code",
   "execution_count": 22,
   "metadata": {},
   "outputs": [],
   "source": [
    "city_dict = dict()\n",
    "city_province_set = set()\n",
    "def loadCity(file_path):\n",
    "    with open(file_path, mode='r', encoding='utf8') as file:\n",
    "        for line in file:\n",
    "            line = line.strip()\n",
    "            if not line:\n",
    "                continue\n",
    "            fields = line.split('\\t')\n",
    "            assert len(fields) >= 2, 'line error' + ' '+ line\n",
    "            city = fields[1]\n",
    "            province = fields[0]\n",
    "            city_dict[city] = province\n",
    "            city_province_set.add(city)\n",
    "            city_province_set.add(province)"
   ]
  },
  {
   "cell_type": "code",
   "execution_count": 17,
   "metadata": {},
   "outputs": [
    {
     "data": {
      "text/plain": [
       "1"
      ]
     },
     "execution_count": 17,
     "metadata": {},
     "output_type": "execute_result"
    }
   ],
   "source": [
    "path = 'F:\\\\bufproject\\\\dict.txt'\n",
    "import os\n",
    "os.system('cat F:\\\\bufproject\\\\dict.txt')\n",
    "\n",
    "#According to Windows docs, you've got 1, because there was an error on your command."
   ]
  },
  {
   "cell_type": "code",
   "execution_count": 18,
   "metadata": {},
   "outputs": [
    {
     "ename": "FileNotFoundError",
     "evalue": "[WinError 2] 系统找不到指定的文件。",
     "output_type": "error",
     "traceback": [
      "\u001b[1;31m---------------------------------------------------------------------------\u001b[0m",
      "\u001b[1;31mFileNotFoundError\u001b[0m                         Traceback (most recent call last)",
      "\u001b[1;32m<ipython-input-18-ee2888c22413>\u001b[0m in \u001b[0;36m<module>\u001b[1;34m()\u001b[0m\n\u001b[0;32m      3\u001b[0m \u001b[0mshell_cmd\u001b[0m \u001b[1;33m=\u001b[0m \u001b[1;34m'cat F:/bufproject/dict.txt'\u001b[0m\u001b[1;33m\u001b[0m\u001b[0m\n\u001b[0;32m      4\u001b[0m \u001b[0mcmd\u001b[0m \u001b[1;33m=\u001b[0m \u001b[0mshlex\u001b[0m\u001b[1;33m.\u001b[0m\u001b[0msplit\u001b[0m\u001b[1;33m(\u001b[0m\u001b[0mshell_cmd\u001b[0m\u001b[1;33m)\u001b[0m\u001b[1;33m\u001b[0m\u001b[0m\n\u001b[1;32m----> 5\u001b[1;33m \u001b[0mp\u001b[0m \u001b[1;33m=\u001b[0m \u001b[0msubprocess\u001b[0m\u001b[1;33m.\u001b[0m\u001b[0mPopen\u001b[0m\u001b[1;33m(\u001b[0m\u001b[0mcmd\u001b[0m\u001b[1;33m,\u001b[0m \u001b[0mshell\u001b[0m\u001b[1;33m=\u001b[0m\u001b[1;32mFalse\u001b[0m\u001b[1;33m,\u001b[0m \u001b[0mstdout\u001b[0m\u001b[1;33m=\u001b[0m\u001b[0msubprocess\u001b[0m\u001b[1;33m.\u001b[0m\u001b[0mPIPE\u001b[0m\u001b[1;33m)\u001b[0m\u001b[1;33m\u001b[0m\u001b[0m\n\u001b[0m\u001b[0;32m      6\u001b[0m \u001b[1;32mwhile\u001b[0m \u001b[0mp\u001b[0m\u001b[1;33m.\u001b[0m\u001b[0mpoll\u001b[0m\u001b[1;33m(\u001b[0m\u001b[1;33m)\u001b[0m \u001b[1;32mis\u001b[0m \u001b[1;32mNone\u001b[0m\u001b[1;33m:\u001b[0m\u001b[1;33m\u001b[0m\u001b[0m\n\u001b[0;32m      7\u001b[0m     \u001b[0mline\u001b[0m \u001b[1;33m=\u001b[0m \u001b[0mp\u001b[0m\u001b[1;33m.\u001b[0m\u001b[0mstdout\u001b[0m\u001b[1;33m.\u001b[0m\u001b[0mreadline\u001b[0m\u001b[1;33m(\u001b[0m\u001b[1;33m)\u001b[0m\u001b[1;33m\u001b[0m\u001b[0m\n",
      "\u001b[1;32mE:\\conda\\lib\\subprocess.py\u001b[0m in \u001b[0;36m__init__\u001b[1;34m(self, args, bufsize, executable, stdin, stdout, stderr, preexec_fn, close_fds, shell, cwd, env, universal_newlines, startupinfo, creationflags, restore_signals, start_new_session, pass_fds, encoding, errors)\u001b[0m\n\u001b[0;32m    707\u001b[0m                                 \u001b[0mc2pread\u001b[0m\u001b[1;33m,\u001b[0m \u001b[0mc2pwrite\u001b[0m\u001b[1;33m,\u001b[0m\u001b[1;33m\u001b[0m\u001b[0m\n\u001b[0;32m    708\u001b[0m                                 \u001b[0merrread\u001b[0m\u001b[1;33m,\u001b[0m \u001b[0merrwrite\u001b[0m\u001b[1;33m,\u001b[0m\u001b[1;33m\u001b[0m\u001b[0m\n\u001b[1;32m--> 709\u001b[1;33m                                 restore_signals, start_new_session)\n\u001b[0m\u001b[0;32m    710\u001b[0m         \u001b[1;32mexcept\u001b[0m\u001b[1;33m:\u001b[0m\u001b[1;33m\u001b[0m\u001b[0m\n\u001b[0;32m    711\u001b[0m             \u001b[1;31m# Cleanup if the child failed starting.\u001b[0m\u001b[1;33m\u001b[0m\u001b[1;33m\u001b[0m\u001b[0m\n",
      "\u001b[1;32mE:\\conda\\lib\\subprocess.py\u001b[0m in \u001b[0;36m_execute_child\u001b[1;34m(self, args, executable, preexec_fn, close_fds, pass_fds, cwd, env, startupinfo, creationflags, shell, p2cread, p2cwrite, c2pread, c2pwrite, errread, errwrite, unused_restore_signals, unused_start_new_session)\u001b[0m\n\u001b[0;32m    995\u001b[0m                                          \u001b[0menv\u001b[0m\u001b[1;33m,\u001b[0m\u001b[1;33m\u001b[0m\u001b[0m\n\u001b[0;32m    996\u001b[0m                                          \u001b[0mos\u001b[0m\u001b[1;33m.\u001b[0m\u001b[0mfspath\u001b[0m\u001b[1;33m(\u001b[0m\u001b[0mcwd\u001b[0m\u001b[1;33m)\u001b[0m \u001b[1;32mif\u001b[0m \u001b[0mcwd\u001b[0m \u001b[1;32mis\u001b[0m \u001b[1;32mnot\u001b[0m \u001b[1;32mNone\u001b[0m \u001b[1;32melse\u001b[0m \u001b[1;32mNone\u001b[0m\u001b[1;33m,\u001b[0m\u001b[1;33m\u001b[0m\u001b[0m\n\u001b[1;32m--> 997\u001b[1;33m                                          startupinfo)\n\u001b[0m\u001b[0;32m    998\u001b[0m             \u001b[1;32mfinally\u001b[0m\u001b[1;33m:\u001b[0m\u001b[1;33m\u001b[0m\u001b[0m\n\u001b[0;32m    999\u001b[0m                 \u001b[1;31m# Child is launched. Close the parent's copy of those pipe\u001b[0m\u001b[1;33m\u001b[0m\u001b[1;33m\u001b[0m\u001b[0m\n",
      "\u001b[1;31mFileNotFoundError\u001b[0m: [WinError 2] 系统找不到指定的文件。"
     ]
    }
   ],
   "source": [
    "import subprocess\n",
    "import shlex\n",
    "shell_cmd = 'cat F:/bufproject/dict.txt'\n",
    "cmd = shlex.split(shell_cmd)\n",
    "p = subprocess.Popen(cmd, shell=False, stdout=subprocess.PIPE)\n",
    "while p.poll() is None:\n",
    "    line = p.stdout.readline()\n",
    "#如果是False会报错"
   ]
  },
  {
   "cell_type": "code",
   "execution_count": 21,
   "metadata": {},
   "outputs": [],
   "source": [
    "import subprocess\n",
    "import shlex\n",
    "shell_cmd = 'cat F:/bufproject/dict.txt'\n",
    "cmd = shlex.split(shell_cmd)\n",
    "p = subprocess.Popen(cmd, shell=True, stdout=subprocess.PIPE)\n",
    "while p.poll() is None:\n",
    "    line = p.stdout.readline()\n",
    "\n",
    "#这个cell 在windows上运行可能会死循环"
   ]
  },
  {
   "cell_type": "markdown",
   "metadata": {},
   "source": [
    "stupid windows 没有cat命令\n",
    "替代：type\n",
    "Text can be added to Jupyter Notebooks using Markdown cells. You can change the cell type to Markdown by using the Cell menu, the toolbar, or the key shortcut m.\n",
    "esc + m"
   ]
  },
  {
   "cell_type": "markdown",
   "metadata": {},
   "source": [
    "interrupt kernel \n",
    "jupyter notebook 停止cell似乎只能靠interrupt kernel 这个和ctrl + c 等价\n",
    "https://stackoverflow.com/questions/17561212/is-there-an-equivalent-to-ctrlc-in-ipython-notebook-in-firefox-to-break-cells-t?utm_medium=organic&utm_source=google_rich_qa&utm_campaign=google_rich_qa"
   ]
  },
  {
   "cell_type": "code",
   "execution_count": 2,
   "metadata": {},
   "outputs": [
    {
     "data": {
      "text/plain": [
       "0"
      ]
     },
     "execution_count": 2,
     "metadata": {},
     "output_type": "execute_result"
    }
   ],
   "source": [
    "import os\n",
    "os.system('type F:\\\\bufproject\\\\dict.txt')"
   ]
  },
  {
   "cell_type": "markdown",
   "metadata": {},
   "source": [
    "然而，在powershell里 cat又是可以用的，估计在cmd里不行。powershell可能wrap了cat"
   ]
  },
  {
   "cell_type": "code",
   "execution_count": 8,
   "metadata": {},
   "outputs": [
    {
     "name": "stdout",
     "output_type": "stream",
     "text": [
      "----------\n",
      "\n",
      "\n",
      "\n",
      "\n",
      "\n",
      "\n",
      "\n",
      "\n",
      "\n",
      "\n",
      "\n",
      "----------\n"
     ]
    }
   ],
   "source": [
    "import subprocess\n",
    "import shlex\n",
    "shell_cmd = 'type F:\\\\bufproject\\\\dict.txt'\n",
    "cmd = shlex.split(shell_cmd)\n",
    "p = subprocess.Popen(cmd, shell=True, stdout=subprocess.PIPE)\n",
    "#如果是True，终端里会有输出\n",
    "print('----------')\n",
    "while p.poll() is None:\n",
    "    line = p.stdout.readline()\n",
    "    #返回byte\n",
    "    print(line.decode())\n",
    "print('----------')"
   ]
  },
  {
   "cell_type": "markdown",
   "metadata": {},
   "source": [
    "可能是因为windows powershell和jupyter 比较特殊"
   ]
  },
  {
   "cell_type": "code",
   "execution_count": 9,
   "metadata": {},
   "outputs": [
    {
     "ename": "UnicodeDecodeError",
     "evalue": "'utf-8' codec can't decode byte 0xbd in position 0: invalid start byte",
     "output_type": "error",
     "traceback": [
      "\u001b[1;31m---------------------------------------------------------------------------\u001b[0m",
      "\u001b[1;31mUnicodeDecodeError\u001b[0m                        Traceback (most recent call last)",
      "\u001b[1;32m<ipython-input-9-87aa7669dddd>\u001b[0m in \u001b[0;36m<module>\u001b[1;34m()\u001b[0m\n\u001b[0;32m      1\u001b[0m \u001b[0mpath\u001b[0m \u001b[1;33m=\u001b[0m \u001b[1;34m'F:\\\\bufproject\\\\dict.txt'\u001b[0m\u001b[1;33m\u001b[0m\u001b[0m\n\u001b[0;32m      2\u001b[0m \u001b[1;32mwith\u001b[0m \u001b[0mopen\u001b[0m\u001b[1;33m(\u001b[0m\u001b[0mpath\u001b[0m\u001b[1;33m,\u001b[0m\u001b[0mencoding\u001b[0m \u001b[1;33m=\u001b[0m \u001b[1;34m'utf8'\u001b[0m\u001b[1;33m)\u001b[0m \u001b[1;32mas\u001b[0m \u001b[0mf\u001b[0m\u001b[1;33m:\u001b[0m\u001b[1;33m\u001b[0m\u001b[0m\n\u001b[1;32m----> 3\u001b[1;33m     \u001b[1;32mfor\u001b[0m \u001b[0mline\u001b[0m \u001b[1;32min\u001b[0m \u001b[0mf\u001b[0m\u001b[1;33m.\u001b[0m\u001b[0mreadlines\u001b[0m\u001b[1;33m(\u001b[0m\u001b[1;33m)\u001b[0m\u001b[1;33m:\u001b[0m\u001b[1;33m\u001b[0m\u001b[0m\n\u001b[0m\u001b[0;32m      4\u001b[0m         \u001b[0mprint\u001b[0m\u001b[1;33m(\u001b[0m\u001b[0mline\u001b[0m\u001b[1;33m)\u001b[0m\u001b[1;33m\u001b[0m\u001b[0m\n",
      "\u001b[1;32mE:\\conda\\lib\\codecs.py\u001b[0m in \u001b[0;36mdecode\u001b[1;34m(self, input, final)\u001b[0m\n\u001b[0;32m    319\u001b[0m         \u001b[1;31m# decode input (taking the buffer into account)\u001b[0m\u001b[1;33m\u001b[0m\u001b[1;33m\u001b[0m\u001b[0m\n\u001b[0;32m    320\u001b[0m         \u001b[0mdata\u001b[0m \u001b[1;33m=\u001b[0m \u001b[0mself\u001b[0m\u001b[1;33m.\u001b[0m\u001b[0mbuffer\u001b[0m \u001b[1;33m+\u001b[0m \u001b[0minput\u001b[0m\u001b[1;33m\u001b[0m\u001b[0m\n\u001b[1;32m--> 321\u001b[1;33m         \u001b[1;33m(\u001b[0m\u001b[0mresult\u001b[0m\u001b[1;33m,\u001b[0m \u001b[0mconsumed\u001b[0m\u001b[1;33m)\u001b[0m \u001b[1;33m=\u001b[0m \u001b[0mself\u001b[0m\u001b[1;33m.\u001b[0m\u001b[0m_buffer_decode\u001b[0m\u001b[1;33m(\u001b[0m\u001b[0mdata\u001b[0m\u001b[1;33m,\u001b[0m \u001b[0mself\u001b[0m\u001b[1;33m.\u001b[0m\u001b[0merrors\u001b[0m\u001b[1;33m,\u001b[0m \u001b[0mfinal\u001b[0m\u001b[1;33m)\u001b[0m\u001b[1;33m\u001b[0m\u001b[0m\n\u001b[0m\u001b[0;32m    322\u001b[0m         \u001b[1;31m# keep undecoded input until the next call\u001b[0m\u001b[1;33m\u001b[0m\u001b[1;33m\u001b[0m\u001b[0m\n\u001b[0;32m    323\u001b[0m         \u001b[0mself\u001b[0m\u001b[1;33m.\u001b[0m\u001b[0mbuffer\u001b[0m \u001b[1;33m=\u001b[0m \u001b[0mdata\u001b[0m\u001b[1;33m[\u001b[0m\u001b[0mconsumed\u001b[0m\u001b[1;33m:\u001b[0m\u001b[1;33m]\u001b[0m\u001b[1;33m\u001b[0m\u001b[0m\n",
      "\u001b[1;31mUnicodeDecodeError\u001b[0m: 'utf-8' codec can't decode byte 0xbd in position 0: invalid start byte"
     ]
    }
   ],
   "source": [
    "path = 'F:\\\\bufproject\\\\dict.txt'\n",
    "with open(path,encoding = 'utf8') as f:\n",
    "    for line in f.readlines():\n",
    "        print(line)\n"
   ]
  },
  {
   "cell_type": "code",
   "execution_count": 10,
   "metadata": {},
   "outputs": [
    {
     "name": "stdout",
     "output_type": "stream",
     "text": [
      "江苏\t无锡\n",
      "\n",
      "江苏\t徐州\n",
      "\n",
      "江苏 常州\n"
     ]
    }
   ],
   "source": [
    "#用记事本新建的\n",
    "path = 'F:\\\\bufproject\\\\dict.txt'\n",
    "with open(path,encoding = 'gbk') as f:\n",
    "    for line in f.readlines():\n",
    "        print(line)"
   ]
  },
  {
   "cell_type": "code",
   "execution_count": 11,
   "metadata": {},
   "outputs": [
    {
     "ename": "UnicodeDecodeError",
     "evalue": "'utf-8' codec can't decode byte 0xbd in position 0: invalid start byte",
     "output_type": "error",
     "traceback": [
      "\u001b[1;31m---------------------------------------------------------------------------\u001b[0m",
      "\u001b[1;31mUnicodeDecodeError\u001b[0m                        Traceback (most recent call last)",
      "\u001b[1;32m<ipython-input-11-87aa7669dddd>\u001b[0m in \u001b[0;36m<module>\u001b[1;34m()\u001b[0m\n\u001b[0;32m      1\u001b[0m \u001b[0mpath\u001b[0m \u001b[1;33m=\u001b[0m \u001b[1;34m'F:\\\\bufproject\\\\dict.txt'\u001b[0m\u001b[1;33m\u001b[0m\u001b[0m\n\u001b[0;32m      2\u001b[0m \u001b[1;32mwith\u001b[0m \u001b[0mopen\u001b[0m\u001b[1;33m(\u001b[0m\u001b[0mpath\u001b[0m\u001b[1;33m,\u001b[0m\u001b[0mencoding\u001b[0m \u001b[1;33m=\u001b[0m \u001b[1;34m'utf8'\u001b[0m\u001b[1;33m)\u001b[0m \u001b[1;32mas\u001b[0m \u001b[0mf\u001b[0m\u001b[1;33m:\u001b[0m\u001b[1;33m\u001b[0m\u001b[0m\n\u001b[1;32m----> 3\u001b[1;33m     \u001b[1;32mfor\u001b[0m \u001b[0mline\u001b[0m \u001b[1;32min\u001b[0m \u001b[0mf\u001b[0m\u001b[1;33m.\u001b[0m\u001b[0mreadlines\u001b[0m\u001b[1;33m(\u001b[0m\u001b[1;33m)\u001b[0m\u001b[1;33m:\u001b[0m\u001b[1;33m\u001b[0m\u001b[0m\n\u001b[0m\u001b[0;32m      4\u001b[0m         \u001b[0mprint\u001b[0m\u001b[1;33m(\u001b[0m\u001b[0mline\u001b[0m\u001b[1;33m)\u001b[0m\u001b[1;33m\u001b[0m\u001b[0m\n",
      "\u001b[1;32mE:\\conda\\lib\\codecs.py\u001b[0m in \u001b[0;36mdecode\u001b[1;34m(self, input, final)\u001b[0m\n\u001b[0;32m    319\u001b[0m         \u001b[1;31m# decode input (taking the buffer into account)\u001b[0m\u001b[1;33m\u001b[0m\u001b[1;33m\u001b[0m\u001b[0m\n\u001b[0;32m    320\u001b[0m         \u001b[0mdata\u001b[0m \u001b[1;33m=\u001b[0m \u001b[0mself\u001b[0m\u001b[1;33m.\u001b[0m\u001b[0mbuffer\u001b[0m \u001b[1;33m+\u001b[0m \u001b[0minput\u001b[0m\u001b[1;33m\u001b[0m\u001b[0m\n\u001b[1;32m--> 321\u001b[1;33m         \u001b[1;33m(\u001b[0m\u001b[0mresult\u001b[0m\u001b[1;33m,\u001b[0m \u001b[0mconsumed\u001b[0m\u001b[1;33m)\u001b[0m \u001b[1;33m=\u001b[0m \u001b[0mself\u001b[0m\u001b[1;33m.\u001b[0m\u001b[0m_buffer_decode\u001b[0m\u001b[1;33m(\u001b[0m\u001b[0mdata\u001b[0m\u001b[1;33m,\u001b[0m \u001b[0mself\u001b[0m\u001b[1;33m.\u001b[0m\u001b[0merrors\u001b[0m\u001b[1;33m,\u001b[0m \u001b[0mfinal\u001b[0m\u001b[1;33m)\u001b[0m\u001b[1;33m\u001b[0m\u001b[0m\n\u001b[0m\u001b[0;32m    322\u001b[0m         \u001b[1;31m# keep undecoded input until the next call\u001b[0m\u001b[1;33m\u001b[0m\u001b[1;33m\u001b[0m\u001b[0m\n\u001b[0;32m    323\u001b[0m         \u001b[0mself\u001b[0m\u001b[1;33m.\u001b[0m\u001b[0mbuffer\u001b[0m \u001b[1;33m=\u001b[0m \u001b[0mdata\u001b[0m\u001b[1;33m[\u001b[0m\u001b[0mconsumed\u001b[0m\u001b[1;33m:\u001b[0m\u001b[1;33m]\u001b[0m\u001b[1;33m\u001b[0m\u001b[0m\n",
      "\u001b[1;31mUnicodeDecodeError\u001b[0m: 'utf-8' codec can't decode byte 0xbd in position 0: invalid start byte"
     ]
    }
   ],
   "source": [
    "path = 'F:\\\\bufproject\\\\dict.txt'\n",
    "with open(path,encoding = 'utf8') as f:\n",
    "    for line in f.readlines():\n",
    "        print(line)"
   ]
  },
  {
   "cell_type": "markdown",
   "metadata": {},
   "source": [
    "windows上的记事本是个神坑啊\n",
    "可能默认是gbk编码\n",
    "ban了记事本，用atom或者notepad++"
   ]
  },
  {
   "cell_type": "code",
   "execution_count": 12,
   "metadata": {},
   "outputs": [
    {
     "name": "stdout",
     "output_type": "stream",
     "text": [
      "江苏  无锡\n",
      "\n",
      "\n",
      "\n",
      "江苏\t徐州\n",
      "\n",
      "\n",
      "\n",
      "江苏 常州\n",
      "\n"
     ]
    }
   ],
   "source": [
    "#删了用atom写\n",
    "#第一第二行tab，第三行空格\n",
    "path = 'F:\\\\bufproject\\\\dict.txt'\n",
    "with open(path,encoding = 'utf8') as f:\n",
    "    for line in f.readlines():\n",
    "        print(line)"
   ]
  },
  {
   "cell_type": "code",
   "execution_count": 18,
   "metadata": {},
   "outputs": [
    {
     "ename": "AssertionError",
     "evalue": "line error 江苏  无锡",
     "output_type": "error",
     "traceback": [
      "\u001b[1;31m---------------------------------------------------------------------------\u001b[0m",
      "\u001b[1;31mAssertionError\u001b[0m                            Traceback (most recent call last)",
      "\u001b[1;32m<ipython-input-18-4e06d48e5c20>\u001b[0m in \u001b[0;36m<module>\u001b[1;34m()\u001b[0m\n\u001b[1;32m----> 1\u001b[1;33m \u001b[0mloadCity\u001b[0m\u001b[1;33m(\u001b[0m\u001b[0mpath\u001b[0m\u001b[1;33m)\u001b[0m\u001b[1;33m\u001b[0m\u001b[0m\n\u001b[0m",
      "\u001b[1;32m<ipython-input-17-ddef3a5e85a8>\u001b[0m in \u001b[0;36mloadCity\u001b[1;34m(file_path)\u001b[0m\n\u001b[0;32m      8\u001b[0m                 \u001b[1;32mcontinue\u001b[0m\u001b[1;33m\u001b[0m\u001b[0m\n\u001b[0;32m      9\u001b[0m             \u001b[0mfields\u001b[0m \u001b[1;33m=\u001b[0m \u001b[0mline\u001b[0m\u001b[1;33m.\u001b[0m\u001b[0msplit\u001b[0m\u001b[1;33m(\u001b[0m\u001b[1;34m'\\t'\u001b[0m\u001b[1;33m)\u001b[0m\u001b[1;33m\u001b[0m\u001b[0m\n\u001b[1;32m---> 10\u001b[1;33m             \u001b[1;32massert\u001b[0m \u001b[0mlen\u001b[0m\u001b[1;33m(\u001b[0m\u001b[0mfields\u001b[0m\u001b[1;33m)\u001b[0m \u001b[1;33m==\u001b[0m \u001b[1;36m2\u001b[0m\u001b[1;33m,\u001b[0m \u001b[1;34m'line error'\u001b[0m \u001b[1;33m+\u001b[0m \u001b[1;34m' '\u001b[0m\u001b[1;33m+\u001b[0m \u001b[0mline\u001b[0m\u001b[1;33m\u001b[0m\u001b[0m\n\u001b[0m\u001b[0;32m     11\u001b[0m             \u001b[0mcity\u001b[0m \u001b[1;33m=\u001b[0m \u001b[0mfields\u001b[0m\u001b[1;33m[\u001b[0m\u001b[1;36m1\u001b[0m\u001b[1;33m]\u001b[0m\u001b[1;33m\u001b[0m\u001b[0m\n\u001b[0;32m     12\u001b[0m             \u001b[0mprovince\u001b[0m \u001b[1;33m=\u001b[0m \u001b[0mfields\u001b[0m\u001b[1;33m[\u001b[0m\u001b[1;36m0\u001b[0m\u001b[1;33m]\u001b[0m\u001b[1;33m\u001b[0m\u001b[0m\n",
      "\u001b[1;31mAssertionError\u001b[0m: line error 江苏  无锡"
     ]
    }
   ],
   "source": [
    "loadCity(path)"
   ]
  },
  {
   "cell_type": "code",
   "execution_count": 19,
   "metadata": {},
   "outputs": [
    {
     "name": "stdout",
     "output_type": "stream",
     "text": [
      "江苏  无锡\n",
      "\n",
      "\n",
      "\n",
      "江苏  徐州\n",
      "\n",
      "\n",
      "\n",
      "江苏  常州\n",
      "\n"
     ]
    }
   ],
   "source": [
    "#第三行修改成tab\n",
    "with open(path,encoding = 'utf8') as f:\n",
    "    for line in f.readlines():\n",
    "        print(line)"
   ]
  },
  {
   "cell_type": "code",
   "execution_count": 36,
   "metadata": {},
   "outputs": [
    {
     "name": "stdout",
     "output_type": "stream",
     "text": [
      "江苏  徐州\n",
      "\n",
      "江苏  常州\n",
      "\n",
      "江苏  连云港\n",
      "\n"
     ]
    }
   ],
   "source": [
    "#第三行修改成tab\n",
    "with open(path,encoding = 'utf8') as f:\n",
    "    for line in f.readlines():\n",
    "        print(line)"
   ]
  },
  {
   "cell_type": "code",
   "execution_count": 30,
   "metadata": {},
   "outputs": [
    {
     "ename": "AssertionError",
     "evalue": "line error 江苏  徐州",
     "output_type": "error",
     "traceback": [
      "\u001b[1;31m---------------------------------------------------------------------------\u001b[0m",
      "\u001b[1;31mAssertionError\u001b[0m                            Traceback (most recent call last)",
      "\u001b[1;32m<ipython-input-30-6c6c056092b1>\u001b[0m in \u001b[0;36m<module>\u001b[1;34m()\u001b[0m\n\u001b[0;32m     14\u001b[0m             \u001b[0mcity_province_set\u001b[0m\u001b[1;33m.\u001b[0m\u001b[0madd\u001b[0m\u001b[1;33m(\u001b[0m\u001b[0mcity\u001b[0m\u001b[1;33m)\u001b[0m\u001b[1;33m\u001b[0m\u001b[0m\n\u001b[0;32m     15\u001b[0m             \u001b[0mcity_province_set\u001b[0m\u001b[1;33m.\u001b[0m\u001b[0madd\u001b[0m\u001b[1;33m(\u001b[0m\u001b[0mprovince\u001b[0m\u001b[1;33m)\u001b[0m\u001b[1;33m\u001b[0m\u001b[0m\n\u001b[1;32m---> 16\u001b[1;33m \u001b[0mloadCity\u001b[0m\u001b[1;33m(\u001b[0m\u001b[0mpath\u001b[0m\u001b[1;33m)\u001b[0m\u001b[1;33m\u001b[0m\u001b[0m\n\u001b[0m",
      "\u001b[1;32m<ipython-input-30-6c6c056092b1>\u001b[0m in \u001b[0;36mloadCity\u001b[1;34m(file_path)\u001b[0m\n\u001b[0;32m      8\u001b[0m                 \u001b[1;32mcontinue\u001b[0m\u001b[1;33m\u001b[0m\u001b[0m\n\u001b[0;32m      9\u001b[0m             \u001b[0mfields\u001b[0m \u001b[1;33m=\u001b[0m \u001b[0mline\u001b[0m\u001b[1;33m.\u001b[0m\u001b[0msplit\u001b[0m\u001b[1;33m(\u001b[0m\u001b[1;34m'\\t'\u001b[0m\u001b[1;33m)\u001b[0m\u001b[1;33m\u001b[0m\u001b[0m\n\u001b[1;32m---> 10\u001b[1;33m             \u001b[1;32massert\u001b[0m \u001b[0mlen\u001b[0m\u001b[1;33m(\u001b[0m\u001b[0mfields\u001b[0m\u001b[1;33m)\u001b[0m \u001b[1;33m>=\u001b[0m \u001b[1;36m2\u001b[0m\u001b[1;33m,\u001b[0m \u001b[1;34m'line error'\u001b[0m \u001b[1;33m+\u001b[0m \u001b[1;34m' '\u001b[0m\u001b[1;33m+\u001b[0m \u001b[0mline\u001b[0m\u001b[1;33m\u001b[0m\u001b[0m\n\u001b[0m\u001b[0;32m     11\u001b[0m             \u001b[0mcity\u001b[0m \u001b[1;33m=\u001b[0m \u001b[0mfields\u001b[0m\u001b[1;33m[\u001b[0m\u001b[1;36m1\u001b[0m\u001b[1;33m]\u001b[0m\u001b[1;33m\u001b[0m\u001b[0m\n\u001b[0;32m     12\u001b[0m             \u001b[0mprovince\u001b[0m \u001b[1;33m=\u001b[0m \u001b[0mfields\u001b[0m\u001b[1;33m[\u001b[0m\u001b[1;36m0\u001b[0m\u001b[1;33m]\u001b[0m\u001b[1;33m\u001b[0m\u001b[0m\n",
      "\u001b[1;31mAssertionError\u001b[0m: line error 江苏  徐州"
     ]
    }
   ],
   "source": [
    "city_dict = dict()\n",
    "city_province_set = set()\n",
    "def loadCity(file_path):\n",
    "    with open(file_path, mode='r', encoding='utf8') as file:\n",
    "        for line in file:\n",
    "            line = line.strip()\n",
    "            if not line:\n",
    "                continue\n",
    "            fields = line.split('\\t')\n",
    "            assert len(fields) >= 2, 'line error' + ' '+ line\n",
    "            city = fields[1]\n",
    "            province = fields[0]\n",
    "            city_dict[city] = province\n",
    "            city_province_set.add(city)\n",
    "            city_province_set.add(province)\n",
    "loadCity(path)"
   ]
  },
  {
   "cell_type": "code",
   "execution_count": 37,
   "metadata": {},
   "outputs": [
    {
     "name": "stdout",
     "output_type": "stream",
     "text": [
      "['江苏  徐州']\n",
      "1\n",
      "['江苏  常州']\n",
      "1\n",
      "['江苏  连云港']\n",
      "1\n",
      "{}\n",
      "set()\n"
     ]
    }
   ],
   "source": [
    "city_dict = dict()\n",
    "city_province_set = set()\n",
    "def loadCity(file_path):\n",
    "    with open(file_path, mode='r', encoding='utf8') as file:\n",
    "        for line in file:\n",
    "            line = line.strip()\n",
    "            if not line:\n",
    "                continue\n",
    "            fields = line.split('\\t')\n",
    "            print(fields)\n",
    "            print(len(fields))\n",
    "            #assert len(fields) >= 2, 'line error' + ' '+ line\n",
    "            if len(fields) < 2 :\n",
    "                continue\n",
    "            city = fields[1]\n",
    "            province = fields[0]\n",
    "            city_dict[city] = province\n",
    "            city_province_set.add(city)\n",
    "            city_province_set.add(province)\n",
    "loadCity(path)\n",
    "print(city_dict)\n",
    "print(city_province_set)"
   ]
  },
  {
   "cell_type": "markdown",
   "metadata": {},
   "source": [
    "已经用tab分割并且utf8编码了，结果如上。\n",
    "现在把第一第二行按两下tab，第三行按一下tab"
   ]
  },
  {
   "cell_type": "code",
   "execution_count": 39,
   "metadata": {},
   "outputs": [
    {
     "name": "stdout",
     "output_type": "stream",
     "text": [
      "['江苏      徐州']\n",
      "1\n",
      "['江苏      常州']\n",
      "1\n",
      "['江苏  连云港']\n",
      "1\n",
      "{}\n",
      "set()\n"
     ]
    }
   ],
   "source": [
    "city_dict = dict()\n",
    "city_province_set = set()\n",
    "def loadCity(file_path):\n",
    "    with open(file_path, mode='r', encoding='utf8') as file:\n",
    "        for line in file:\n",
    "            line = line.strip()\n",
    "            if not line:\n",
    "                continue\n",
    "            fields = line.split('\\t')\n",
    "            print(fields)\n",
    "            print(len(fields))\n",
    "            #assert len(fields) >= 2, 'line error' + ' '+ line\n",
    "            if len(fields) < 2 :\n",
    "                continue\n",
    "            city = fields[1]\n",
    "            province = fields[0]\n",
    "            city_dict[city] = province\n",
    "            city_province_set.add(city)\n",
    "            city_province_set.add(province)\n",
    "loadCity(path)\n",
    "print(city_dict)\n",
    "print(city_province_set)"
   ]
  },
  {
   "cell_type": "code",
   "execution_count": 40,
   "metadata": {},
   "outputs": [
    {
     "name": "stdout",
     "output_type": "stream",
     "text": [
      "['江苏      徐州']\n",
      "1\n",
      "['江苏      常州']\n",
      "1\n",
      "['江苏  连云港']\n",
      "1\n",
      "{}\n",
      "set()\n"
     ]
    }
   ],
   "source": [
    "#标准文件\n",
    "file_path = 'F:\\\\myproject\\\\code\\\\emr_dict\\\\city_province.txt'\n",
    "city_dict = dict()\n",
    "city_province_set = set()\n",
    "def loadCity(file_path):\n",
    "    with open(file_path, mode='r', encoding='utf8') as file:\n",
    "        for line in file:\n",
    "            line = line.strip()\n",
    "            if not line:\n",
    "                continue\n",
    "            fields = line.split('\\t')\n",
    "            print(fields)\n",
    "            print(len(fields))\n",
    "            #assert len(fields) >= 2, 'line error' + ' '+ line\n",
    "            if len(fields) < 2 :\n",
    "                continue\n",
    "            city = fields[1]\n",
    "            province = fields[0]\n",
    "            city_dict[city] = province\n",
    "            city_province_set.add(city)\n",
    "            city_province_set.add(province)\n",
    "loadCity(path)\n",
    "print(city_dict)\n",
    "print(city_province_set)"
   ]
  },
  {
   "cell_type": "code",
   "execution_count": 57,
   "metadata": {},
   "outputs": [
    {
     "ename": "SyntaxError",
     "evalue": "invalid syntax (<ipython-input-57-ecdee1f0b805>, line 16)",
     "output_type": "error",
     "traceback": [
      "\u001b[1;36m  File \u001b[1;32m\"<ipython-input-57-ecdee1f0b805>\"\u001b[1;36m, line \u001b[1;32m16\u001b[0m\n\u001b[1;33m    print(type(fields))\u001b[0m\n\u001b[1;37m        ^\u001b[0m\n\u001b[1;31mSyntaxError\u001b[0m\u001b[1;31m:\u001b[0m invalid syntax\n"
     ]
    }
   ],
   "source": [
    "#标准文件\n",
    "file_path = 'F:\\\\myproject\\\\code\\\\emr_dict\\\\city_province.txt'\n",
    "city_dict = dict()\n",
    "city_province_set = set()\n",
    "def is_not_space(x):\n",
    "    return x != ' '\n",
    "def loadCity(file_path):\n",
    "    with open(file_path, mode='r', encoding='utf8') as file:\n",
    "        for line in file:\n",
    "            line = line.strip()\n",
    "            if not line:\n",
    "                continue\n",
    "            fields = line.split(' ')\n",
    "            print(fields)\n",
    "            fields = list(filter(is_not_space, fields)\n",
    "            print(type(fields))\n",
    "            #print(fields)\n",
    "            #print(len(fields))\n",
    "            #assert len(fields) >= 2, 'line error' + ' '+ line\n",
    "            if len(fields) < 2 :\n",
    "                continue\n",
    "            city = fields[1]\n",
    "            province = fields[0]\n",
    "            city_dict[city] = province\n",
    "            city_province_set.add(city)\n",
    "            city_province_set.add(province)\n",
    "loadCity(path)\n",
    "print(city_dict)\n",
    "print(city_province_set)"
   ]
  },
  {
   "cell_type": "code",
   "execution_count": 58,
   "metadata": {},
   "outputs": [
    {
     "name": "stdout",
     "output_type": "stream",
     "text": [
      "['江苏', '', '', '', '', '', '徐州']\n",
      "<class 'list'>\n",
      "['江苏', '', '', '', '', '', '常州']\n",
      "<class 'list'>\n",
      "['江苏', '', '连云港']\n",
      "<class 'list'>\n",
      "{'': '江苏'}\n",
      "{'', '江苏'}\n"
     ]
    }
   ],
   "source": [
    "#标准文件\n",
    "file_path = 'F:\\\\myproject\\\\code\\\\emr_dict\\\\city_province.txt'\n",
    "city_dict = dict()\n",
    "city_province_set = set()\n",
    "def is_not_space(x):\n",
    "    return x != ' '\n",
    "def loadCity(file_path):\n",
    "    with open(file_path, mode='r', encoding='utf8') as file:\n",
    "        for line in file:\n",
    "            line = line.strip()\n",
    "            if not line:\n",
    "                continue\n",
    "            fields = line.split(' ')\n",
    "            print(fields)\n",
    "            #fields = list(filter(is_not_space, fields)\n",
    "            print(type(fields))\n",
    "            #print(fields)\n",
    "            #print(len(fields))\n",
    "            #assert len(fields) >= 2, 'line error' + ' '+ line\n",
    "            if len(fields) < 2 :\n",
    "                continue\n",
    "            city = fields[1]\n",
    "            province = fields[0]\n",
    "            city_dict[city] = province\n",
    "            city_province_set.add(city)\n",
    "            city_province_set.add(province)\n",
    "loadCity(path)\n",
    "print(city_dict)\n",
    "print(city_province_set)"
   ]
  },
  {
   "cell_type": "code",
   "execution_count": null,
   "metadata": {},
   "outputs": [],
   "source": [
    "#标准文件\n",
    "file_path = 'F:\\\\myproject\\\\code\\\\emr_dict\\\\city_province.txt'\n",
    "city_dict = dict()\n",
    "city_province_set = set()\n",
    "def is_not_space(x):\n",
    "    return x != ' '\n",
    "def loadCity(file_path):\n",
    "    with open(file_path, mode='r', encoding='utf8') as file:\n",
    "        for line in file:\n",
    "            line = line.strip()\n",
    "            if not line:\n",
    "                \n",
    "                \n",
    "                continue\n",
    "            fields = line.split(' ')\n",
    "            print(fields)\n",
    "            #fields = list(filter(is_not_space, fields)\n",
    "            print(type(fields))\n",
    "            #print(fields)\n",
    "            #print(len(fields))\n",
    "            #assert len(fields) >= 2, 'line error' + ' '+ line\n",
    "            if len(fields) < 2 :\n",
    "                continue\n",
    "            city = fields[1]\n",
    "            province = fields[0]\n",
    "            city_dict[city] = province\n",
    "            city_province_set.add(city)\n",
    "            city_province_set.add(province)\n",
    "loadCity(path)\n",
    "print(city_dict)\n",
    "print(city_province_set)"
   ]
  },
  {
   "cell_type": "code",
   "execution_count": 70,
   "metadata": {},
   "outputs": [
    {
     "ename": "SyntaxError",
     "evalue": "unexpected EOF while parsing (<ipython-input-70-ebd836a9961a>, line 19)",
     "output_type": "error",
     "traceback": [
      "\u001b[1;36m  File \u001b[1;32m\"<ipython-input-70-ebd836a9961a>\"\u001b[1;36m, line \u001b[1;32m19\u001b[0m\n\u001b[1;33m    #结果分析，filter可能返回的是none\u001b[0m\n\u001b[1;37m                                                  ^\u001b[0m\n\u001b[1;31mSyntaxError\u001b[0m\u001b[1;31m:\u001b[0m unexpected EOF while parsing\n"
     ]
    }
   ],
   "source": [
    "#标准文件\n",
    "file_path = 'F:\\\\myproject\\\\code\\\\emr_dict\\\\city_province.txt'\n",
    "city_dict = dict()\n",
    "city_province_set = set()\n",
    "def loadCity(file_path):\n",
    "    with open(file_path, mode='r', encoding='utf8') as file:\n",
    "        for line in file:\n",
    "            line = line.strip()\n",
    "            if not line:\n",
    "                continue\n",
    "            fields = line.split(' ')\n",
    "            print(fields)\n",
    "            condition = lambda x: x != ' '\n",
    "            print(list(filter(condition, fields))\n",
    "\n",
    "#loadCity(path)\n",
    "#print(city_dict)\n",
    "#print(city_province_set)\n",
    "#结果分析，filter可能返回的是none                        "
   ]
  },
  {
   "cell_type": "code",
   "execution_count": 74,
   "metadata": {},
   "outputs": [
    {
     "ename": "SyntaxError",
     "evalue": "unexpected EOF while parsing (<ipython-input-74-c4a8e312917d>, line 13)",
     "output_type": "error",
     "traceback": [
      "\u001b[1;36m  File \u001b[1;32m\"<ipython-input-74-c4a8e312917d>\"\u001b[1;36m, line \u001b[1;32m13\u001b[0m\n\u001b[1;33m    print(list(filter(condition, fields))\u001b[0m\n\u001b[1;37m                                         ^\u001b[0m\n\u001b[1;31mSyntaxError\u001b[0m\u001b[1;31m:\u001b[0m unexpected EOF while parsing\n"
     ]
    }
   ],
   "source": [
    "file_path = 'F:\\\\myproject\\\\code\\\\emr_dict\\\\city_province.txt'\n",
    "city_dict = dict()\n",
    "city_province_set = set()\n",
    "def loadCity(file_path):\n",
    "    with open(file_path, mode='r', encoding='utf8') as file:\n",
    "        for line in file:\n",
    "            line = line.strip()\n",
    "            if not line:\n",
    "                continue\n",
    "            fields = line.split(' ')\n",
    "            print(fields)\n",
    "            condition = lambda x: x != ' '\n",
    "            print(list(filter(condition, fields))"
   ]
  },
  {
   "cell_type": "code",
   "execution_count": 79,
   "metadata": {},
   "outputs": [
    {
     "name": "stdout",
     "output_type": "stream",
     "text": [
      "['江苏', '', '无锡']\n",
      "------\n",
      "['江苏', '无锡']\n",
      "['江苏', '', '徐州']\n",
      "------\n",
      "['江苏', '徐州']\n",
      "['江苏\\t常州']\n",
      "------\n",
      "['江苏\\t常州']\n",
      "['note\\tpad']\n",
      "------\n",
      "['note\\tpad']\n",
      "{}\n",
      "set()\n"
     ]
    }
   ],
   "source": [
    "file_path = 'F:\\\\myproject\\\\code\\\\emr_dict\\\\city_province.txt'\n",
    "city_dict = dict()\n",
    "city_province_set = set()\n",
    "def loadCity(file_path):\n",
    "    with open(file_path, mode='r', encoding='utf8') as file:\n",
    "        for line in file:\n",
    "            line = line.strip()\n",
    "            if not line:\n",
    "                continue\n",
    "            fields = line.split(' ')\n",
    "            print(fields)\n",
    "            print('------')\n",
    "            condition = lambda x: x != ' ' and x != ''\n",
    "            print(list(filter(condition, fields)))\n",
    "loadCity(path)\n",
    "print(city_dict)\n",
    "print(city_province_set)\n",
    "#结果分析，之前filter返回的结果似乎不是none，因为即使结果为空，也会返回一个 filter object  "
   ]
  },
  {
   "cell_type": "code",
   "execution_count": 60,
   "metadata": {},
   "outputs": [
    {
     "name": "stdout",
     "output_type": "stream",
     "text": [
      "江苏  无锡\n",
      "\n",
      "江苏  徐州\n",
      "\n",
      "江苏\t常州\n",
      "\n",
      "note\tpad\n"
     ]
    }
   ],
   "source": [
    "#第三第四行 在notepad里写了，按了一下tab\n",
    "path = 'F:\\\\bufproject\\\\notepad_dict.txt'\n",
    "with open(path,encoding = 'utf8') as f:\n",
    "    for line in f.readlines():\n",
    "        print(line)"
   ]
  },
  {
   "cell_type": "code",
   "execution_count": 61,
   "metadata": {},
   "outputs": [
    {
     "name": "stdout",
     "output_type": "stream",
     "text": [
      "['江苏', '', '无锡']\n",
      "<class 'list'>\n",
      "['江苏', '', '徐州']\n",
      "<class 'list'>\n",
      "['江苏\\t常州']\n",
      "<class 'list'>\n",
      "['note\\tpad']\n",
      "<class 'list'>\n",
      "{'': '江苏'}\n",
      "{'', '江苏'}\n"
     ]
    }
   ],
   "source": [
    "#标准文件\n",
    "file_path = 'F:\\\\myproject\\\\code\\\\emr_dict\\\\city_province.txt'\n",
    "city_dict = dict()\n",
    "city_province_set = set()\n",
    "def is_not_space(x):\n",
    "    return x != ' '\n",
    "def loadCity(file_path):\n",
    "    with open(file_path, mode='r', encoding='utf8') as file:\n",
    "        for line in file:\n",
    "            line = line.strip()\n",
    "            if not line:\n",
    "                continue\n",
    "            fields = line.split(' ')\n",
    "            print(fields)\n",
    "            #fields = list(filter(is_not_space, fields)\n",
    "            print(type(fields))\n",
    "            #print(fields)\n",
    "            #print(len(fields))\n",
    "            #assert len(fields) >= 2, 'line error' + ' '+ line\n",
    "            if len(fields) < 2 :\n",
    "                continue\n",
    "            city = fields[1]\n",
    "            province = fields[0]\n",
    "            city_dict[city] = province\n",
    "            city_province_set.add(city)\n",
    "            city_province_set.add(province)\n",
    "loadCity(path)\n",
    "print(city_dict)\n",
    "print(city_province_set)"
   ]
  },
  {
   "cell_type": "markdown",
   "metadata": {},
   "source": [
    "大坑：\n",
    "windows下\n",
    "记事本 编辑 gbk编码 \n",
    "atom 编辑 utf8编码，但是按一下tab 不会识别成 \\t\n",
    "notepad++ 编辑 utf8编码 按一下tab 即可识别成\\t \n",
    "目前组里用notepad++，先用notepad++然后按\\t切割，不改这部分的代码。"
   ]
  },
  {
   "cell_type": "code",
   "execution_count": null,
   "metadata": {},
   "outputs": [],
   "source": [
    "#或者折中的解决方案\n",
    "#df = pd.read_table('dict.txt')\n",
    "#df.to_excel('dict.xls',encoding='utf8')"
   ]
  },
  {
   "cell_type": "code",
   "execution_count": 85,
   "metadata": {},
   "outputs": [
    {
     "name": "stdout",
     "output_type": "stream",
     "text": [
      "丰台区  :  北京\n",
      "石景山区  :  北京\n",
      "海淀区  :  北京\n",
      "门头沟区  :  北京\n",
      "房山区  :  北京\n",
      "通州区  :  北京\n",
      "石嘴山\n",
      "伊克昭盟\n",
      "大兴区\n",
      "大同\n",
      "德州\n",
      "辽宁\n"
     ]
    }
   ],
   "source": [
    "file_path = 'F:\\\\myproject\\\\code\\\\emr_dict\\\\city_province.txt'\n",
    "city_dict = dict()\n",
    "city_province_set = set()\n",
    "def loadCity(file_path):\n",
    "    with open(file_path, mode='r', encoding='utf8') as file:\n",
    "        for line in file:\n",
    "            line = line.strip()\n",
    "            if not line:\n",
    "                continue\n",
    "            fields = line.split('\\t')\n",
    "            assert len(fields) == 2, 'line error' + line\n",
    "            province = fields[0]\n",
    "            city = fields[1]\n",
    "            city_dict[city] = province\n",
    "            city_province_set.add(city)\n",
    "            city_province_set.add(province)\n",
    "loadCity(file_path)\n",
    "cnt = 0\n",
    "for k,v in city_dict.items():\n",
    "    print(k,' : ',v)\n",
    "    cnt += 1\n",
    "    if cnt > 5:\n",
    "        break\n",
    "\n",
    "cnt = 0\n",
    "for item in city_province_set:\n",
    "    print(item)\n",
    "    cnt += 1\n",
    "    if cnt > 5:\n",
    "        break"
   ]
  },
  {
   "cell_type": "code",
   "execution_count": 86,
   "metadata": {},
   "outputs": [
    {
     "name": "stdout",
     "output_type": "stream",
     "text": [
      "肿块  :  病灶\n",
      "中-低  :  低~中\n",
      "高-中  :  高~中\n",
      "右后支胆管  :  右后支胆管\n",
      "肝右叶+胆囊  :  肝S5及胆囊\n",
      "肝右叶  :  右后下段\n",
      "肝第四段\n",
      "左半肝、右肝\n",
      "S5S8\n",
      "肝Ⅶ和肝右叶\n",
      "胆囊颈\n",
      "粗梁索型\n"
     ]
    }
   ],
   "source": [
    "file_path = 'F:\\\\myproject\\\\code\\\\emr_dict\\\\lujunTumor\\\\syno_dict_step1.txt'\n",
    "city_dict = dict()\n",
    "city_province_set = set()\n",
    "def loadCity(file_path):\n",
    "    with open(file_path, mode='r', encoding='utf8') as file:\n",
    "        for line in file:\n",
    "            line = line.strip()\n",
    "            if not line:\n",
    "                continue\n",
    "            fields = line.split('\\t')\n",
    "            assert len(fields) == 2, 'line error' + line\n",
    "            province = fields[0]\n",
    "            city = fields[1]\n",
    "            city_dict[city] = province\n",
    "            city_province_set.add(city)\n",
    "            city_province_set.add(province)\n",
    "loadCity(file_path)\n",
    "cnt = 0\n",
    "for k,v in city_dict.items():\n",
    "    print(k,' : ',v)\n",
    "    cnt += 1\n",
    "    if cnt > 5:\n",
    "        break\n",
    "\n",
    "cnt = 0\n",
    "for item in city_province_set:\n",
    "    print(item)\n",
    "    cnt += 1\n",
    "    if cnt > 5:\n",
    "        break"
   ]
  },
  {
   "cell_type": "markdown",
   "metadata": {},
   "source": [
    "上面dict，set的变量名 时间关系就不改了。\n",
    "追加了一些同义词，例如\n",
    "CR\tcalretinin\n",
    "肝Ⅲ、Ⅳ段\t肝左叶"
   ]
  },
  {
   "cell_type": "code",
   "execution_count": 88,
   "metadata": {},
   "outputs": [
    {
     "name": "stdout",
     "output_type": "stream",
     "text": [
      "False\n",
      "True\n"
     ]
    }
   ],
   "source": [
    "print('CR' in city_dict)\n",
    "print('CR' in city_dict.values())"
   ]
  },
  {
   "cell_type": "code",
   "execution_count": null,
   "metadata": {},
   "outputs": [],
   "source": []
  }
 ],
 "metadata": {
  "kernelspec": {
   "display_name": "Python 3",
   "language": "python",
   "name": "python3"
  },
  "language_info": {
   "codemirror_mode": {
    "name": "ipython",
    "version": 3
   },
   "file_extension": ".py",
   "mimetype": "text/x-python",
   "name": "python",
   "nbconvert_exporter": "python",
   "pygments_lexer": "ipython3",
   "version": "3.6.4"
  }
 },
 "nbformat": 4,
 "nbformat_minor": 2
}
