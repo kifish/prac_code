{
 "cells": [
  {
   "cell_type": "code",
   "execution_count": 109,
   "metadata": {},
   "outputs": [],
   "source": [
    "import pandas as pd\n",
    "import re\n",
    "sheet = pd.read_excel('../../output/山东省千佛山医院病理科肺癌数据.xls',dtype = str)"
   ]
  },
  {
   "cell_type": "code",
   "execution_count": 110,
   "metadata": {},
   "outputs": [
    {
     "data": {
      "text/html": [
       "<div>\n",
       "<style scoped>\n",
       "    .dataframe tbody tr th:only-of-type {\n",
       "        vertical-align: middle;\n",
       "    }\n",
       "\n",
       "    .dataframe tbody tr th {\n",
       "        vertical-align: top;\n",
       "    }\n",
       "\n",
       "    .dataframe thead th {\n",
       "        text-align: right;\n",
       "    }\n",
       "</style>\n",
       "<table border=\"1\" class=\"dataframe\">\n",
       "  <thead>\n",
       "    <tr style=\"text-align: right;\">\n",
       "      <th></th>\n",
       "      <th>病理号</th>\n",
       "      <th>住院号</th>\n",
       "      <th>性别</th>\n",
       "      <th>年龄</th>\n",
       "      <th>标本名称</th>\n",
       "      <th>病理诊断</th>\n",
       "      <th>肉眼所见</th>\n",
       "      <th>临床诊断</th>\n",
       "      <th>诊断时间</th>\n",
       "      <th>诊断医生</th>\n",
       "      <th>居住地</th>\n",
       "      <th>肿瘤家族史</th>\n",
       "      <th>吸烟史</th>\n",
       "      <th>术前辅助治疗</th>\n",
       "      <th>术后辅助治疗</th>\n",
       "      <th>pTNM分期</th>\n",
       "      <th>预后</th>\n",
       "    </tr>\n",
       "  </thead>\n",
       "  <tbody>\n",
       "    <tr>\n",
       "      <th>0</th>\n",
       "      <td>201313341</td>\n",
       "      <td>188019</td>\n",
       "      <td>男</td>\n",
       "      <td>71岁</td>\n",
       "      <td>肺</td>\n",
       "      <td>（左肺上叶）鳞状细胞癌（中度分化），体积4.5*3.5*2.5cm，侵达脏层胸膜，残端切线未...</td>\n",
       "      <td>（左肺上叶）肺组织一块，体积20*14*3.5cm，表面大部分光滑，覆脏层胸膜，肺门部粗糙，...</td>\n",
       "      <td>左上肺占位</td>\n",
       "      <td>2013-10-25 10:54:33</td>\n",
       "      <td>刘群</td>\n",
       "      <td>山东省济南市</td>\n",
       "      <td>母亲有子宫癌病史，二姐因舌癌去世，三弟有直肠癌病史</td>\n",
       "      <td>30年，20支/日，已戒烟20年</td>\n",
       "      <td>无</td>\n",
       "      <td>奥沙利铂+培美曲塞二钠化疗</td>\n",
       "      <td>鳞癌，pT2N0MO.Ib期</td>\n",
       "      <td>骨、肝转移</td>\n",
       "    </tr>\n",
       "    <tr>\n",
       "      <th>1</th>\n",
       "      <td>201313542</td>\n",
       "      <td>244707</td>\n",
       "      <td>男</td>\n",
       "      <td>61岁</td>\n",
       "      <td>肺</td>\n",
       "      <td>（右中叶）肺鳞状细胞癌（Ⅱ级），部分区域坏死，体积4*3.5*2cm。\\n         ...</td>\n",
       "      <td>右肺中叶，体积11*10*2.5cm，表面大部分光滑覆脏层胸膜，肺门部粗糙，距支气管残端0....</td>\n",
       "      <td>肺内阴影（右中）</td>\n",
       "      <td>2013-10-29 17:03:39</td>\n",
       "      <td>崔晶</td>\n",
       "      <td>山东省高青县</td>\n",
       "      <td>无</td>\n",
       "      <td>30年，20支/日</td>\n",
       "      <td>无</td>\n",
       "      <td>地行奈达铂+吉西他滨化疗</td>\n",
       "      <td>鳞癌，pT2aN1MO.IIa期</td>\n",
       "      <td>nan</td>\n",
       "    </tr>\n",
       "  </tbody>\n",
       "</table>\n",
       "</div>"
      ],
      "text/plain": [
       "         病理号     住院号 性别   年龄 标本名称  \\\n",
       "0  201313341  188019  男  71岁    肺   \n",
       "1  201313542  244707  男  61岁    肺   \n",
       "\n",
       "                                                病理诊断  \\\n",
       "0  （左肺上叶）鳞状细胞癌（中度分化），体积4.5*3.5*2.5cm，侵达脏层胸膜，残端切线未...   \n",
       "1  （右中叶）肺鳞状细胞癌（Ⅱ级），部分区域坏死，体积4*3.5*2cm。\\n         ...   \n",
       "\n",
       "                                                肉眼所见      临床诊断  \\\n",
       "0  （左肺上叶）肺组织一块，体积20*14*3.5cm，表面大部分光滑，覆脏层胸膜，肺门部粗糙，...     左上肺占位   \n",
       "1  右肺中叶，体积11*10*2.5cm，表面大部分光滑覆脏层胸膜，肺门部粗糙，距支气管残端0....  肺内阴影（右中）   \n",
       "\n",
       "                  诊断时间 诊断医生     居住地                      肿瘤家族史  \\\n",
       "0  2013-10-25 10:54:33   刘群  山东省济南市  母亲有子宫癌病史，二姐因舌癌去世，三弟有直肠癌病史   \n",
       "1  2013-10-29 17:03:39   崔晶  山东省高青县                          无   \n",
       "\n",
       "                吸烟史 术前辅助治疗         术后辅助治疗            pTNM分期     预后  \n",
       "0  30年，20支/日，已戒烟20年      无  奥沙利铂+培美曲塞二钠化疗    鳞癌，pT2N0MO.Ib期  骨、肝转移  \n",
       "1         30年，20支/日      无   地行奈达铂+吉西他滨化疗  鳞癌，pT2aN1MO.IIa期    nan  "
      ]
     },
     "execution_count": 110,
     "metadata": {},
     "output_type": "execute_result"
    }
   ],
   "source": [
    "sheet.head(2)"
   ]
  },
  {
   "cell_type": "code",
   "execution_count": 111,
   "metadata": {},
   "outputs": [],
   "source": [
    "def preprocess(input_str):\n",
    "    res = re.sub('非小细胞癌','',input_str)\n",
    "    return res"
   ]
  },
  {
   "cell_type": "code",
   "execution_count": 112,
   "metadata": {},
   "outputs": [],
   "source": [
    "def strQ2B(ustring):\n",
    "    \"\"\"全角转半角\"\"\"\n",
    "    ustring = str(ustring)\n",
    "    rstring = \"\"\n",
    "    for uchar in ustring:\n",
    "        inside_code = ord(uchar)\n",
    "        if inside_code == 12288:  # 全角空格直接转换\n",
    "            inside_code = 32\n",
    "        elif (inside_code >= 65281 and inside_code <= 65374):  # 全角字符（除空格）根据关系转化\n",
    "            inside_code -= 65248\n",
    "        rstring += chr(inside_code)\n",
    "    return rstring"
   ]
  },
  {
   "cell_type": "code",
   "execution_count": 113,
   "metadata": {},
   "outputs": [],
   "source": [
    "pattern1 = re.compile(r'混合[性型].{0,5}癌',re.M) \n",
    "pattern2 = re.compile(r'小细胞癌',re.M)\n",
    "pattern3 = re.compile(r'大细胞癌|大细胞神经内分泌癌',re.M)\n",
    "pattern4 = re.compile(r'鳞癌|鳞状细胞癌',re.M)\n",
    "pattern5 = re.compile(r'腺癌',re.M)\n",
    "pattern_fq = re.compile(r'(.*?)([^\\u4E00-\\u9FA5]*[期]*)',re.M)\n",
    "pattern_fq2 = re.compile(r'([^a-zA-Z0-9]*)([^\\u4E00-\\u9FA5]*[期]*)',re.M)\n",
    "pattern_chinese = re.compile(r'[\\u4E00-\\u9FA5]+',re.M)"
   ]
  },
  {
   "cell_type": "code",
   "execution_count": 114,
   "metadata": {},
   "outputs": [],
   "source": [
    "def search_1(text):\n",
    "    if pattern1.search(text):\n",
    "        return True\n",
    "    if pattern4.search(text) and pattern5.search(text):\n",
    "        return True\n",
    "    if pattern5.search(text) and pattern2.search(text):\n",
    "        return True\n",
    "    if pattern4.search(text) and pattern2.search(text):\n",
    "        return True\n",
    "    return False"
   ]
  },
  {
   "cell_type": "code",
   "execution_count": 115,
   "metadata": {},
   "outputs": [],
   "source": [
    "def judge(text):\n",
    "    text = preprocess(text)\n",
    "    res = ''\n",
    "    if search_1(text):\n",
    "        res = '混合型癌'\n",
    "        return res\n",
    "    if pattern2.search(text):\n",
    "        res = '小细胞癌'\n",
    "        return res\n",
    "    if pattern3.search(text):\n",
    "        res = '大细胞癌'\n",
    "        return res\n",
    "    if pattern4.search(text):\n",
    "        res = '鳞癌'\n",
    "        return res\n",
    "    if pattern5.search(text):\n",
    "        res = '腺癌'\n",
    "        return res\n",
    "    res = '未知'\n",
    "    return res\n"
   ]
  },
  {
   "cell_type": "code",
   "execution_count": 116,
   "metadata": {},
   "outputs": [],
   "source": [
    "def judge2(text):\n",
    "    text = strQ2B(text)\n",
    "    seqs = text.split(',')\n",
    "    if len(seqs) >= 2:\n",
    "        if pattern_chinese.search(seqs[0]):\n",
    "            seqs = seqs[1:]\n",
    "    text = ''.join(seqs)\n",
    "    res = '未知'\n",
    "    if pattern_fq.search(text):\n",
    "        res = pattern_fq.search(text).group()\n",
    "        if res == '':\n",
    "            if pattern_fq2.search(text):\n",
    "                res = pattern_fq2.search(text).group(2)\n",
    "        if res == 'nan' or res == '':\n",
    "            res = '未知'\n",
    "        \n",
    "    return res     "
   ]
  },
  {
   "cell_type": "code",
   "execution_count": 117,
   "metadata": {},
   "outputs": [
    {
     "name": "stdout",
     "output_type": "stream",
     "text": [
      "T2N2M0Ⅲa\n"
     ]
    }
   ],
   "source": [
    "test_str = 'T2N2M0，Ⅲa'\n",
    "print(judge2(test_str))"
   ]
  },
  {
   "cell_type": "code",
   "execution_count": 118,
   "metadata": {},
   "outputs": [
    {
     "name": "stdout",
     "output_type": "stream",
     "text": [
      "T3N0MO.IIa期\n",
      "\n",
      "<_sre.SRE_Match object; span=(0, 0), match=''>\n"
     ]
    }
   ],
   "source": [
    "test_str = '混合性癌（小细胞癌，鳞癌）T3N0MO.IIa期'\n",
    "print(judge2(test_str))\n",
    "print(pattern_fq.search(test_str).group(0))\n",
    "print(pattern_fq.search(test_str))"
   ]
  },
  {
   "cell_type": "code",
   "execution_count": 119,
   "metadata": {},
   "outputs": [
    {
     "name": "stdout",
     "output_type": "stream",
     "text": [
      "<_sre.SRE_Match object; span=(0, 4), match='免疫组化'>\n"
     ]
    }
   ],
   "source": [
    "print(re.match(r'^[\\u4E00-\\u9FA5]+', '免疫组化'))"
   ]
  },
  {
   "cell_type": "code",
   "execution_count": 120,
   "metadata": {},
   "outputs": [
    {
     "name": "stdout",
     "output_type": "stream",
     "text": [
      "None\n"
     ]
    }
   ],
   "source": [
    "print(re.match(r'[^\\u4E00-\\u9FA5]+', '免疫组化'))"
   ]
  },
  {
   "cell_type": "code",
   "execution_count": 121,
   "metadata": {},
   "outputs": [
    {
     "name": "stdout",
     "output_type": "stream",
     "text": [
      "None\n"
     ]
    }
   ],
   "source": [
    "print(re.match(r'[[^\\u4E00-\\u9FA5]期]+', '免疫组化期'))"
   ]
  },
  {
   "cell_type": "code",
   "execution_count": 122,
   "metadata": {},
   "outputs": [
    {
     "name": "stdout",
     "output_type": "stream",
     "text": [
      "None\n"
     ]
    }
   ],
   "source": [
    "print(re.match(r'[[^\\u4E00-\\u9FA5]期]+', '免疫组化期'))"
   ]
  },
  {
   "cell_type": "code",
   "execution_count": 123,
   "metadata": {},
   "outputs": [
    {
     "name": "stdout",
     "output_type": "stream",
     "text": [
      "None\n"
     ]
    }
   ],
   "source": [
    "print(re.match(r'[^\\u4E00-\\u671E\\u6720-\\u9FA5]+', '免疫组化期'))"
   ]
  },
  {
   "cell_type": "code",
   "execution_count": 124,
   "metadata": {},
   "outputs": [
    {
     "name": "stdout",
     "output_type": "stream",
     "text": [
      "<_sre.SRE_Match object; span=(0, 0), match=''>\n"
     ]
    }
   ],
   "source": [
    "print(re.match(r'[^\\u4E00-\\u671E\\u6720-\\u9FA5]*', '免疫组化期'))"
   ]
  },
  {
   "cell_type": "code",
   "execution_count": 125,
   "metadata": {},
   "outputs": [
    {
     "name": "stdout",
     "output_type": "stream",
     "text": [
      "<_sre.SRE_Match object; span=(0, 0), match=''>\n"
     ]
    }
   ],
   "source": [
    "print(re.match(r'[^\\u4E00-\\u671E|^\\u6720-\\u9FA5]*', '免疫组化期'))"
   ]
  },
  {
   "cell_type": "code",
   "execution_count": 126,
   "metadata": {},
   "outputs": [
    {
     "name": "stdout",
     "output_type": "stream",
     "text": [
      "None\n"
     ]
    }
   ],
   "source": [
    "print(re.match(r'[^\\u4E00-\\u671E]+', '免疫组化期'))"
   ]
  },
  {
   "cell_type": "code",
   "execution_count": 127,
   "metadata": {},
   "outputs": [
    {
     "name": "stdout",
     "output_type": "stream",
     "text": [
      "<_sre.SRE_Match object; span=(0, 5), match='免疫组化期'>\n"
     ]
    }
   ],
   "source": [
    "print(re.match(r'[^\\u4E00]+', '免疫组化期'))"
   ]
  },
  {
   "cell_type": "code",
   "execution_count": 128,
   "metadata": {},
   "outputs": [
    {
     "name": "stdout",
     "output_type": "stream",
     "text": [
      "None\n"
     ]
    }
   ],
   "source": [
    "print(re.match(r'[^\\u4E00-\\u6710|期]+', '免疫组化期'))"
   ]
  },
  {
   "cell_type": "code",
   "execution_count": 129,
   "metadata": {},
   "outputs": [
    {
     "name": "stdout",
     "output_type": "stream",
     "text": [
      "None\n"
     ]
    }
   ],
   "source": [
    "print(re.match(r'[^\\u4E00-\\u6710]|期+', '免疫组化期'))"
   ]
  },
  {
   "cell_type": "code",
   "execution_count": 130,
   "metadata": {},
   "outputs": [
    {
     "name": "stdout",
     "output_type": "stream",
     "text": [
      "None\n"
     ]
    }
   ],
   "source": [
    "print(re.match(r'[^\\u4E00-\\u6710]+[期].', '免疫组化期'))"
   ]
  },
  {
   "cell_type": "code",
   "execution_count": 131,
   "metadata": {},
   "outputs": [
    {
     "name": "stdout",
     "output_type": "stream",
     "text": [
      "<_sre.SRE_Match object; span=(1, 3), match='疫组'>\n"
     ]
    }
   ],
   "source": [
    "print(re.search(r'[^\\u4E00-\\u6710]+[期]*', '免疫组化期'))"
   ]
  },
  {
   "cell_type": "code",
   "execution_count": 132,
   "metadata": {},
   "outputs": [
    {
     "name": "stdout",
     "output_type": "stream",
     "text": [
      "<_sre.SRE_Match object; span=(0, 5), match='免疫组化期'>\n"
     ]
    }
   ],
   "source": [
    "print(re.match(r'(.*)[^\\u4E00-\\u9FA5]*[期]*', '免疫组化期'))"
   ]
  },
  {
   "cell_type": "code",
   "execution_count": 133,
   "metadata": {},
   "outputs": [
    {
     "name": "stdout",
     "output_type": "stream",
     "text": [
      "None\n"
     ]
    }
   ],
   "source": [
    "print(re.match(r'[^\\u4E00-\\u9FA5]*[期]+', '免疫组化期'))"
   ]
  },
  {
   "cell_type": "code",
   "execution_count": 134,
   "metadata": {},
   "outputs": [
    {
     "name": "stdout",
     "output_type": "stream",
     "text": [
      "<_sre.SRE_Match object; span=(4, 5), match='期'>\n",
      "<_sre.SRE_Match object; span=(0, 0), match=''>\n"
     ]
    }
   ],
   "source": [
    "print(re.search(r'[^\\u4E00-\\u9FA5]*[期]+', '免疫组化期'))\n",
    "print(re.search(r'[^\\u4E00-\\u9FA5]*[期]*', '免疫组化期')) # search 返回的是第一个匹配,这样写的正则 空字符串也符合条件"
   ]
  },
  {
   "cell_type": "code",
   "execution_count": 135,
   "metadata": {},
   "outputs": [
    {
     "name": "stdout",
     "output_type": "stream",
     "text": [
      "<_sre.SRE_Match object; span=(4, 5), match='期'>\n",
      "<_sre.SRE_Match object; span=(0, 0), match=''>\n"
     ]
    }
   ],
   "source": [
    "print(re.search(r'[^\\u4E00-\\u9FA5\\s]*[期]+', '免疫组化期'))\n",
    "print(re.search(r'[^\\u4E00-\\u9FA5\\S]*[期]*', '免疫组化期')) "
   ]
  },
  {
   "cell_type": "code",
   "execution_count": 136,
   "metadata": {},
   "outputs": [
    {
     "name": "stdout",
     "output_type": "stream",
     "text": [
      "<_sre.SRE_Match object; span=(4, 5), match='期'>\n",
      "<_sre.SRE_Match object; span=(0, 5), match='免疫组化期'>\n"
     ]
    }
   ],
   "source": [
    "print(re.search(r'[^\\u4E00-\\u9FA5\\s]*[期]+', '免疫组化期'))\n",
    "print(re.search(r'[^\\u4E00-\\u9FA5\\s]*[期\\S]*', '免疫组化期'))"
   ]
  },
  {
   "cell_type": "code",
   "execution_count": 137,
   "metadata": {},
   "outputs": [
    {
     "name": "stdout",
     "output_type": "stream",
     "text": [
      "<_sre.SRE_Match object; span=(0, 0), match=''>\n"
     ]
    }
   ],
   "source": [
    "print(re.search(r'[^\\u4E00-\\u9FA5]+[期]+|[^\\u4E00-\\u9FA5]*', '免疫组化期'))"
   ]
  },
  {
   "cell_type": "code",
   "execution_count": 138,
   "metadata": {},
   "outputs": [
    {
     "name": "stdout",
     "output_type": "stream",
     "text": [
      "<_sre.SRE_Match object; span=(4, 5), match='期'>\n"
     ]
    }
   ],
   "source": [
    "print(re.search(r'[\\u671F]+', '免疫组化期')) "
   ]
  },
  {
   "cell_type": "code",
   "execution_count": 139,
   "metadata": {},
   "outputs": [
    {
     "data": {
      "text/plain": [
       "b'\\xe6\\x9c\\x9f'"
      ]
     },
     "execution_count": 139,
     "metadata": {},
     "output_type": "execute_result"
    }
   ],
   "source": [
    "'期'.encode()"
   ]
  },
  {
   "cell_type": "code",
   "execution_count": 140,
   "metadata": {},
   "outputs": [
    {
     "data": {
      "text/plain": [
       "b'\\xe6\\x9c\\x9f'"
      ]
     },
     "execution_count": 140,
     "metadata": {},
     "output_type": "execute_result"
    }
   ],
   "source": [
    "'期'.encode('utf-8')"
   ]
  },
  {
   "cell_type": "code",
   "execution_count": 141,
   "metadata": {},
   "outputs": [
    {
     "name": "stdout",
     "output_type": "stream",
     "text": [
      "期\n"
     ]
    }
   ],
   "source": [
    "print(u'期')"
   ]
  },
  {
   "cell_type": "code",
   "execution_count": 142,
   "metadata": {},
   "outputs": [
    {
     "data": {
      "text/plain": [
       "26399"
      ]
     },
     "execution_count": 142,
     "metadata": {},
     "output_type": "execute_result"
    }
   ],
   "source": [
    "ord('期') # 代表了第几个unicode字符"
   ]
  },
  {
   "cell_type": "code",
   "execution_count": 143,
   "metadata": {},
   "outputs": [
    {
     "data": {
      "text/plain": [
       "'0x671f'"
      ]
     },
     "execution_count": 143,
     "metadata": {},
     "output_type": "execute_result"
    }
   ],
   "source": [
    "hex(ord('期'))"
   ]
  },
  {
   "cell_type": "code",
   "execution_count": 144,
   "metadata": {},
   "outputs": [
    {
     "data": {
      "text/plain": [
       "'\\\\u671F'"
      ]
     },
     "execution_count": 144,
     "metadata": {},
     "output_type": "execute_result"
    }
   ],
   "source": [
    "hex(ord('期')).upper().replace('0X', r'\\u')"
   ]
  },
  {
   "cell_type": "code",
   "execution_count": 145,
   "metadata": {},
   "outputs": [
    {
     "name": "stdout",
     "output_type": "stream",
     "text": [
      "\\u671F\n"
     ]
    }
   ],
   "source": [
    "print(hex(ord('期')).upper().replace('0X', r'\\u'))"
   ]
  },
  {
   "cell_type": "code",
   "execution_count": 146,
   "metadata": {},
   "outputs": [
    {
     "name": "stdout",
     "output_type": "stream",
     "text": [
      "<_sre.SRE_Match object; span=(0, 12), match='pT2aN0M0 Ⅰb期'>\n",
      "<_sre.SRE_Match object; span=(0, 12), match='pT2aN0M0 Ⅰb期'>\n"
     ]
    }
   ],
   "source": [
    "print(re.search(r'[^\\u4E00-\\u9FA5]*[期]+', 'pT2aN0M0 Ⅰb期'))\n",
    "print(re.search(r'[^\\u4E00-\\u9FA5]*[期]*', 'pT2aN0M0 Ⅰb期'))"
   ]
  },
  {
   "cell_type": "code",
   "execution_count": 147,
   "metadata": {},
   "outputs": [
    {
     "name": "stdout",
     "output_type": "stream",
     "text": [
      "<_sre.SRE_Match object; span=(0, 7), match='pT2N3M1'>\n"
     ]
    }
   ],
   "source": [
    "print(re.search(r'[^\\u4E00-\\u9FA5]*[期]*', 'pT2N3M1未手术'))"
   ]
  },
  {
   "cell_type": "code",
   "execution_count": 148,
   "metadata": {},
   "outputs": [
    {
     "name": "stdout",
     "output_type": "stream",
     "text": [
      "<_sre.SRE_Match object; span=(0, 7), match='pT2N3M1'>\n"
     ]
    }
   ],
   "source": [
    "print(re.search(r'(.*?)([^\\u4E00-\\u9FA5]*[期]*)', 'pT2N3M1未手术'))"
   ]
  },
  {
   "cell_type": "code",
   "execution_count": 149,
   "metadata": {},
   "outputs": [
    {
     "name": "stdout",
     "output_type": "stream",
     "text": [
      "<_sre.SRE_Match object; span=(0, 12), match='pT2aN0M0 Ⅰb期'>\n",
      "pT2aN0M0 Ⅰb期\n"
     ]
    }
   ],
   "source": [
    "print(re.search(r'(.*?)([^\\u4E00-\\u9FA5]*[期]*)', 'pT2aN0M0 Ⅰb期'))\n",
    "print(re.search(r'(.*?)([^\\u4E00-\\u9FA5]*[期]*)', 'pT2aN0M0 Ⅰb期').group())"
   ]
  },
  {
   "cell_type": "markdown",
   "metadata": {},
   "source": [
    "这样可以保留\"期\""
   ]
  },
  {
   "cell_type": "markdown",
   "metadata": {},
   "source": [
    "[^...]\t不在[]中的字符：[^abc] 匹配除了a,b,c之外的字符。"
   ]
  },
  {
   "cell_type": "code",
   "execution_count": 150,
   "metadata": {},
   "outputs": [
    {
     "data": {
      "text/plain": [
       "(448, 17)"
      ]
     },
     "execution_count": 150,
     "metadata": {},
     "output_type": "execute_result"
    }
   ],
   "source": [
    "sheet.shape"
   ]
  },
  {
   "cell_type": "code",
   "execution_count": 151,
   "metadata": {},
   "outputs": [
    {
     "data": {
      "text/plain": [
       "448"
      ]
     },
     "execution_count": 151,
     "metadata": {},
     "output_type": "execute_result"
    }
   ],
   "source": [
    "row_num = sheet.shape[0]\n",
    "row_num"
   ]
  },
  {
   "cell_type": "code",
   "execution_count": 152,
   "metadata": {},
   "outputs": [],
   "source": [
    "azlx_list = []\n",
    "fq_list = []\n",
    "blzd_texts = sheet['病理诊断']\n",
    "fq_texts = sheet['pTNM分期']\n",
    "for idx in range(row_num):\n",
    "    res = judge(fq_texts[idx])\n",
    "    if res == '未知':\n",
    "        res = judge(blzd_texts[idx])\n",
    "    azlx_list.append(res)\n",
    "    fq = judge2(fq_texts[idx])\n",
    "    fq_list.append(fq)\n",
    "    "
   ]
  },
  {
   "cell_type": "code",
   "execution_count": 153,
   "metadata": {},
   "outputs": [
    {
     "data": {
      "text/plain": [
       "448"
      ]
     },
     "execution_count": 153,
     "metadata": {},
     "output_type": "execute_result"
    }
   ],
   "source": [
    "len(azlx_list)"
   ]
  },
  {
   "cell_type": "code",
   "execution_count": 154,
   "metadata": {},
   "outputs": [
    {
     "data": {
      "text/plain": [
       "['鳞癌', '鳞癌', '鳞癌', '腺癌', '鳞癌']"
      ]
     },
     "execution_count": 154,
     "metadata": {},
     "output_type": "execute_result"
    }
   ],
   "source": [
    "azlx_list[:5]"
   ]
  },
  {
   "cell_type": "code",
   "execution_count": 155,
   "metadata": {},
   "outputs": [
    {
     "data": {
      "text/plain": [
       "448"
      ]
     },
     "execution_count": 155,
     "metadata": {},
     "output_type": "execute_result"
    }
   ],
   "source": [
    "len(fq_list)"
   ]
  },
  {
   "cell_type": "code",
   "execution_count": 156,
   "metadata": {},
   "outputs": [
    {
     "data": {
      "text/plain": [
       "['pT2N0MO.Ib期',\n",
       " 'pT2aN1MO.IIa期',\n",
       " 'pT2bN1MO.IIb期',\n",
       " 'T1aNOMO.Ia期',\n",
       " 'pT2aN0MO.Ib期']"
      ]
     },
     "execution_count": 156,
     "metadata": {},
     "output_type": "execute_result"
    }
   ],
   "source": [
    "fq_list[:5]"
   ]
  },
  {
   "cell_type": "code",
   "execution_count": 157,
   "metadata": {},
   "outputs": [],
   "source": [
    "sheet['癌种类型'] = azlx_list\n",
    "sheet['分期类型'] = fq_list"
   ]
  },
  {
   "cell_type": "code",
   "execution_count": 158,
   "metadata": {},
   "outputs": [
    {
     "data": {
      "text/html": [
       "<div>\n",
       "<style scoped>\n",
       "    .dataframe tbody tr th:only-of-type {\n",
       "        vertical-align: middle;\n",
       "    }\n",
       "\n",
       "    .dataframe tbody tr th {\n",
       "        vertical-align: top;\n",
       "    }\n",
       "\n",
       "    .dataframe thead th {\n",
       "        text-align: right;\n",
       "    }\n",
       "</style>\n",
       "<table border=\"1\" class=\"dataframe\">\n",
       "  <thead>\n",
       "    <tr style=\"text-align: right;\">\n",
       "      <th></th>\n",
       "      <th>病理号</th>\n",
       "      <th>住院号</th>\n",
       "      <th>性别</th>\n",
       "      <th>年龄</th>\n",
       "      <th>标本名称</th>\n",
       "      <th>病理诊断</th>\n",
       "      <th>肉眼所见</th>\n",
       "      <th>临床诊断</th>\n",
       "      <th>诊断时间</th>\n",
       "      <th>诊断医生</th>\n",
       "      <th>居住地</th>\n",
       "      <th>肿瘤家族史</th>\n",
       "      <th>吸烟史</th>\n",
       "      <th>术前辅助治疗</th>\n",
       "      <th>术后辅助治疗</th>\n",
       "      <th>pTNM分期</th>\n",
       "      <th>预后</th>\n",
       "      <th>癌种类型</th>\n",
       "      <th>分期类型</th>\n",
       "    </tr>\n",
       "  </thead>\n",
       "  <tbody>\n",
       "    <tr>\n",
       "      <th>0</th>\n",
       "      <td>201313341</td>\n",
       "      <td>188019</td>\n",
       "      <td>男</td>\n",
       "      <td>71岁</td>\n",
       "      <td>肺</td>\n",
       "      <td>（左肺上叶）鳞状细胞癌（中度分化），体积4.5*3.5*2.5cm，侵达脏层胸膜，残端切线未...</td>\n",
       "      <td>（左肺上叶）肺组织一块，体积20*14*3.5cm，表面大部分光滑，覆脏层胸膜，肺门部粗糙，...</td>\n",
       "      <td>左上肺占位</td>\n",
       "      <td>2013-10-25 10:54:33</td>\n",
       "      <td>刘群</td>\n",
       "      <td>山东省济南市</td>\n",
       "      <td>母亲有子宫癌病史，二姐因舌癌去世，三弟有直肠癌病史</td>\n",
       "      <td>30年，20支/日，已戒烟20年</td>\n",
       "      <td>无</td>\n",
       "      <td>奥沙利铂+培美曲塞二钠化疗</td>\n",
       "      <td>鳞癌，pT2N0MO.Ib期</td>\n",
       "      <td>骨、肝转移</td>\n",
       "      <td>鳞癌</td>\n",
       "      <td>pT2N0MO.Ib期</td>\n",
       "    </tr>\n",
       "    <tr>\n",
       "      <th>1</th>\n",
       "      <td>201313542</td>\n",
       "      <td>244707</td>\n",
       "      <td>男</td>\n",
       "      <td>61岁</td>\n",
       "      <td>肺</td>\n",
       "      <td>（右中叶）肺鳞状细胞癌（Ⅱ级），部分区域坏死，体积4*3.5*2cm。\\n         ...</td>\n",
       "      <td>右肺中叶，体积11*10*2.5cm，表面大部分光滑覆脏层胸膜，肺门部粗糙，距支气管残端0....</td>\n",
       "      <td>肺内阴影（右中）</td>\n",
       "      <td>2013-10-29 17:03:39</td>\n",
       "      <td>崔晶</td>\n",
       "      <td>山东省高青县</td>\n",
       "      <td>无</td>\n",
       "      <td>30年，20支/日</td>\n",
       "      <td>无</td>\n",
       "      <td>地行奈达铂+吉西他滨化疗</td>\n",
       "      <td>鳞癌，pT2aN1MO.IIa期</td>\n",
       "      <td>nan</td>\n",
       "      <td>鳞癌</td>\n",
       "      <td>pT2aN1MO.IIa期</td>\n",
       "    </tr>\n",
       "    <tr>\n",
       "      <th>2</th>\n",
       "      <td>201315170</td>\n",
       "      <td>197718</td>\n",
       "      <td>男</td>\n",
       "      <td>64岁</td>\n",
       "      <td>肺</td>\n",
       "      <td>（左肺下叶）鳞状细胞癌（中度分化），体积5.5*3.5*3cm。\\n            ...</td>\n",
       "      <td>左肺下叶，体积16*9*3cm，表面大部分光滑覆脏层胸膜，肺门部粗糙，打开各段支气管及做肺切...</td>\n",
       "      <td>肺部阴影</td>\n",
       "      <td>2013-11-28 15:25:07</td>\n",
       "      <td>赫淑倩</td>\n",
       "      <td>山东省济南市</td>\n",
       "      <td>无</td>\n",
       "      <td>30年，20支/日</td>\n",
       "      <td>无</td>\n",
       "      <td>奈达铂+吉西他滨化疗</td>\n",
       "      <td>鳞癌，pT2bN1MO.IIb期</td>\n",
       "      <td>nan</td>\n",
       "      <td>鳞癌</td>\n",
       "      <td>pT2bN1MO.IIb期</td>\n",
       "    </tr>\n",
       "    <tr>\n",
       "      <th>3</th>\n",
       "      <td>201315241</td>\n",
       "      <td>247434</td>\n",
       "      <td>女</td>\n",
       "      <td>57岁</td>\n",
       "      <td>肺</td>\n",
       "      <td>（右肺上叶）腺癌（中度分化），体积1.7*1.4*1cm，侵达胸膜。\\n          ...</td>\n",
       "      <td>右肺上叶，体积17.5*10*4cm，表面大部分光滑覆脏层胸膜，肺门部粗糙，打开各段支气管及...</td>\n",
       "      <td>右肺上叶占位</td>\n",
       "      <td>2013-11-27 15:30:36</td>\n",
       "      <td>赫淑倩</td>\n",
       "      <td>山东省淄博市</td>\n",
       "      <td>无</td>\n",
       "      <td>无</td>\n",
       "      <td>无</td>\n",
       "      <td>奥沙利铂+培美曲塞二钠化疗、奥沙利铂+泽菲化疗</td>\n",
       "      <td>腺癌，T1aNOMO.Ia期</td>\n",
       "      <td>nan</td>\n",
       "      <td>腺癌</td>\n",
       "      <td>T1aNOMO.Ia期</td>\n",
       "    </tr>\n",
       "    <tr>\n",
       "      <th>4</th>\n",
       "      <td>201401024</td>\n",
       "      <td>250398</td>\n",
       "      <td>男</td>\n",
       "      <td>56岁</td>\n",
       "      <td>肺</td>\n",
       "      <td>左肺上叶鳞状细胞癌（中度分化），体积3*2*2cm，未累及支气管残端切线。\\n肺门（4个）、...</td>\n",
       "      <td>（左肺上叶）肺组织，体积10*9*13*2.5cm，表面光滑覆脏层胸膜，打开各支气管及做肺切...</td>\n",
       "      <td>左肺癌</td>\n",
       "      <td>2014-01-24 16:54:38</td>\n",
       "      <td>周萍</td>\n",
       "      <td>山东省济南市</td>\n",
       "      <td>父亲死于食道癌</td>\n",
       "      <td>30年，40支/日</td>\n",
       "      <td>无</td>\n",
       "      <td>奥沙利铂+吉西他滨化疗</td>\n",
       "      <td>鳞癌，pT2aN0MO.Ib期</td>\n",
       "      <td>nan</td>\n",
       "      <td>鳞癌</td>\n",
       "      <td>pT2aN0MO.Ib期</td>\n",
       "    </tr>\n",
       "  </tbody>\n",
       "</table>\n",
       "</div>"
      ],
      "text/plain": [
       "         病理号     住院号 性别   年龄 标本名称  \\\n",
       "0  201313341  188019  男  71岁    肺   \n",
       "1  201313542  244707  男  61岁    肺   \n",
       "2  201315170  197718  男  64岁    肺   \n",
       "3  201315241  247434  女  57岁    肺   \n",
       "4  201401024  250398  男  56岁    肺   \n",
       "\n",
       "                                                病理诊断  \\\n",
       "0  （左肺上叶）鳞状细胞癌（中度分化），体积4.5*3.5*2.5cm，侵达脏层胸膜，残端切线未...   \n",
       "1  （右中叶）肺鳞状细胞癌（Ⅱ级），部分区域坏死，体积4*3.5*2cm。\\n         ...   \n",
       "2  （左肺下叶）鳞状细胞癌（中度分化），体积5.5*3.5*3cm。\\n            ...   \n",
       "3  （右肺上叶）腺癌（中度分化），体积1.7*1.4*1cm，侵达胸膜。\\n          ...   \n",
       "4  左肺上叶鳞状细胞癌（中度分化），体积3*2*2cm，未累及支气管残端切线。\\n肺门（4个）、...   \n",
       "\n",
       "                                                肉眼所见      临床诊断  \\\n",
       "0  （左肺上叶）肺组织一块，体积20*14*3.5cm，表面大部分光滑，覆脏层胸膜，肺门部粗糙，...     左上肺占位   \n",
       "1  右肺中叶，体积11*10*2.5cm，表面大部分光滑覆脏层胸膜，肺门部粗糙，距支气管残端0....  肺内阴影（右中）   \n",
       "2  左肺下叶，体积16*9*3cm，表面大部分光滑覆脏层胸膜，肺门部粗糙，打开各段支气管及做肺切...      肺部阴影   \n",
       "3  右肺上叶，体积17.5*10*4cm，表面大部分光滑覆脏层胸膜，肺门部粗糙，打开各段支气管及...    右肺上叶占位   \n",
       "4  （左肺上叶）肺组织，体积10*9*13*2.5cm，表面光滑覆脏层胸膜，打开各支气管及做肺切...       左肺癌   \n",
       "\n",
       "                  诊断时间 诊断医生     居住地                      肿瘤家族史  \\\n",
       "0  2013-10-25 10:54:33   刘群  山东省济南市  母亲有子宫癌病史，二姐因舌癌去世，三弟有直肠癌病史   \n",
       "1  2013-10-29 17:03:39   崔晶  山东省高青县                          无   \n",
       "2  2013-11-28 15:25:07  赫淑倩  山东省济南市                          无   \n",
       "3  2013-11-27 15:30:36  赫淑倩  山东省淄博市                          无   \n",
       "4  2014-01-24 16:54:38   周萍  山东省济南市                    父亲死于食道癌   \n",
       "\n",
       "                吸烟史 术前辅助治疗                   术后辅助治疗            pTNM分期     预后  \\\n",
       "0  30年，20支/日，已戒烟20年      无            奥沙利铂+培美曲塞二钠化疗    鳞癌，pT2N0MO.Ib期  骨、肝转移   \n",
       "1         30年，20支/日      无             地行奈达铂+吉西他滨化疗  鳞癌，pT2aN1MO.IIa期    nan   \n",
       "2         30年，20支/日      无               奈达铂+吉西他滨化疗  鳞癌，pT2bN1MO.IIb期    nan   \n",
       "3                 无      无  奥沙利铂+培美曲塞二钠化疗、奥沙利铂+泽菲化疗    腺癌，T1aNOMO.Ia期    nan   \n",
       "4         30年，40支/日      无              奥沙利铂+吉西他滨化疗   鳞癌，pT2aN0MO.Ib期    nan   \n",
       "\n",
       "  癌种类型           分期类型  \n",
       "0   鳞癌    pT2N0MO.Ib期  \n",
       "1   鳞癌  pT2aN1MO.IIa期  \n",
       "2   鳞癌  pT2bN1MO.IIb期  \n",
       "3   腺癌    T1aNOMO.Ia期  \n",
       "4   鳞癌   pT2aN0MO.Ib期  "
      ]
     },
     "execution_count": 158,
     "metadata": {},
     "output_type": "execute_result"
    }
   ],
   "source": [
    "sheet.head(5)"
   ]
  },
  {
   "cell_type": "code",
   "execution_count": 159,
   "metadata": {},
   "outputs": [],
   "source": [
    "sheet.to_excel('../../output/山东省千佛山医院病理科肺癌数据_count.xls',encoding = 'utf_8_sig',index = False)"
   ]
  },
  {
   "cell_type": "code",
   "execution_count": 3,
   "metadata": {},
   "outputs": [
    {
     "name": "stdout",
     "output_type": "stream",
     "text": [
      "<_sre.SRE_Match object; span=(7, 10), match='ALK'>\n",
      "\n",
      "<_sre.SRE_Match object; span=(23, 26), match='ALK'>\n",
      "\n"
     ]
    }
   ],
   "source": [
    "import re   \n",
    "pattern = re.compile(r'ALK((^ALK){0,16}?)',re.I|re.M) #忽略大小写\n",
    "def get_windows(input_str):\n",
    "    for match in pattern.finditer(input_str):\n",
    "        window = match.group(1)\n",
    "        print(match)\n",
    "        window = window.lower()\n",
    "        yield window \n",
    "\n",
    "text = '免疫组化结果：ALK(D5F3阴性对照)（-）ALK(D5F3)(ventana全自动免疫组化)(-)。'\n",
    "for window in get_windows(text):\n",
    "    print(window)"
   ]
  },
  {
   "cell_type": "code",
   "execution_count": 4,
   "metadata": {},
   "outputs": [
    {
     "name": "stdout",
     "output_type": "stream",
     "text": [
      "<_sre.SRE_Match object; span=(7, 10), match='ALK'>\n",
      "\n",
      "<_sre.SRE_Match object; span=(23, 26), match='ALK'>\n",
      "\n"
     ]
    }
   ],
   "source": [
    "import re   \n",
    "pattern = re.compile(r'ALK([^(ALK)]{0,16}?)',re.I|re.M) #忽略大小写\n",
    "def get_windows(input_str):\n",
    "    for match in pattern.finditer(input_str):\n",
    "        window = match.group(1)\n",
    "        print(match)\n",
    "        window = window.lower()\n",
    "        yield window \n",
    "\n",
    "text = '免疫组化结果：ALK(D5F3阴性对照)（-）ALK(D5F3)(ventana全自动免疫组化)(-)。'\n",
    "for window in get_windows(text):\n",
    "    print(window)"
   ]
  },
  {
   "cell_type": "markdown",
   "metadata": {},
   "source": [
    "\n",
    "去除/不包括 某一词而不是某个字母    \n",
    "https://stackoverflow.com/questions/2078915/a-regular-expression-to-exclude-a-word-string\n",
    "\n",
    "\n",
    "\n",
    "\n",
    "\n",
    "(?! re)\t前向否定界定符。与肯定界定符相反；当所含表达式不能在字符串当前位置匹配时成功.\n",
    "\n",
    "?! 表示这里的括号不是分组的意思，且是否定。\n",
    "\n",
    "\n",
    "\n",
    "\n"
   ]
  },
  {
   "cell_type": "code",
   "execution_count": 9,
   "metadata": {},
   "outputs": [
    {
     "name": "stdout",
     "output_type": "stream",
     "text": [
      "<_sre.SRE_Match object; span=(7, 26), match='ALK(D5F3阴性对照)（-）ALK'>\n",
      "(d5f3阴性对照)（-）alk\n"
     ]
    }
   ],
   "source": [
    "import re   \n",
    "pattern = re.compile(r'ALK(.{0,16}(?!ALK))',re.I|re.M) #忽略大小写\n",
    "def get_windows(input_str):\n",
    "    for match in pattern.finditer(input_str):\n",
    "        window = match.group(1)\n",
    "        print(match)\n",
    "        window = window.lower()\n",
    "        yield window \n",
    "\n",
    "text = '免疫组化结果：ALK(D5F3阴性对照)（-）ALK(D5F3)(ventana全自动免疫组化)(-)。'\n",
    "for window in get_windows(text):\n",
    "    print(window)"
   ]
  },
  {
   "cell_type": "code",
   "execution_count": 11,
   "metadata": {},
   "outputs": [
    {
     "name": "stdout",
     "output_type": "stream",
     "text": [
      "<_sre.SRE_Match object; span=(7, 26), match='ALK(D5F3阴性对照)（-）ALK'>\n",
      "(d5f3阴性对照)（-）alk\n"
     ]
    }
   ],
   "source": [
    "import re   \n",
    "pattern = re.compile(r'ALK(.{0,16}(?!ALK$))',re.I|re.M) #忽略大小写\n",
    "def get_windows(input_str):\n",
    "    for match in pattern.finditer(input_str):\n",
    "        window = match.group(1)\n",
    "        print(match)\n",
    "        window = window.lower()\n",
    "        yield window \n",
    "\n",
    "text = '免疫组化结果：ALK(D5F3阴性对照)（-）ALK(D5F3)(ventana全自动免疫组化)(-)。'\n",
    "for window in get_windows(text):\n",
    "    print(window)"
   ]
  },
  {
   "cell_type": "code",
   "execution_count": 26,
   "metadata": {},
   "outputs": [
    {
     "name": "stdout",
     "output_type": "stream",
     "text": [
      "<_sre.SRE_Match object; span=(7, 11), match='ALK('>\n",
      "(\n",
      "<_sre.SRE_Match object; span=(23, 27), match='ALK('>\n",
      "(\n"
     ]
    }
   ],
   "source": [
    "import re   \n",
    "pattern = re.compile(r'ALK([(?!ALK)]{0,13})',re.I|re.M) #忽略大小写\n",
    "def get_windows(input_str):\n",
    "    for match in pattern.finditer(input_str):\n",
    "        window = match.group(1)\n",
    "        print(match)\n",
    "        window = window.lower()\n",
    "        yield window \n",
    "\n",
    "text = '免疫组化结果：ALK(D5F3阴性对照)（-）ALK(D5F3)(ventana全自动免疫组化)(-)。'\n",
    "for window in get_windows(text):\n",
    "    print(window)"
   ]
  },
  {
   "cell_type": "code",
   "execution_count": 30,
   "metadata": {},
   "outputs": [
    {
     "name": "stdout",
     "output_type": "stream",
     "text": [
      "<_sre.SRE_Match object; span=(7, 10), match='ALK'>\n",
      "\n",
      "<_sre.SRE_Match object; span=(23, 26), match='ALK'>\n",
      "\n"
     ]
    }
   ],
   "source": [
    "import re   \n",
    "pattern = re.compile(r'ALK(.*?)',re.I|re.M) #忽略大小写\n",
    "def get_windows(input_str):\n",
    "    for match in pattern.finditer(input_str):\n",
    "        window = match.group(1)\n",
    "        print(match)\n",
    "        window = window.lower()\n",
    "        yield window \n",
    "\n",
    "text = '免疫组化结果：ALK(D5F3阴性对照)（-）ALK(D5F3)(ventana全自动免疫组化)(-)。'\n",
    "for window in get_windows(text):\n",
    "    print(window)"
   ]
  },
  {
   "cell_type": "code",
   "execution_count": 31,
   "metadata": {},
   "outputs": [
    {
     "name": "stdout",
     "output_type": "stream",
     "text": [
      "<_sre.SRE_Match object; span=(7, 10), match='ALK'>\n",
      "\n",
      "<_sre.SRE_Match object; span=(23, 26), match='ALK'>\n",
      "\n"
     ]
    }
   ],
   "source": [
    "import re   \n",
    "pattern = re.compile(r'ALK((?!^ALK){0,13})',re.I|re.M) #忽略大小写\n",
    "def get_windows(input_str):\n",
    "    for match in pattern.finditer(input_str):\n",
    "        window = match.group(1)\n",
    "        print(match)\n",
    "        window = window.lower()\n",
    "        yield window \n",
    "\n",
    "text = '免疫组化结果：ALK(D5F3阴性对照)（-）ALK(D5F3)(ventana全自动免疫组化)(-)。'\n",
    "for window in get_windows(text):\n",
    "    print(window)"
   ]
  },
  {
   "cell_type": "code",
   "execution_count": 32,
   "metadata": {},
   "outputs": [
    {
     "name": "stdout",
     "output_type": "stream",
     "text": [
      "<_sre.SRE_Match object; span=(7, 10), match='ALK'>\n",
      "\n",
      "<_sre.SRE_Match object; span=(23, 26), match='ALK'>\n",
      "\n"
     ]
    }
   ],
   "source": [
    "import re   \n",
    "pattern = re.compile(r'ALK((?!^ALK?){0,13})',re.I|re.M) #忽略大小写\n",
    "def get_windows(input_str):\n",
    "    for match in pattern.finditer(input_str):\n",
    "        window = match.group(1)\n",
    "        print(match)\n",
    "        window = window.lower()\n",
    "        yield window \n",
    "\n",
    "text = '免疫组化结果：ALK(D5F3阴性对照)（-）ALK(D5F3)(ventana全自动免疫组化)(-)。'\n",
    "for window in get_windows(text):\n",
    "    print(window)"
   ]
  },
  {
   "cell_type": "code",
   "execution_count": 33,
   "metadata": {},
   "outputs": [
    {
     "name": "stdout",
     "output_type": "stream",
     "text": [
      "<_sre.SRE_Match object; span=(7, 10), match='ALK'>\n",
      "\n",
      "<_sre.SRE_Match object; span=(23, 26), match='ALK'>\n",
      "\n"
     ]
    }
   ],
   "source": [
    "import re   \n",
    "pattern = re.compile(r'ALK((?!\\bALK\\b){0,13})',re.I|re.M) #忽略大小写\n",
    "def get_windows(input_str):\n",
    "    for match in pattern.finditer(input_str):\n",
    "        window = match.group(1)\n",
    "        print(match)\n",
    "        window = window.lower()\n",
    "        yield window \n",
    "\n",
    "text = '免疫组化结果：ALK(D5F3阴性对照)（-）ALK(D5F3)(ventana全自动免疫组化)(-)。'\n",
    "for window in get_windows(text):\n",
    "    print(window)"
   ]
  },
  {
   "cell_type": "code",
   "execution_count": 34,
   "metadata": {},
   "outputs": [
    {
     "name": "stdout",
     "output_type": "stream",
     "text": [
      "<_sre.SRE_Match object; span=(7, 52), match='ALK(D5F3阴性对照)（-）ALK(D5F3)(ventana全自动免疫组化)(-)。'>\n",
      "(d5f3阴性对照)（-）alk(d5f3)(ventana全自动免疫组化)(-)。\n"
     ]
    }
   ],
   "source": [
    "import re   \n",
    "pattern = re.compile(r'ALK(.+(?!\\bALK\\b){0,13})',re.I|re.M) #忽略大小写\n",
    "def get_windows(input_str):\n",
    "    for match in pattern.finditer(input_str):\n",
    "        window = match.group(1)\n",
    "        print(match)\n",
    "        window = window.lower()\n",
    "        yield window \n",
    "\n",
    "text = '免疫组化结果：ALK(D5F3阴性对照)（-）ALK(D5F3)(ventana全自动免疫组化)(-)。'\n",
    "for window in get_windows(text):\n",
    "    print(window)"
   ]
  },
  {
   "cell_type": "code",
   "execution_count": null,
   "metadata": {},
   "outputs": [],
   "source": [
    "import re   \n",
    "pattern = re.compile(r'ALK(.+(?!\\bALK\\b){0,13})',re.I|re.M) #忽略大小写\n",
    "def get_windows(input_str):\n",
    "    for match in pattern.finditer(input_str):\n",
    "        window = match.group(1)\n",
    "        print(match)\n",
    "        window = window.lower()\n",
    "        yield window \n",
    "text = '免疫组化结果：ALK(D5F3阴性对照)（-）ALK(D5F3)(ventana全自动免疫组化)(-)。'\n",
    "for window in get_windows(text):\n",
    "    print(window)"
   ]
  },
  {
   "cell_type": "markdown",
   "metadata": {},
   "source": [
    "如果末尾要不为ALK，那么即使给.加了?非贪婪匹配，那么 .会把ALK吸收进去。"
   ]
  },
  {
   "cell_type": "code",
   "execution_count": 37,
   "metadata": {},
   "outputs": [
    {
     "name": "stdout",
     "output_type": "stream",
     "text": [
      "<_sre.SRE_Match object; span=(7, 52), match='ALK(D5F3阴性对照)（-）ALK(D5F3)(ventana全自动免疫组化)(-)。'>\n",
      "(d5f3阴性对照)（-）alk(d5f3)(ventana全自动免疫组化)(-)。\n"
     ]
    }
   ],
   "source": [
    "import re   \n",
    "pattern = re.compile(r'ALK(.+(?!ALK)+?)',re.I|re.M) #忽略大小写\n",
    "def get_windows(input_str):\n",
    "    for match in pattern.finditer(input_str):\n",
    "        window = match.group(1)\n",
    "        print(match)\n",
    "        window = window.lower()\n",
    "        yield window \n",
    "text = '免疫组化结果：ALK(D5F3阴性对照)（-）ALK(D5F3)(ventana全自动免疫组化)(-)。'\n",
    "for window in get_windows(text):\n",
    "    print(window)"
   ]
  },
  {
   "cell_type": "markdown",
   "metadata": {},
   "source": [
    "如何让下一个ALK不被吸收进去？\n"
   ]
  },
  {
   "cell_type": "markdown",
   "metadata": {},
   "source": [
    "the regex engine should enter and leave the group only once.\n",
    "\n",
    "一个()代表的group相当于正则引擎进入一次离开一次，然后把进入的地方和离开的地方的中间地带记录下来。\n"
   ]
  },
  {
   "cell_type": "markdown",
   "metadata": {},
   "source": [
    "翻了很多帖子，暂时没有找到解决方案"
   ]
  },
  {
   "cell_type": "code",
   "execution_count": 44,
   "metadata": {},
   "outputs": [
    {
     "name": "stdout",
     "output_type": "stream",
     "text": [
      "<_sre.SRE_Match object; span=(7, 10), match='ALK'>\n",
      "7\n",
      "A\n",
      "alk\n",
      "<_sre.SRE_Match object; span=(23, 26), match='ALK'>\n",
      "23\n",
      "A\n",
      "alk\n"
     ]
    }
   ],
   "source": [
    "import re   \n",
    "pattern = re.compile(r'ALK',re.I|re.M) #忽略大小写\n",
    "def get_windows(input_str):\n",
    "    for match in pattern.finditer(input_str):\n",
    "        window = match.group()\n",
    "        print(match)\n",
    "        print(match.span(0)[0])\n",
    "        print(input_str[match.span()[0]])\n",
    "        window = window.lower()\n",
    "        yield window \n",
    "text = '免疫组化结果：ALK(D5F3阴性对照)（-）ALK(D5F3)(ventana全自动免疫组化)(-)。'\n",
    "for window in get_windows(text):\n",
    "    print(window)"
   ]
  },
  {
   "cell_type": "code",
   "execution_count": 1,
   "metadata": {},
   "outputs": [
    {
     "name": "stdout",
     "output_type": "stream",
     "text": [
      "aeajeaeja\n"
     ]
    }
   ],
   "source": [
    "s = 'aeajeaeja'\n",
    "print(s[:100])"
   ]
  },
  {
   "cell_type": "code",
   "execution_count": 14,
   "metadata": {},
   "outputs": [
    {
     "name": "stdout",
     "output_type": "stream",
     "text": [
      "(D5F3阴性对照)（-）\n",
      "(D5F3)(ventana全自\n",
      "<generator object get_windows at 0x00000190CA3E6150>\n",
      "没有\n",
      "没有\n"
     ]
    }
   ],
   "source": [
    "import re   \n",
    "pattern = re.compile(r'ALK',re.I|re.M) #忽略大小写\n",
    "def get_windows(input_str):\n",
    "    matches = list(pattern.finditer(input_str))\n",
    "    match_num = len(matches)\n",
    "    if match_num == 1:\n",
    "        start = matches[0].span(0)[1]\n",
    "        window = input_str[start:start+13]\n",
    "        yield window \n",
    "    elif match_num > 1:\n",
    "        for idx in range(match_num-1):\n",
    "            start = matches[idx].span(0)[1]\n",
    "            next_pos = matches[idx+1].span(0)[0]\n",
    "            end = start + 16 if start + 16 < next_pos else next_pos\n",
    "            window = input_str[start:end]\n",
    "            yield window\n",
    "        start = matches[idx+1].span(0)[1]\n",
    "        window = input_str[start:start+16]\n",
    "        yield window\n",
    "\n",
    "text = '免疫组化结果：ALK(D5F3阴性对照)（-）ALK(D5F3)(ventana全自动免疫组化)(-)。'\n",
    "for window in get_windows(text):\n",
    "    print(window)\n",
    "text = '没有'\n",
    "if not get_windows(text):\n",
    "    print('没有')\n",
    "else:\n",
    "    print(get_windows(text))\n",
    "    \n",
    "    \n",
    "if not len(list(get_windows(text))):\n",
    "    print('没有')\n",
    "else:\n",
    "    print(get_windows(text))\n",
    "    \n",
    "    \n",
    "    \n",
    "    \n",
    "if not list(get_windows(text)):\n",
    "    print('没有')\n",
    "else:\n",
    "    print(get_windows(text))"
   ]
  },
  {
   "cell_type": "code",
   "execution_count": 15,
   "metadata": {},
   "outputs": [
    {
     "name": "stdout",
     "output_type": "stream",
     "text": [
      "<_sre.SRE_Match object; span=(0, 11), match='建议不要做alk检测，'>\n"
     ]
    }
   ],
   "source": [
    "import re \n",
    "text = '建议不要做alk检测，'\n",
    "pattern = re.compile('.*建议.*ALK[^,.;]*(,|.|;)',re.M | re.I)\n",
    "print(pattern.search(text))"
   ]
  },
  {
   "cell_type": "code",
   "execution_count": 16,
   "metadata": {},
   "outputs": [
    {
     "name": "stdout",
     "output_type": "stream",
     "text": [
      "<_sre.SRE_Match object; span=(0, 10), match='建议不要做alk检测'>\n"
     ]
    }
   ],
   "source": [
    "text = '建议不要做alk检测'\n",
    "pattern = re.compile('.*建议.*ALK[^,.;]*(,|.|;)',re.M | re.I)\n",
    "print(pattern.search(text))"
   ]
  },
  {
   "cell_type": "code",
   "execution_count": 17,
   "metadata": {},
   "outputs": [
    {
     "name": "stdout",
     "output_type": "stream",
     "text": [
      "<_sre.SRE_Match object; span=(0, 10), match='建议不要做alk检,'>\n"
     ]
    }
   ],
   "source": [
    "text = '建议不要做alk检,eaea'\n",
    "pattern = re.compile('.*建议.*ALK[^,.;]*(,|.|;)',re.M | re.I)\n",
    "print(pattern.search(text))"
   ]
  },
  {
   "cell_type": "code",
   "execution_count": 18,
   "metadata": {},
   "outputs": [
    {
     "name": "stdout",
     "output_type": "stream",
     "text": [
      "<_sre.SRE_Match object; span=(0, 14), match='建议不要做alk检,eaea'>\n"
     ]
    }
   ],
   "source": [
    "text = '建议不要做alk检,eaea'\n",
    "pattern = re.compile('.*建议.*ALK[^,.;]*(,|.|;)+',re.M | re.I)\n",
    "print(pattern.search(text))"
   ]
  },
  {
   "cell_type": "code",
   "execution_count": 20,
   "metadata": {},
   "outputs": [
    {
     "name": "stdout",
     "output_type": "stream",
     "text": [
      "None\n"
     ]
    }
   ],
   "source": [
    "text = '建议不要做检eaea'\n",
    "pattern = re.compile('.*建议.*ALK[^,.;]*(,|.|;)+',re.M | re.I)\n",
    "print(pattern.search(text))"
   ]
  },
  {
   "cell_type": "code",
   "execution_count": 21,
   "metadata": {},
   "outputs": [
    {
     "name": "stdout",
     "output_type": "stream",
     "text": [
      "<_sre.SRE_Match object; span=(0, 14), match='建议不要做alk检eaea,'>\n"
     ]
    }
   ],
   "source": [
    "text = '建议不要做alk检eaea,'\n",
    "pattern = re.compile('.*建议.*ALK[^,.;]*(,|.|;)?',re.M | re.I)\n",
    "print(pattern.search(text))"
   ]
  },
  {
   "cell_type": "code",
   "execution_count": 27,
   "metadata": {},
   "outputs": [
    {
     "name": "stdout",
     "output_type": "stream",
     "text": [
      "None\n"
     ]
    }
   ],
   "source": [
    "text = '建议不要做alk检eaea'\n",
    "pattern = re.compile('.*建议.*ALK[^,.;]+[,|.|;]+?',re.M | re.I)\n",
    "print(pattern.search(text))"
   ]
  },
  {
   "cell_type": "code",
   "execution_count": 28,
   "metadata": {},
   "outputs": [
    {
     "name": "stdout",
     "output_type": "stream",
     "text": [
      "<_sre.SRE_Match object; span=(0, 9), match='建议不要做alk,'>\n"
     ]
    }
   ],
   "source": [
    "text = '建议不要做alk,'\n",
    "pattern = re.compile('.*建议.*ALK[^,.;]*[,|.|;]?',re.M | re.I)\n",
    "print(pattern.search(text))"
   ]
  },
  {
   "cell_type": "code",
   "execution_count": 30,
   "metadata": {},
   "outputs": [
    {
     "name": "stdout",
     "output_type": "stream",
     "text": [
      "None\n"
     ]
    }
   ],
   "source": [
    "text = '建议不要做alk'\n",
    "pattern = re.compile('.*建议.*ALK[^,.;]*[,|.|;]+?',re.M | re.I)\n",
    "print(pattern.search(text))"
   ]
  },
  {
   "cell_type": "code",
   "execution_count": null,
   "metadata": {},
   "outputs": [],
   "source": []
  }
 ],
 "metadata": {
  "kernelspec": {
   "display_name": "Python 3",
   "language": "python",
   "name": "python3"
  },
  "language_info": {
   "codemirror_mode": {
    "name": "ipython",
    "version": 3
   },
   "file_extension": ".py",
   "mimetype": "text/x-python",
   "name": "python",
   "nbconvert_exporter": "python",
   "pygments_lexer": "ipython3",
   "version": "3.6.4"
  }
 },
 "nbformat": 4,
 "nbformat_minor": 2
}
