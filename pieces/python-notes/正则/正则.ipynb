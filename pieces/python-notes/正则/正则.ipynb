{
 "cells": [
  {
   "cell_type": "code",
   "execution_count": 2,
   "metadata": {
    "colab": {
     "autoexec": {
      "startup": false,
      "wait_interval": 0
     },
     "base_uri": "https://localhost:8080/",
     "height": 89
    },
    "colab_type": "code",
    "executionInfo": {
     "elapsed": 738,
     "status": "ok",
     "timestamp": 1527152799339,
     "user": {
      "displayName": "华凯",
      "photoUrl": "https://lh3.googleusercontent.com/a/default-user=s128",
      "userId": "116923544833814596253"
     },
     "user_tz": -480
    },
    "id": "sEF3U8tLZISS",
    "outputId": "4024093c-5020-42a1-f8c2-af55901fadde"
   },
   "outputs": [
    {
     "name": "stdout",
     "output_type": "stream",
     "text": [
      "None\n",
      "<_sre.SRE_Match object at 0x7f8cf1c1bed0>\n",
      "<_sre.SRE_Match object at 0x7f8cf1c1bed0>\n",
      "None\n"
     ]
    }
   ],
   "source": [
    "import re\n",
    "pattern = re.compile(r'混合型.{0,8}细胞癌')\n",
    "input = '细胞癌'\n",
    "print(re.search(pattern,input))\n",
    "\n",
    "input = '混合型细胞癌'\n",
    "print(re.search(pattern,input))\n",
    "\n",
    "input = '混合型肝脏细胞癌'\n",
    "print(re.search(pattern,input))\n",
    "\n",
    "input = '混合型肝脏肝脏肝脏肝脏肝脏肝脏细胞癌'\n",
    "print(re.search(pattern,input))"
   ]
  },
  {
   "cell_type": "code",
   "execution_count": null,
   "metadata": {
    "colab": {
     "autoexec": {
      "startup": false,
      "wait_interval": 0
     }
    },
    "colab_type": "code",
    "id": "X_XnHnQWZXye"
   },
   "outputs": [],
   "source": [
    "\n",
    "\n",
    "def is_no_cancer(input):\n",
    "    '''\n",
    "    :param input: string\n",
    "    :return: bool\n",
    "    '''\n",
    "\n",
    "    item_list = ['肝内胆管癌', '肝内细胞胆管癌', '肝细胞癌','肝内细胞癌']\n",
    "    for item in item_list:\n",
    "        if item in input:\n",
    "            return False\n",
    "\n",
    "    pattern = re.compile(r'混合型.{0,8}细胞癌')\n",
    "    if re.search(pattern, input):\n",
    "        return False\n",
    "\n",
    "    return True"
   ]
  },
  {
   "cell_type": "code",
   "execution_count": 6,
   "metadata": {
    "colab": {
     "autoexec": {
      "startup": false,
      "wait_interval": 0
     },
     "base_uri": "https://localhost:8080/",
     "height": 71
    },
    "colab_type": "code",
    "executionInfo": {
     "elapsed": 737,
     "status": "ok",
     "timestamp": 1527152987911,
     "user": {
      "displayName": "华凯",
      "photoUrl": "https://lh3.googleusercontent.com/a/default-user=s128",
      "userId": "116923544833814596253"
     },
     "user_tz": -480
    },
    "id": "g09TsmJrZ-HI",
    "outputId": "2231cfb7-ee91-42e5-9468-5259a1bb0b6e"
   },
   "outputs": [
    {
     "name": "stdout",
     "output_type": "stream",
     "text": [
      "True\n",
      "False\n",
      "False\n"
     ]
    }
   ],
   "source": [
    "print(is_no_cancer('细胞癌'))\n",
    "print(is_no_cancer('肝细胞癌'))\n",
    "print(is_no_cancer('混合型细胞癌'))"
   ]
  },
  {
   "cell_type": "code",
   "execution_count": 7,
   "metadata": {
    "colab": {
     "autoexec": {
      "startup": false,
      "wait_interval": 0
     },
     "base_uri": "https://localhost:8080/",
     "height": 35
    },
    "colab_type": "code",
    "executionInfo": {
     "elapsed": 721,
     "status": "ok",
     "timestamp": 1527153492275,
     "user": {
      "displayName": "华凯",
      "photoUrl": "https://lh3.googleusercontent.com/a/default-user=s128",
      "userId": "116923544833814596253"
     },
     "user_tz": -480
    },
    "id": "1kaExWp6aMq6",
    "outputId": "a35d7afa-dc90-40c4-b124-d6107c242bf3"
   },
   "outputs": [
    {
     "name": "stdout",
     "output_type": "stream",
     "text": [
      "hh\n"
     ]
    }
   ],
   "source": [
    "print(['hh'][0])"
   ]
  },
  {
   "cell_type": "markdown",
   "metadata": {
    "colab_type": "text",
    "id": "lqi7u7Q8gJM5"
   },
   "source": [
    "python if else的匹配和C语言不一样,python是根据缩进来判断.\n"
   ]
  },
  {
   "cell_type": "code",
   "execution_count": 8,
   "metadata": {
    "colab": {
     "autoexec": {
      "startup": false,
      "wait_interval": 0
     },
     "base_uri": "https://localhost:8080/",
     "height": 35
    },
    "colab_type": "code",
    "executionInfo": {
     "elapsed": 820,
     "status": "ok",
     "timestamp": 1527154240219,
     "user": {
      "displayName": "华凯",
      "photoUrl": "https://lh3.googleusercontent.com/a/default-user=s128",
      "userId": "116923544833814596253"
     },
     "user_tz": -480
    },
    "id": "4P3ox0_jcP4l",
    "outputId": "e77b703d-fff4-4540-ca5b-ece425ced4f7"
   },
   "outputs": [
    {
     "name": "stdout",
     "output_type": "stream",
     "text": [
      "here\n"
     ]
    }
   ],
   "source": [
    "x = [1,2]\n",
    "if x[0] == 1:\n",
    "  if x[1] == 2:\n",
    "      print('here')\n",
    "else:\n",
    "  print('here1')\n",
    " "
   ]
  },
  {
   "cell_type": "code",
   "execution_count": null,
   "metadata": {
    "colab": {
     "autoexec": {
      "startup": false,
      "wait_interval": 0
     }
    },
    "colab_type": "code",
    "id": "a74s5_cPe-dv"
   },
   "outputs": [],
   "source": [
    "x = [1,3]\n",
    "if x[0] == 1:\n",
    "  if x[1] == 2:\n",
    "      print('here')\n",
    "else:\n",
    "  print('here1')"
   ]
  },
  {
   "cell_type": "code",
   "execution_count": 10,
   "metadata": {
    "colab": {
     "autoexec": {
      "startup": false,
      "wait_interval": 0
     },
     "base_uri": "https://localhost:8080/",
     "height": 35
    },
    "colab_type": "code",
    "executionInfo": {
     "elapsed": 779,
     "status": "ok",
     "timestamp": 1527154242020,
     "user": {
      "displayName": "华凯",
      "photoUrl": "https://lh3.googleusercontent.com/a/default-user=s128",
      "userId": "116923544833814596253"
     },
     "user_tz": -480
    },
    "id": "KgVJo2IsfDhV",
    "outputId": "cd5caf92-9c53-45aa-ad3e-a40c884a6ac3"
   },
   "outputs": [
    {
     "name": "stdout",
     "output_type": "stream",
     "text": [
      "here1\n"
     ]
    }
   ],
   "source": [
    "x = [2,2]\n",
    "if x[0] == 1:\n",
    "  if x[1] == 2:\n",
    "      print('here')\n",
    "else:\n",
    "  print('here1')"
   ]
  },
  {
   "cell_type": "code",
   "execution_count": 11,
   "metadata": {},
   "outputs": [
    {
     "name": "stdout",
     "output_type": "stream",
     "text": [
      "<_sre.SRE_Match object; span=(0, 4), match='免疫组化'>\n"
     ]
    }
   ],
   "source": [
    "print(re.match(r'^[\\u4E00-\\u9FA5]+', '免疫组化'))"
   ]
  },
  {
   "cell_type": "code",
   "execution_count": 12,
   "metadata": {},
   "outputs": [
    {
     "name": "stdout",
     "output_type": "stream",
     "text": [
      "None\n"
     ]
    }
   ],
   "source": [
    "print(re.match(r'[^\\u4E00-\\u9FA5]+', '免疫组化'))"
   ]
  },
  {
   "cell_type": "code",
   "execution_count": 13,
   "metadata": {},
   "outputs": [
    {
     "name": "stdout",
     "output_type": "stream",
     "text": [
      "None\n"
     ]
    }
   ],
   "source": [
    "print(re.match(r'[[^\\u4E00-\\u9FA5]期]+', '免疫组化期'))"
   ]
  },
  {
   "cell_type": "code",
   "execution_count": 14,
   "metadata": {},
   "outputs": [
    {
     "name": "stdout",
     "output_type": "stream",
     "text": [
      "None\n"
     ]
    }
   ],
   "source": [
    "print(re.match(r'[[^\\u4E00-\\u9FA5]期]+', '免疫组化期'))"
   ]
  },
  {
   "cell_type": "code",
   "execution_count": 15,
   "metadata": {},
   "outputs": [
    {
     "name": "stdout",
     "output_type": "stream",
     "text": [
      "None\n"
     ]
    }
   ],
   "source": [
    "print(re.match(r'[^\\u4E00-\\u671E\\u6720-\\u9FA5]+', '免疫组化期'))"
   ]
  },
  {
   "cell_type": "code",
   "execution_count": 16,
   "metadata": {},
   "outputs": [
    {
     "name": "stdout",
     "output_type": "stream",
     "text": [
      "<_sre.SRE_Match object; span=(0, 0), match=''>\n"
     ]
    }
   ],
   "source": [
    "print(re.match(r'[^\\u4E00-\\u671E\\u6720-\\u9FA5]*', '免疫组化期'))"
   ]
  },
  {
   "cell_type": "code",
   "execution_count": 17,
   "metadata": {},
   "outputs": [
    {
     "name": "stdout",
     "output_type": "stream",
     "text": [
      "<_sre.SRE_Match object; span=(0, 0), match=''>\n"
     ]
    }
   ],
   "source": [
    "print(re.match(r'[^\\u4E00-\\u671E|^\\u6720-\\u9FA5]*', '免疫组化期'))"
   ]
  },
  {
   "cell_type": "code",
   "execution_count": 18,
   "metadata": {},
   "outputs": [
    {
     "name": "stdout",
     "output_type": "stream",
     "text": [
      "None\n"
     ]
    }
   ],
   "source": [
    "print(re.match(r'[^\\u4E00-\\u671E]+', '免疫组化期'))"
   ]
  },
  {
   "cell_type": "code",
   "execution_count": 19,
   "metadata": {},
   "outputs": [
    {
     "name": "stdout",
     "output_type": "stream",
     "text": [
      "<_sre.SRE_Match object; span=(0, 5), match='免疫组化期'>\n"
     ]
    }
   ],
   "source": [
    "print(re.match(r'[^\\u4E00]+', '免疫组化期'))"
   ]
  },
  {
   "cell_type": "code",
   "execution_count": 20,
   "metadata": {},
   "outputs": [
    {
     "name": "stdout",
     "output_type": "stream",
     "text": [
      "None\n"
     ]
    }
   ],
   "source": [
    "print(re.match(r'[^\\u4E00-\\u6710|期]+', '免疫组化期'))"
   ]
  },
  {
   "cell_type": "code",
   "execution_count": 21,
   "metadata": {},
   "outputs": [
    {
     "name": "stdout",
     "output_type": "stream",
     "text": [
      "None\n"
     ]
    }
   ],
   "source": [
    "print(re.match(r'[^\\u4E00-\\u6710]|期+', '免疫组化期'))"
   ]
  },
  {
   "cell_type": "code",
   "execution_count": 22,
   "metadata": {},
   "outputs": [
    {
     "name": "stdout",
     "output_type": "stream",
     "text": [
      "None\n"
     ]
    }
   ],
   "source": [
    "print(re.match(r'[^\\u4E00-\\u6710]+[期].', '免疫组化期'))"
   ]
  },
  {
   "cell_type": "code",
   "execution_count": 23,
   "metadata": {},
   "outputs": [
    {
     "name": "stdout",
     "output_type": "stream",
     "text": [
      "<_sre.SRE_Match object; span=(1, 3), match='疫组'>\n"
     ]
    }
   ],
   "source": [
    "print(re.search(r'[^\\u4E00-\\u6710]+[期]*', '免疫组化期'))"
   ]
  },
  {
   "cell_type": "code",
   "execution_count": 24,
   "metadata": {},
   "outputs": [
    {
     "name": "stdout",
     "output_type": "stream",
     "text": [
      "<_sre.SRE_Match object; span=(0, 5), match='免疫组化期'>\n"
     ]
    }
   ],
   "source": [
    "print(re.match(r'(.*)[^\\u4E00-\\u9FA5]*[期]*', '免疫组化期'))"
   ]
  },
  {
   "cell_type": "code",
   "execution_count": 25,
   "metadata": {},
   "outputs": [
    {
     "name": "stdout",
     "output_type": "stream",
     "text": [
      "None\n"
     ]
    }
   ],
   "source": [
    "print(re.match(r'[^\\u4E00-\\u9FA5]*[期]+', '免疫组化期'))"
   ]
  },
  {
   "cell_type": "code",
   "execution_count": 26,
   "metadata": {},
   "outputs": [
    {
     "name": "stdout",
     "output_type": "stream",
     "text": [
      "<_sre.SRE_Match object; span=(4, 5), match='期'>\n",
      "<_sre.SRE_Match object; span=(0, 0), match=''>\n"
     ]
    }
   ],
   "source": [
    "print(re.search(r'[^\\u4E00-\\u9FA5]*[期]+', '免疫组化期'))\n",
    "print(re.search(r'[^\\u4E00-\\u9FA5]*[期]*', '免疫组化期')) # search 返回的是第一个匹配,这样写的正则 空字符串也符合条件"
   ]
  },
  {
   "cell_type": "code",
   "execution_count": 27,
   "metadata": {},
   "outputs": [
    {
     "name": "stdout",
     "output_type": "stream",
     "text": [
      "<_sre.SRE_Match object; span=(4, 5), match='期'>\n",
      "<_sre.SRE_Match object; span=(0, 0), match=''>\n"
     ]
    }
   ],
   "source": [
    "print(re.search(r'[^\\u4E00-\\u9FA5\\s]*[期]+', '免疫组化期'))\n",
    "print(re.search(r'[^\\u4E00-\\u9FA5\\S]*[期]*', '免疫组化期')) "
   ]
  },
  {
   "cell_type": "code",
   "execution_count": 28,
   "metadata": {},
   "outputs": [
    {
     "name": "stdout",
     "output_type": "stream",
     "text": [
      "<_sre.SRE_Match object; span=(4, 5), match='期'>\n",
      "<_sre.SRE_Match object; span=(0, 5), match='免疫组化期'>\n"
     ]
    }
   ],
   "source": [
    "print(re.search(r'[^\\u4E00-\\u9FA5\\s]*[期]+', '免疫组化期'))\n",
    "print(re.search(r'[^\\u4E00-\\u9FA5\\s]*[期\\S]*', '免疫组化期'))"
   ]
  },
  {
   "cell_type": "code",
   "execution_count": 29,
   "metadata": {},
   "outputs": [
    {
     "name": "stdout",
     "output_type": "stream",
     "text": [
      "<_sre.SRE_Match object; span=(0, 0), match=''>\n"
     ]
    }
   ],
   "source": [
    "print(re.search(r'[^\\u4E00-\\u9FA5]+[期]+|[^\\u4E00-\\u9FA5]*', '免疫组化期'))"
   ]
  },
  {
   "cell_type": "code",
   "execution_count": 30,
   "metadata": {},
   "outputs": [
    {
     "name": "stdout",
     "output_type": "stream",
     "text": [
      "<_sre.SRE_Match object; span=(4, 5), match='期'>\n"
     ]
    }
   ],
   "source": [
    "print(re.search(r'[\\u671F]+', '免疫组化期')) "
   ]
  },
  {
   "cell_type": "code",
   "execution_count": 31,
   "metadata": {},
   "outputs": [
    {
     "data": {
      "text/plain": [
       "b'\\xe6\\x9c\\x9f'"
      ]
     },
     "execution_count": 31,
     "metadata": {},
     "output_type": "execute_result"
    }
   ],
   "source": [
    "'期'.encode()"
   ]
  },
  {
   "cell_type": "code",
   "execution_count": 32,
   "metadata": {},
   "outputs": [
    {
     "data": {
      "text/plain": [
       "b'\\xe6\\x9c\\x9f'"
      ]
     },
     "execution_count": 32,
     "metadata": {},
     "output_type": "execute_result"
    }
   ],
   "source": [
    "'期'.encode('utf-8')"
   ]
  },
  {
   "cell_type": "code",
   "execution_count": 33,
   "metadata": {},
   "outputs": [
    {
     "name": "stdout",
     "output_type": "stream",
     "text": [
      "期\n"
     ]
    }
   ],
   "source": [
    "print(u'期')"
   ]
  },
  {
   "cell_type": "code",
   "execution_count": 34,
   "metadata": {},
   "outputs": [
    {
     "data": {
      "text/plain": [
       "26399"
      ]
     },
     "execution_count": 34,
     "metadata": {},
     "output_type": "execute_result"
    }
   ],
   "source": [
    "ord('期') # 代表了第几个unicode字符"
   ]
  },
  {
   "cell_type": "code",
   "execution_count": 35,
   "metadata": {},
   "outputs": [
    {
     "data": {
      "text/plain": [
       "'0x671f'"
      ]
     },
     "execution_count": 35,
     "metadata": {},
     "output_type": "execute_result"
    }
   ],
   "source": [
    "hex(ord('期'))"
   ]
  },
  {
   "cell_type": "code",
   "execution_count": 36,
   "metadata": {},
   "outputs": [
    {
     "data": {
      "text/plain": [
       "'\\\\u671F'"
      ]
     },
     "execution_count": 36,
     "metadata": {},
     "output_type": "execute_result"
    }
   ],
   "source": [
    "hex(ord('期')).upper().replace('0X', r'\\u')"
   ]
  },
  {
   "cell_type": "code",
   "execution_count": 37,
   "metadata": {},
   "outputs": [
    {
     "name": "stdout",
     "output_type": "stream",
     "text": [
      "\\u671F\n"
     ]
    }
   ],
   "source": [
    "print(hex(ord('期')).upper().replace('0X', r'\\u'))"
   ]
  },
  {
   "cell_type": "code",
   "execution_count": 38,
   "metadata": {},
   "outputs": [
    {
     "name": "stdout",
     "output_type": "stream",
     "text": [
      "<_sre.SRE_Match object; span=(0, 12), match='pT2aN0M0 Ⅰb期'>\n",
      "<_sre.SRE_Match object; span=(0, 12), match='pT2aN0M0 Ⅰb期'>\n"
     ]
    }
   ],
   "source": [
    "print(re.search(r'[^\\u4E00-\\u9FA5]*[期]+', 'pT2aN0M0 Ⅰb期'))\n",
    "print(re.search(r'[^\\u4E00-\\u9FA5]*[期]*', 'pT2aN0M0 Ⅰb期'))"
   ]
  },
  {
   "cell_type": "code",
   "execution_count": 39,
   "metadata": {},
   "outputs": [
    {
     "name": "stdout",
     "output_type": "stream",
     "text": [
      "<_sre.SRE_Match object; span=(0, 7), match='pT2N3M1'>\n"
     ]
    }
   ],
   "source": [
    "print(re.search(r'[^\\u4E00-\\u9FA5]*[期]*', 'pT2N3M1未手术'))"
   ]
  },
  {
   "cell_type": "code",
   "execution_count": 40,
   "metadata": {},
   "outputs": [
    {
     "name": "stdout",
     "output_type": "stream",
     "text": [
      "<_sre.SRE_Match object; span=(0, 7), match='pT2N3M1'>\n"
     ]
    }
   ],
   "source": [
    "print(re.search(r'(.*?)([^\\u4E00-\\u9FA5]*[期]*)', 'pT2N3M1未手术'))"
   ]
  },
  {
   "cell_type": "code",
   "execution_count": 41,
   "metadata": {},
   "outputs": [
    {
     "name": "stdout",
     "output_type": "stream",
     "text": [
      "<_sre.SRE_Match object; span=(0, 12), match='pT2aN0M0 Ⅰb期'>\n",
      "pT2aN0M0 Ⅰb期\n"
     ]
    }
   ],
   "source": [
    "print(re.search(r'(.*?)([^\\u4E00-\\u9FA5]*[期]*)', 'pT2aN0M0 Ⅰb期'))\n",
    "print(re.search(r'(.*?)([^\\u4E00-\\u9FA5]*[期]*)', 'pT2aN0M0 Ⅰb期').group())"
   ]
  },
  {
   "cell_type": "markdown",
   "metadata": {},
   "source": [
    "这样可以保留\"期\""
   ]
  },
  {
   "cell_type": "markdown",
   "metadata": {},
   "source": [
    "[^...]\t不在[]中的字符：[^abc] 匹配除了a,b,c之外的字符。"
   ]
  }
 ],
 "metadata": {
  "colab": {
   "default_view": {},
   "name": "正则.ipynb",
   "provenance": [],
   "version": "0.3.2",
   "views": {}
  },
  "kernelspec": {
   "display_name": "Python 3",
   "language": "python",
   "name": "python3"
  },
  "language_info": {
   "codemirror_mode": {
    "name": "ipython",
    "version": 3
   },
   "file_extension": ".py",
   "mimetype": "text/x-python",
   "name": "python",
   "nbconvert_exporter": "python",
   "pygments_lexer": "ipython3",
   "version": "3.6.4"
  }
 },
 "nbformat": 4,
 "nbformat_minor": 2
}
