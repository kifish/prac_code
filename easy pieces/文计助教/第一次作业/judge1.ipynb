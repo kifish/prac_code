{
 "cells": [
  {
   "cell_type": "code",
   "execution_count": 1,
   "metadata": {},
   "outputs": [
    {
     "data": {
      "text/plain": [
       "0"
      ]
     },
     "execution_count": 1,
     "metadata": {},
     "output_type": "execute_result"
    }
   ],
   "source": [
    "100 % 1"
   ]
  },
  {
   "cell_type": "code",
   "execution_count": 2,
   "metadata": {},
   "outputs": [
    {
     "data": {
      "text/plain": [
       "5"
      ]
     },
     "execution_count": 2,
     "metadata": {},
     "output_type": "execute_result"
    }
   ],
   "source": [
    "2133 % 7"
   ]
  },
  {
   "cell_type": "code",
   "execution_count": 32,
   "metadata": {},
   "outputs": [
    {
     "data": {
      "text/plain": [
       "2197"
      ]
     },
     "execution_count": 32,
     "metadata": {},
     "output_type": "execute_result"
    }
   ],
   "source": [
    "238123 % 2313"
   ]
  },
  {
   "cell_type": "code",
   "execution_count": 5,
   "metadata": {},
   "outputs": [
    {
     "data": {
      "text/plain": [
       "0"
      ]
     },
     "execution_count": 5,
     "metadata": {},
     "output_type": "execute_result"
    }
   ],
   "source": [
    "1800 % 200"
   ]
  },
  {
   "cell_type": "code",
   "execution_count": 33,
   "metadata": {},
   "outputs": [
    {
     "data": {
      "text/plain": [
       "215"
      ]
     },
     "execution_count": 33,
     "metadata": {},
     "output_type": "execute_result"
    }
   ],
   "source": [
    "1800 % 317"
   ]
  },
  {
   "cell_type": "code",
   "execution_count": 14,
   "metadata": {
    "collapsed": true
   },
   "outputs": [],
   "source": [
    "def cal_1(a):\n",
    "    return int(str(a)[::-1])  #将输入转化为字符串并逆序然后再转化为int"
   ]
  },
  {
   "cell_type": "code",
   "execution_count": 18,
   "metadata": {},
   "outputs": [
    {
     "name": "stdout",
     "output_type": "stream",
     "text": [
      "321\n",
      "32\n",
      "1\n",
      "8321321\n",
      "123321\n",
      "0\n"
     ]
    }
   ],
   "source": [
    "print(cal_1(123))\n",
    "print(cal_1(230))\n",
    "print(cal_1(100))\n",
    "print(cal_1(12312380))\n",
    "print(cal_1(123321))\n",
    "print(cal_1(0))"
   ]
  },
  {
   "cell_type": "code",
   "execution_count": 29,
   "metadata": {
    "collapsed": true
   },
   "outputs": [],
   "source": [
    "def cal_2(a,b):\n",
    "    if a < b:\n",
    "        a,b = b,a #相等无需交换\n",
    "    while a >= b:\n",
    "        a -= b\n",
    "    return a"
   ]
  },
  {
   "cell_type": "code",
   "execution_count": 31,
   "metadata": {},
   "outputs": [
    {
     "name": "stdout",
     "output_type": "stream",
     "text": [
      "2\n",
      "1\n",
      "0\n",
      "1\n",
      "19\n",
      "0\n",
      "5\n",
      "5\n",
      "2197\n",
      "0\n"
     ]
    }
   ],
   "source": [
    "# test_dict2={\"100\\r\\n9\":1,\"100\\r\\n1\":0,\"3\\r\\n28\":1,\"103\\r\\n2800\":19,\"202\\r\\n2\":0,\"2133\\r\\n7\":5,\"7\\r\\n2133\":5,\"2313\\r\\n238123\":2197,\"1800\\r\\n317\":215,\"1800\\r\\n200\":0}\n",
    "print(cal_2(110,9))\n",
    "print(cal_2(100,9))\n",
    "print(cal_2(100,1))\n",
    "print(cal_2(3,28))\n",
    "print(cal_2(103,2800))\n",
    "print(cal_2(202,2))\n",
    "print(cal_2(2133,7))\n",
    "print(cal_2(7,2133))\n",
    "print(cal_2(2313,238123))\n",
    "print(cal_2(1800,200))"
   ]
  },
  {
   "cell_type": "code",
   "execution_count": 11,
   "metadata": {
    "collapsed": true
   },
   "outputs": [],
   "source": [
    "def cal_3(h,f):\n",
    "    j_num,t_num = 1,1#必须鸡兔都有\n",
    "    while j_num <= h -1:\n",
    "        t_num = h - j_num\n",
    "        if t_num*4 + j_num*2 == f:\n",
    "            return j_num,t_num\n",
    "        j_num += 1\n",
    "    raise Exception(\"invalid input\")#无解"
   ]
  },
  {
   "cell_type": "code",
   "execution_count": 12,
   "metadata": {},
   "outputs": [
    {
     "name": "stdout",
     "output_type": "stream",
     "text": [
      "(3, 4)\n",
      "(4, 3)\n",
      "(6, 8)\n",
      "(2, 10)\n",
      "(1, 9)\n",
      "(9, 1)\n"
     ]
    }
   ],
   "source": [
    "# test_dict3={\"7\\r\\n22\":[3,4],\"7\\r\\n20\":[4,3],\"14\\r\\n44\":[6,8],\"12\\r\\n44\":[2,10],\"10\\r\\n38\":[1,9]}\n",
    "print(cal_3(7,22))\n",
    "print(cal_3(7,20))\n",
    "print(cal_3(14,44))\n",
    "print(cal_3(12,44))\n",
    "print(cal_3(10,38))\n",
    "print(cal_3(10,22))"
   ]
  },
  {
   "cell_type": "code",
   "execution_count": 2,
   "metadata": {
    "collapsed": true
   },
   "outputs": [],
   "source": [
    "def gcd(a,b):\n",
    "    if b == 0:\n",
    "        return a\n",
    "    return gcd(b,a%b)\n",
    "def cal_4(a,b):\n",
    "    return int(a*b/gcd(a,b))\n",
    "#两个数的最小公倍数是其乘积除以其最大公约数"
   ]
  },
  {
   "cell_type": "code",
   "execution_count": 3,
   "metadata": {},
   "outputs": [
    {
     "data": {
      "text/plain": [
       "112"
      ]
     },
     "execution_count": 3,
     "metadata": {},
     "output_type": "execute_result"
    }
   ],
   "source": [
    "cal_4(14,16)"
   ]
  },
  {
   "cell_type": "code",
   "execution_count": 4,
   "metadata": {},
   "outputs": [
    {
     "data": {
      "text/plain": [
       "240"
      ]
     },
     "execution_count": 4,
     "metadata": {},
     "output_type": "execute_result"
    }
   ],
   "source": [
    "cal_4(15,16)"
   ]
  },
  {
   "cell_type": "code",
   "execution_count": 5,
   "metadata": {},
   "outputs": [
    {
     "data": {
      "text/plain": [
       "84"
      ]
     },
     "execution_count": 5,
     "metadata": {},
     "output_type": "execute_result"
    }
   ],
   "source": [
    "cal_4(6,28)"
   ]
  },
  {
   "cell_type": "code",
   "execution_count": 6,
   "metadata": {},
   "outputs": [
    {
     "data": {
      "text/plain": [
       "48"
      ]
     },
     "execution_count": 6,
     "metadata": {},
     "output_type": "execute_result"
    }
   ],
   "source": [
    "cal_4(16,24)"
   ]
  },
  {
   "cell_type": "code",
   "execution_count": 7,
   "metadata": {},
   "outputs": [
    {
     "data": {
      "text/plain": [
       "1100"
      ]
     },
     "execution_count": 7,
     "metadata": {},
     "output_type": "execute_result"
    }
   ],
   "source": [
    "cal_4(22,100)"
   ]
  },
  {
   "cell_type": "code",
   "execution_count": 8,
   "metadata": {},
   "outputs": [
    {
     "data": {
      "text/plain": [
       "21"
      ]
     },
     "execution_count": 8,
     "metadata": {},
     "output_type": "execute_result"
    }
   ],
   "source": [
    "cal_4(3,7)"
   ]
  },
  {
   "cell_type": "code",
   "execution_count": 9,
   "metadata": {},
   "outputs": [
    {
     "data": {
      "text/plain": [
       "6399"
      ]
     },
     "execution_count": 9,
     "metadata": {},
     "output_type": "execute_result"
    }
   ],
   "source": [
    "cal_4(79,81)"
   ]
  },
  {
   "cell_type": "code",
   "execution_count": 56,
   "metadata": {
    "collapsed": true
   },
   "outputs": [],
   "source": [
    "def cal_5():\n",
    "    pre_black_cnt = 3\n",
    "    for i in range(1,10):\n",
    "        current = i*i\n",
    "        if i == 4:\n",
    "            pre_black_cnt -= 1 #修正下第四行的前面空格的数量\n",
    "        print('*'*pre_black_cnt,end = '')#输出一行前面的空格\n",
    "        print(current,end = '')#输出一行第一个数\n",
    "        for _ in range(9-i): #控制该行打印的数字的个数\n",
    "            current += i\n",
    "            if current >= 10:\n",
    "                print('##' + str(current),end = '')\n",
    "            else:\n",
    "                print('###' + str(current),end = '')\n",
    "        print()#一行输出完换行\n",
    "        pre_black_cnt += 2 #计算下一行前面的空格数量"
   ]
  },
  {
   "cell_type": "code",
   "execution_count": 57,
   "metadata": {},
   "outputs": [
    {
     "name": "stdout",
     "output_type": "stream",
     "text": [
      "***1###2###3###4###5###6###7###8###9\n",
      "*****4###6###8##10##12##14##16##18\n",
      "*******9##12##15##18##21##24##27\n",
      "********16##20##24##28##32##36\n",
      "**********25##30##35##40##45\n",
      "************36##42##48##54\n",
      "**************49##56##63\n",
      "****************64##72\n",
      "******************81\n"
     ]
    }
   ],
   "source": [
    "cal_5()"
   ]
  },
  {
   "cell_type": "markdown",
   "metadata": {},
   "source": [
    "第一题\n",
    "0\n",
    "0\n",
    "\n",
    "123\n",
    "321 \n",
    "\n",
    "012\n",
    "21\n",
    "\n",
    "2000\n",
    "2\n",
    "\n",
    "第二题\n",
    "100 1\n",
    "0\n",
    "\n",
    "2133 7\n",
    "5\n",
    "\n",
    "7 2133 \n",
    "5\n",
    "\n",
    "2313 238123\n",
    "2313\n",
    "\n",
    "1800 317\n",
    "215\n",
    "\n",
    "1800 200\n",
    "0\n",
    "\n",
    "第三题\n",
    "\n",
    "2 6\n",
    "1 1\n",
    "\n",
    "\n",
    "10 38\n",
    "1 9\n",
    "\n",
    "10 22\n",
    "9 1\n",
    "\n",
    "第四题\n",
    "14 16\n",
    "112\n",
    "\n",
    "\n"
   ]
  },
  {
   "cell_type": "code",
   "execution_count": 2,
   "metadata": {
    "collapsed": true
   },
   "outputs": [],
   "source": [
    "import subprocess\n",
    "import re\n",
    "import os\n",
    "import zipfile\n",
    "import shutil\n",
    "\n",
    "# test_dict1={\"1234\":4321,\"1230\":321,\"7732\":2377,\"20000\":2,\"202\":202}\n",
    "# test_dict2={\"100\\r\\n9\":1,\"100\\r\\n1\":0,\"3\\r\\n28\":1,\"103\\r\\n2800\":19,\"202\\r\\n2\":0}\n",
    "# test_dict3={\"7\\r\\n22\":[3,4],\"7\\r\\n20\":[4,3],\"14\\r\\n44\":[6,8],\"12\\r\\n44\":[2,10],\"10\\r\\n38\":[1,9]}\n",
    "# test_dict4={\"14\\r\\n16\":112,\"100\\r\\n1\":100,\"6\\r\\n28\":84,\"16\\r\\n24\":48,\"22\\r\\n100\":1100}\n",
    "\n",
    "\n",
    "\n",
    "def main(path):\n",
    "    test_dict1={\"1234\":4321,\"1230\":321,\"7732\":2377,\"20000\":2,\"202\":202,\"0\":0}\n",
    "    test_dict2={\"100\\r\\n9\":1,\"100\\r\\n1\":0,\"3\\r\\n28\":1,\"103\\r\\n2800\":19,\"202\\r\\n2\":0,\"2133\\r\\n7\":5,\"7\\r\\n2133\":5,\"2313\\r\\n238123\":2197,\"1800\\r\\n317\":215,\"1800\\r\\n200\":0}\n",
    "    test_dict3={\"7\\r\\n22\":[3,4],\"7\\r\\n20\":[4,3],\"14\\r\\n44\":[6,8],\"12\\r\\n44\":[2,10],\"10\\r\\n38\":[1,9]}\n",
    "    test_dict4={\"14\\r\\n16\":112,\"100\\r\\n1\":100,\"6\\r\\n28\":84,\"16\\r\\n24\":48,\"22\\r\\n100\":1100}\n",
    "\n",
    "    score_list=[0,0,0,0,0]\n",
    "\n",
    "    # unzip\n",
    "    current_path = path\n",
    "    resources_path = os.path.join(current_path,\"resources\")\n",
    "    _li=os.listdir(resources_path)\n",
    "    zip_path = os.path.join(resources_path,_li[0])\n",
    "    print(zip_path)\n",
    "    unzip_path = os.path.join(current_path,\"unzip\")\n",
    "\n",
    "    fz = zipfile.ZipFile(zip_path, 'r')\n",
    "    for file in fz.namelist():\n",
    "        fz.extract(file, unzip_path)       \n",
    "    fz.close()\n",
    "\n",
    "    # question 1\n",
    "    for key, value in test_dict1.items():\n",
    "        child1 = subprocess.Popen(\"python \"+os.path.join(unzip_path, \"1.py\"),\n",
    "                                  stdin=subprocess.PIPE, stdout=subprocess.PIPE, shell=True)#win上不用写shell=True,mac上必须加\n",
    "        child1.stdin.write(bytes(key, encoding=\"utf8\"))\n",
    "        out = child1.communicate()\n",
    "        sss=out[0].decode(\"utf8\") #win上是gbk，mac上是utf8\n",
    "        s = re.findall(\"\\d+\",sss)[0]\n",
    "        num = int(s)\n",
    "        if num == value:\n",
    "            score_list[0]+=4\n",
    "\n",
    "    # question 2\n",
    "    for key, value in test_dict2.items():\n",
    "        child2 = subprocess.Popen(\"python \"+os.path.join(unzip_path,\"2.py\"), stdin=subprocess.PIPE, stdout=subprocess.PIPE)\n",
    "        child2.stdin.write(bytes(key, encoding=\"utf8\"))\n",
    "        out = child2.communicate()\n",
    "        sss=out[0].decode(\"utf8\")\n",
    "        s = re.findall(\"\\d+\",sss)[0]\n",
    "        num = int(s)\n",
    "        if num == value:\n",
    "            score_list[1]+=4\n",
    "\n",
    "    # question 3\n",
    "    for key, value in test_dict3.items():\n",
    "        child3 = subprocess.Popen(\"python \"+os.path.join(unzip_path,\"3.py\"), stdin=subprocess.PIPE, stdout=subprocess.PIPE)\n",
    "        child3.stdin.write(bytes(key, encoding=\"utf8\"))\n",
    "        out = child3.communicate()\n",
    "        sss=out[0].decode(\"utf8\") #utf8\n",
    "        s = re.findall(\"\\d+\",sss)\n",
    "        if int(s[0]) == value[0] and int(s[1]) == value[1]:\n",
    "            score_list[2]+=4\n",
    "\n",
    "    # question 4\n",
    "    for key, value in test_dict4.items():\n",
    "        child2 = subprocess.Popen(\"python \"+os.path.join(unzip_path,\"4.py\"), stdin=subprocess.PIPE, stdout=subprocess.PIPE)\n",
    "        child2.stdin.write(bytes(key, encoding=\"utf8\"))\n",
    "        out = child2.communicate()\n",
    "        sss=out[0].decode(\"utf8\")\n",
    "        s = re.findall(\"\\d+\",sss)[0]\n",
    "        if int(s) == value:\n",
    "            score_list[3]+=4\n",
    "\n",
    "    # question 5\n",
    "    child2 = subprocess.Popen(\"python \"+os.path.join(unzip_path,\"5.py\"), stdin=subprocess.PIPE, stdout=subprocess.PIPE)\n",
    "    out = child2.communicate()\n",
    "    sss=out[0].decode(\"utf8\")\n",
    "    print(sss)\n",
    "\n",
    "    print(score_list)\n",
    "    print(\"final score is:\", sum(score_list), \"+ ?\")\n",
    "\n",
    "    # delete unzip and zip files\n",
    "#     os.remove(zip_path)\n",
    "#     shutil.rmtree(unzip_path)\n"
   ]
  },
  {
   "cell_type": "code",
   "execution_count": 36,
   "metadata": {
    "collapsed": true
   },
   "outputs": [],
   "source": [
    "\n",
    "\n",
    "def main2(file_path):\n",
    "    test_dict1={\"1234\":4321,\"1230\":321,\"7732\":2377,\"20000\":2,\"202\":202,\"0\":0}\n",
    "    test_dict2={\"100\\r\\n9\":1,\"100\\r\\n1\":0,\"3\\r\\n28\":1,\"103\\r\\n2800\":19,\"202\\r\\n2\":0,\"2133\\r\\n7\":5,\"7\\r\\n2133\":5,\"2313\\r\\n238123\":2197,\"1800\\r\\n317\":215,\"1800\\r\\n200\":0}\n",
    "    test_dict3={\"7\\r\\n22\":[3,4],\"7\\r\\n20\":[4,3],\"14\\r\\n44\":[6,8],\"12\\r\\n44\":[2,10],\"10\\r\\n38\":[1,9]}\n",
    "    test_dict4={\"14\\r\\n16\":112,\"100\\r\\n1\":100,\"6\\r\\n28\":84,\"16\\r\\n24\":48,\"22\\r\\n100\":1100}\n",
    "\n",
    "    score_list=[0,0,0,0,0]\n",
    "    # question 1\n",
    "    try:\n",
    "        for key, value in test_dict1.items():\n",
    "            child1 = subprocess.Popen(\"python \"+os.path.join(file_path, \"*1.py\"),\n",
    "                                      stdin=subprocess.PIPE, stdout=subprocess.PIPE, shell=True)#win上不用写shell=True,mac上必须加\n",
    "            child1.stdin.write(bytes(key, encoding=\"utf8\"))\n",
    "            out = child1.communicate()\n",
    "            sss=out[0].decode(\"utf8\") #win上是gbk，mac上是utf8\n",
    "            s = re.findall(\"\\d+\",sss)[0]\n",
    "            num = int(s)\n",
    "            if num == value:\n",
    "                score_list[0]+= 20/len(test_dict1)\n",
    "    except:\n",
    "        pass\n",
    "    try:\n",
    "        # question 2\n",
    "        for key, value in test_dict2.items():\n",
    "            child2 = subprocess.Popen(\"python \"+os.path.join(file_path,\"2.py\"), stdin=subprocess.PIPE, stdout=subprocess.PIPE, shell=True)\n",
    "            child2.stdin.write(bytes(key, encoding=\"utf8\"))\n",
    "            out = child2.communicate()\n",
    "            sss=out[0].decode(\"utf8\")\n",
    "            s = re.findall(\"\\d+\",sss)[0]\n",
    "            num = int(s)\n",
    "            if num == value:\n",
    "                score_list[1]+= 20/len(test_dict2)\n",
    "    except:\n",
    "        pass\n",
    "    \n",
    "    try:\n",
    "        # question 3\n",
    "        for key, value in test_dict3.items():\n",
    "            child3 = subprocess.Popen(\"python \"+os.path.join(file_path,\"3.py\"), stdin=subprocess.PIPE, stdout=subprocess.PIPE, shell=True)\n",
    "            child3.stdin.write(bytes(key, encoding=\"utf8\"))\n",
    "            out = child3.communicate()\n",
    "            sss=out[0].decode(\"utf8\") #utf8\n",
    "            s = re.findall(\"\\d+\",sss)\n",
    "            if int(s[0]) == value[0] and int(s[1]) == value[1]:\n",
    "                score_list[2]+= 20/len(test_dict3)\n",
    "    except:\n",
    "        pass\n",
    "    \n",
    "    try:\n",
    "        # question 4\n",
    "        for key, value in test_dict4.items():\n",
    "            child2 = subprocess.Popen(\"python \"+os.path.join(file_path,\"4.py\"), stdin=subprocess.PIPE, stdout=subprocess.PIPE, shell=True)\n",
    "            child2.stdin.write(bytes(key, encoding=\"utf8\"))\n",
    "            out = child2.communicate()\n",
    "            sss=out[0].decode(\"utf8\")\n",
    "            s = re.findall(\"\\d+\",sss)[0]\n",
    "            if int(s) == value:\n",
    "                score_list[3]+= 20/len(test_dict4)\n",
    "    except:\n",
    "        pass\n",
    "    \n",
    "    try:\n",
    "        # question 5\n",
    "        child2 = subprocess.Popen(\"python \"+os.path.join(file_path,\"*5.py\"), stdin=subprocess.PIPE, stdout=subprocess.PIPE, shell=True)\n",
    "        out = child2.communicate()\n",
    "        sss=out[0].decode(\"utf8\")\n",
    "        print(sss)\n",
    "    except:\n",
    "        pass\n",
    "\n",
    "\n",
    "    print(score_list)\n",
    "    print(\"final score is:\", sum(score_list), \"+ ?\")\n",
    "\n",
    "    # delete unzip and zip files\n",
    "#     os.remove(zip_path)\n",
    "#     shutil.rmtree(unzip_path)\n",
    "\n"
   ]
  },
  {
   "cell_type": "code",
   "execution_count": 20,
   "metadata": {},
   "outputs": [
    {
     "name": "stdout",
     "output_type": "stream",
     "text": [
      "/Users/k/Downloads/resources/.DS_Store\n"
     ]
    },
    {
     "ename": "BadZipFile",
     "evalue": "File is not a zip file",
     "output_type": "error",
     "traceback": [
      "\u001b[0;31m---------------------------------------------------------------------------\u001b[0m",
      "\u001b[0;31mBadZipFile\u001b[0m                                Traceback (most recent call last)",
      "\u001b[0;32m<ipython-input-20-f6f513169197>\u001b[0m in \u001b[0;36m<module>\u001b[0;34m()\u001b[0m\n\u001b[1;32m      1\u001b[0m \u001b[0mpath\u001b[0m \u001b[0;34m=\u001b[0m \u001b[0;34m'/Users/k/Downloads/'\u001b[0m\u001b[0;34m\u001b[0m\u001b[0m\n\u001b[0;32m----> 2\u001b[0;31m \u001b[0mmain\u001b[0m\u001b[0;34m(\u001b[0m\u001b[0mpath\u001b[0m\u001b[0;34m)\u001b[0m\u001b[0;34m\u001b[0m\u001b[0m\n\u001b[0m",
      "\u001b[0;32m<ipython-input-2-465734055534>\u001b[0m in \u001b[0;36mmain\u001b[0;34m(path)\u001b[0m\n\u001b[1;32m     28\u001b[0m     \u001b[0munzip_path\u001b[0m \u001b[0;34m=\u001b[0m \u001b[0mos\u001b[0m\u001b[0;34m.\u001b[0m\u001b[0mpath\u001b[0m\u001b[0;34m.\u001b[0m\u001b[0mjoin\u001b[0m\u001b[0;34m(\u001b[0m\u001b[0mcurrent_path\u001b[0m\u001b[0;34m,\u001b[0m\u001b[0;34m\"unzip\"\u001b[0m\u001b[0;34m)\u001b[0m\u001b[0;34m\u001b[0m\u001b[0m\n\u001b[1;32m     29\u001b[0m \u001b[0;34m\u001b[0m\u001b[0m\n\u001b[0;32m---> 30\u001b[0;31m     \u001b[0mfz\u001b[0m \u001b[0;34m=\u001b[0m \u001b[0mzipfile\u001b[0m\u001b[0;34m.\u001b[0m\u001b[0mZipFile\u001b[0m\u001b[0;34m(\u001b[0m\u001b[0mzip_path\u001b[0m\u001b[0;34m,\u001b[0m \u001b[0;34m'r'\u001b[0m\u001b[0;34m)\u001b[0m\u001b[0;34m\u001b[0m\u001b[0m\n\u001b[0m\u001b[1;32m     31\u001b[0m     \u001b[0;32mfor\u001b[0m \u001b[0mfile\u001b[0m \u001b[0;32min\u001b[0m \u001b[0mfz\u001b[0m\u001b[0;34m.\u001b[0m\u001b[0mnamelist\u001b[0m\u001b[0;34m(\u001b[0m\u001b[0;34m)\u001b[0m\u001b[0;34m:\u001b[0m\u001b[0;34m\u001b[0m\u001b[0m\n\u001b[1;32m     32\u001b[0m         \u001b[0mfz\u001b[0m\u001b[0;34m.\u001b[0m\u001b[0mextract\u001b[0m\u001b[0;34m(\u001b[0m\u001b[0mfile\u001b[0m\u001b[0;34m,\u001b[0m \u001b[0munzip_path\u001b[0m\u001b[0;34m)\u001b[0m\u001b[0;34m\u001b[0m\u001b[0m\n",
      "\u001b[0;32m~/anaconda3/lib/python3.6/zipfile.py\u001b[0m in \u001b[0;36m__init__\u001b[0;34m(self, file, mode, compression, allowZip64)\u001b[0m\n\u001b[1;32m   1106\u001b[0m         \u001b[0;32mtry\u001b[0m\u001b[0;34m:\u001b[0m\u001b[0;34m\u001b[0m\u001b[0m\n\u001b[1;32m   1107\u001b[0m             \u001b[0;32mif\u001b[0m \u001b[0mmode\u001b[0m \u001b[0;34m==\u001b[0m \u001b[0;34m'r'\u001b[0m\u001b[0;34m:\u001b[0m\u001b[0;34m\u001b[0m\u001b[0m\n\u001b[0;32m-> 1108\u001b[0;31m                 \u001b[0mself\u001b[0m\u001b[0;34m.\u001b[0m\u001b[0m_RealGetContents\u001b[0m\u001b[0;34m(\u001b[0m\u001b[0;34m)\u001b[0m\u001b[0;34m\u001b[0m\u001b[0m\n\u001b[0m\u001b[1;32m   1109\u001b[0m             \u001b[0;32melif\u001b[0m \u001b[0mmode\u001b[0m \u001b[0;32min\u001b[0m \u001b[0;34m(\u001b[0m\u001b[0;34m'w'\u001b[0m\u001b[0;34m,\u001b[0m \u001b[0;34m'x'\u001b[0m\u001b[0;34m)\u001b[0m\u001b[0;34m:\u001b[0m\u001b[0;34m\u001b[0m\u001b[0m\n\u001b[1;32m   1110\u001b[0m                 \u001b[0;31m# set the modified flag so central directory gets written\u001b[0m\u001b[0;34m\u001b[0m\u001b[0;34m\u001b[0m\u001b[0m\n",
      "\u001b[0;32m~/anaconda3/lib/python3.6/zipfile.py\u001b[0m in \u001b[0;36m_RealGetContents\u001b[0;34m(self)\u001b[0m\n\u001b[1;32m   1173\u001b[0m             \u001b[0;32mraise\u001b[0m \u001b[0mBadZipFile\u001b[0m\u001b[0;34m(\u001b[0m\u001b[0;34m\"File is not a zip file\"\u001b[0m\u001b[0;34m)\u001b[0m\u001b[0;34m\u001b[0m\u001b[0m\n\u001b[1;32m   1174\u001b[0m         \u001b[0;32mif\u001b[0m \u001b[0;32mnot\u001b[0m \u001b[0mendrec\u001b[0m\u001b[0;34m:\u001b[0m\u001b[0;34m\u001b[0m\u001b[0m\n\u001b[0;32m-> 1175\u001b[0;31m             \u001b[0;32mraise\u001b[0m \u001b[0mBadZipFile\u001b[0m\u001b[0;34m(\u001b[0m\u001b[0;34m\"File is not a zip file\"\u001b[0m\u001b[0;34m)\u001b[0m\u001b[0;34m\u001b[0m\u001b[0m\n\u001b[0m\u001b[1;32m   1176\u001b[0m         \u001b[0;32mif\u001b[0m \u001b[0mself\u001b[0m\u001b[0;34m.\u001b[0m\u001b[0mdebug\u001b[0m \u001b[0;34m>\u001b[0m \u001b[0;36m1\u001b[0m\u001b[0;34m:\u001b[0m\u001b[0;34m\u001b[0m\u001b[0m\n\u001b[1;32m   1177\u001b[0m             \u001b[0mprint\u001b[0m\u001b[0;34m(\u001b[0m\u001b[0mendrec\u001b[0m\u001b[0;34m)\u001b[0m\u001b[0;34m\u001b[0m\u001b[0m\n",
      "\u001b[0;31mBadZipFile\u001b[0m: File is not a zip file"
     ]
    }
   ],
   "source": [
    "path = '/Users/k/Downloads/'\n",
    "main(path)"
   ]
  },
  {
   "cell_type": "code",
   "execution_count": 14,
   "metadata": {},
   "outputs": [
    {
     "name": "stdout",
     "output_type": "stream",
     "text": [
      "\n",
      "[0, 0, 0, 0, 0]\n",
      "final score is: 0 + ?\n"
     ]
    }
   ],
   "source": [
    "file_path = '/Users/k/Downloads/resources/1800015519_0926'\n",
    "main2(file_path) #法学院的一个人"
   ]
  },
  {
   "cell_type": "code",
   "execution_count": 48,
   "metadata": {},
   "outputs": [
    {
     "name": "stdout",
     "output_type": "stream",
     "text": [
      " 1  2  3  4  5  6  7  8  9  \n",
      "  4  6  8  10 12 14 16 18 \n",
      "   9  12 15 18 21 24 27 \n",
      "    16 20 24 28 32 36 \n",
      "     25 30 35 40 45 \n",
      "      36 42 48 54 \n",
      "       49 56 63 \n",
      "        64 72 \n",
      "         81 \n",
      "\n",
      "[20.0, 20.0, 20.0, 20.0, 0]\n",
      "final score is: 80.0 + ?\n"
     ]
    }
   ],
   "source": [
    "file_path = '/Users/k/Downloads/resources/1800015972_0926'\n",
    "main2(file_path)"
   ]
  },
  {
   "cell_type": "code",
   "execution_count": null,
   "metadata": {},
   "outputs": [],
   "source": [
    "# test_dict1={\"1234\":4321,\"1230\":321,\"7732\":2377,\"20000\":2,\"202\":202,\"0\":0}\n",
    "# test_dict2={\"100\\r\\n9\":1,\"100\\r\\n1\":0,\"3\\r\\n28\":1,\"103\\r\\n2800\":19,\"202\\r\\n2\":0,\"2133\\r\\n7\":5,\n",
    "# \"7\\r\\n2133\":5,\"2313\\r\\n238123\":2197,\"1800\\r\\n317\":215,\"1800\\r\\n200\":0}\n",
    "# test_dict3={\"7\\r\\n22\":[3,4],\"7\\r\\n20\":[4,3],\"14\\r\\n44\":[6,8],\"12\\r\\n44\":[2,10],\"10\\r\\n38\":[1,9]}\n",
    "# test_dict4={\"14\\r\\n16\":112,\"100\\r\\n1\":100,\"6\\r\\n28\":84,\"16\\r\\n24\":48,\"22\\r\\n100\":1100}"
   ]
  },
  {
   "cell_type": "code",
   "execution_count": null,
   "metadata": {},
   "outputs": [],
   "source": [
    "20 + 20 + 20 + "
   ]
  },
  {
   "cell_type": "code",
   "execution_count": 21,
   "metadata": {},
   "outputs": [
    {
     "name": "stdout",
     "output_type": "stream",
     "text": [
      "请输入一个整数:1234\n",
      "\n"
     ]
    }
   ],
   "source": [
    "N=input(\"请输入一个整数:\")\n",
    "print(N[-1:0])"
   ]
  },
  {
   "cell_type": "code",
   "execution_count": 13,
   "metadata": {},
   "outputs": [
    {
     "name": "stdout",
     "output_type": "stream",
     "text": [
      "/Users/k/Downloads\r\n"
     ]
    }
   ],
   "source": [
    "!pwd"
   ]
  },
  {
   "cell_type": "code",
   "execution_count": null,
   "metadata": {
    "collapsed": true
   },
   "outputs": [],
   "source": [
    "N=input(\"请输入一个整数:\")\n",
    "print(type(N))\n",
    "print(N[0:2])\n",
    "print(N[-1::])\n",
    "print(N[::-1])\n",
    "\n",
    "# https://www.cnblogs.com/ifantastic/archive/2013/04/15/3021845.html"
   ]
  },
  {
   "cell_type": "code",
   "execution_count": 23,
   "metadata": {},
   "outputs": [
    {
     "data": {
      "text/plain": [
       "0.4054651081081644"
      ]
     },
     "execution_count": 23,
     "metadata": {},
     "output_type": "execute_result"
    }
   ],
   "source": [
    "import math\n",
    "math.log(0.75) - math.log(0.5)"
   ]
  },
  {
   "cell_type": "code",
   "execution_count": 24,
   "metadata": {},
   "outputs": [
    {
     "data": {
      "text/plain": [
       "0.6931471805599453"
      ]
     },
     "execution_count": 24,
     "metadata": {},
     "output_type": "execute_result"
    }
   ],
   "source": [
    "math.log(2)"
   ]
  },
  {
   "cell_type": "code",
   "execution_count": 25,
   "metadata": {},
   "outputs": [
    {
     "data": {
      "text/plain": [
       "1.0"
      ]
     },
     "execution_count": 25,
     "metadata": {},
     "output_type": "execute_result"
    }
   ],
   "source": [
    "math.log(2,2)"
   ]
  },
  {
   "cell_type": "code",
   "execution_count": 26,
   "metadata": {},
   "outputs": [
    {
     "data": {
      "text/plain": [
       "0.5"
      ]
     },
     "execution_count": 26,
     "metadata": {},
     "output_type": "execute_result"
    }
   ],
   "source": [
    "math.log(2,4) #2是底数，4是真数"
   ]
  },
  {
   "cell_type": "code",
   "execution_count": 27,
   "metadata": {},
   "outputs": [
    {
     "data": {
      "text/plain": [
       "1970.4"
      ]
     },
     "execution_count": 27,
     "metadata": {},
     "output_type": "execute_result"
    }
   ],
   "source": [
    "0.8*2463"
   ]
  },
  {
   "cell_type": "code",
   "execution_count": null,
   "metadata": {
    "collapsed": true
   },
   "outputs": [],
   "source": []
  }
 ],
 "metadata": {
  "kernelspec": {
   "display_name": "Python [conda root]",
   "language": "python",
   "name": "conda-root-py"
  },
  "language_info": {
   "codemirror_mode": {
    "name": "ipython",
    "version": 3
   },
   "file_extension": ".py",
   "mimetype": "text/x-python",
   "name": "python",
   "nbconvert_exporter": "python",
   "pygments_lexer": "ipython3",
   "version": "3.6.3"
  }
 },
 "nbformat": 4,
 "nbformat_minor": 2
}
