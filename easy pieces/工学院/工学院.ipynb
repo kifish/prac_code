{
 "cells": [
  {
   "cell_type": "code",
   "execution_count": 14,
   "metadata": {},
   "outputs": [],
   "source": [
    "import pandas as pd\n",
    "from pandas import DataFrame\n",
    "#C:/Users/k/Desktop/dump8000.nozzel"
   ]
  },
  {
   "cell_type": "code",
   "execution_count": 20,
   "metadata": {},
   "outputs": [
    {
     "data": {
      "text/plain": [
       "b'a b c\\r\\n1 2 3\\r\\n'"
      ]
     },
     "execution_count": 20,
     "metadata": {},
     "output_type": "execute_result"
    }
   ],
   "source": [
    "import subprocess\n",
    "subprocess.check_output([\"cat\", \"C:/Users/k/Desktop/buf.txt\"])"
   ]
  },
  {
   "cell_type": "code",
   "execution_count": 21,
   "metadata": {},
   "outputs": [
    {
     "name": "stdout",
     "output_type": "stream",
     "text": [
      "   0  1  2\n",
      "0  a  b  c\n",
      "1  1  2  3\n"
     ]
    }
   ],
   "source": [
    "data = pd.read_csv('C:/Users/k/Desktop/buf.txt',sep = \" \",header=None)\n",
    "print(data)"
   ]
  },
  {
   "cell_type": "markdown",
   "metadata": {},
   "source": [
    "处理不同列数的txt，https://stackoverflow.com/questions/15242746/handling-variable-number-of-columns-with-pandas-python\n"
   ]
  },
  {
   "cell_type": "code",
   "execution_count": 22,
   "metadata": {},
   "outputs": [],
   "source": [
    "df = pd.DataFrame()\n",
    "with open('C:/Users/k/Desktop/dump8000.nozzel','r') as f:\n",
    "    for line in f:\n",
    "        df = pd.concat([df,pd.DataFrame([tuple(line.strip().split(' '))])],ignore_index=True)"
   ]
  },
  {
   "cell_type": "code",
   "execution_count": 23,
   "metadata": {},
   "outputs": [
    {
     "name": "stdout",
     "output_type": "stream",
     "text": [
      "           0         1       2            3            4            5    6   \\\n",
      "0       ITEM:  TIMESTEP     NaN          NaN          NaN          NaN  NaN   \n",
      "1        8000       NaN     NaN          NaN          NaN          NaN  NaN   \n",
      "2       ITEM:    NUMBER      OF        ATOMS          NaN          NaN  NaN   \n",
      "3        1250       NaN     NaN          NaN          NaN          NaN  NaN   \n",
      "4       ITEM:       BOX  BOUNDS           ff           ff           ff  NaN   \n",
      "5     -0.0001    0.0013     NaN          NaN          NaN          NaN  NaN   \n",
      "6     -0.0001    0.0008     NaN          NaN          NaN          NaN  NaN   \n",
      "7     -0.0001    0.0015     NaN          NaN          NaN          NaN  NaN   \n",
      "8       ITEM:     ATOMS      id         type         type            x    y   \n",
      "9         630         1       1  0.000224208  3.15041e-05  3.13164e-05    0   \n",
      "10        939         1       1  0.000530201  2.18569e-05  3.98514e-05    0   \n",
      "11       1037         1       1  0.000801414  9.82342e-06  3.85078e-05    0   \n",
      "12        344         1       1  0.000955264  1.85547e-05  3.64742e-05    0   \n",
      "13        799         1       1  0.000972918  9.00444e-06  2.83521e-05    0   \n",
      "14        806         1       1  0.000990118  2.68971e-05  3.58899e-05    0   \n",
      "15        928         1       1  0.000990779  9.41369e-06  4.10562e-05    0   \n",
      "16       1153         1       1  0.000209576  5.94738e-05  9.85604e-06    0   \n",
      "17        312         1       1  0.000373948   6.2668e-05  2.22833e-05    0   \n",
      "18       1222         1       1  0.000463082   5.3222e-05  9.07663e-06    0   \n",
      "19        693         1       1  0.000492173  5.11098e-05  8.99667e-06    0   \n",
      "20        136         1       1  0.000562615  6.69968e-05  4.02142e-05    0   \n",
      "21        518         1       1  0.000734715  6.50445e-05   3.2246e-05    0   \n",
      "22       1171         1       1  0.000800866  5.41627e-05  2.99298e-05    0   \n",
      "23        611         1       1  0.000782964  6.34124e-05  4.00095e-05    0   \n",
      "24        562         1       1  0.000946742   0.00010848  4.33945e-05    0   \n",
      "25        418         1       1  0.000983166  5.46471e-05  3.69664e-05    0   \n",
      "26        797         1       1  0.000368411  0.000164321  2.87938e-05    0   \n",
      "27        406         1       1  0.000856086  0.000109572  3.84351e-05    0   \n",
      "28        610         1       1  0.000207585  0.000147068  1.12873e-05    0   \n",
      "29        222         1       1  0.000208543  0.000183253   1.2878e-05    0   \n",
      "...       ...       ...     ...          ...          ...          ...  ...   \n",
      "1229      149         1       1  0.000772816  0.000148038   0.00079187    0   \n",
      "1230      608         1       1  5.29949e-05  0.000263414  0.000790241    0   \n",
      "1231      742         1       1  0.000672343  0.000273022  0.000800939    0   \n",
      "1232      651         1       1  0.000792665  0.000289563  0.000810438    0   \n",
      "1233      804         1       1  3.31834e-05  9.66832e-06  0.000857305    0   \n",
      "1234     1248         1       1  0.000185957    9.378e-06  0.000878968    0   \n",
      "1235      438         1       1  0.000551613  2.91132e-05  0.000852335    0   \n",
      "1236       77         1       1   1.9887e-05  0.000179261  0.000863047    0   \n",
      "1237      934         1       1   0.00097115  0.000266041   0.00088238    0   \n",
      "1238      356         1       1  0.000719787    0.0002774  0.000859455    0   \n",
      "1239      529         1       1  0.000987257  0.000287342   0.00089608    0   \n",
      "1240      458         1       1  2.50521e-05  1.46922e-05  0.000896426    0   \n",
      "1241      833         1       1  1.22268e-05  6.26231e-05  0.000903157    0   \n",
      "1242      392         1       1  0.000352413   7.6707e-05  0.000895611    0   \n",
      "1243      219         1       1  0.000528838   0.00027882  0.000889054    0   \n",
      "1244     1182         1       1  1.17875e-05  1.83022e-05  0.000976096    0   \n",
      "1245      741         1       1  0.000172539  0.000281026   0.00100541    0   \n",
      "1246        7         1       1  0.000859554  0.000279564  0.000957604    0   \n",
      "1247      721         1       1  0.000353967  1.54964e-05   0.00102036    0   \n",
      "1248      892         1       1  0.000986413  1.08892e-05   0.00109071    0   \n",
      "1249      915         1       1  3.95656e-05  0.000142832    0.0010034    0   \n",
      "1250     1009         1       1   0.00030798  0.000283324  0.000983506    0   \n",
      "1251      758         1       1  0.000460106  0.000260417   0.00100329    0   \n",
      "1252      621         1       1  1.09184e-05  1.88933e-05   0.00111577    0   \n",
      "1253      196         1       1  0.000725496  0.000248274    0.0010651    0   \n",
      "1254      846         1       1  2.31276e-05  0.000257147    0.0011482    0   \n",
      "1255     1166         1       1  0.000720936  0.000231186   0.00116158    0   \n",
      "1256      166         1       1  0.000730497  0.000286689   0.00111748    0   \n",
      "1257      753         1       1  3.16507e-05  1.69127e-05   0.00125036    0   \n",
      "1258      525         1       1  0.000984238  0.000286907   0.00141174    0   \n",
      "\n",
      "       7    8             9    ...              11            12  \\\n",
      "0     NaN  NaN           NaN   ...             NaN           NaN   \n",
      "1     NaN  NaN           NaN   ...             NaN           NaN   \n",
      "2     NaN  NaN           NaN   ...             NaN           NaN   \n",
      "3     NaN  NaN           NaN   ...             NaN           NaN   \n",
      "4     NaN  NaN           NaN   ...             NaN           NaN   \n",
      "5     NaN  NaN           NaN   ...             NaN           NaN   \n",
      "6     NaN  NaN           NaN   ...             NaN           NaN   \n",
      "7     NaN  NaN           NaN   ...             NaN           NaN   \n",
      "8       z   ix            iy   ...              vx            vy   \n",
      "9       0    0  -2.11682e-05   ...    -2.26486e-06  -1.34491e-10   \n",
      "10      0    0    -0.0047106   ...     -0.00210783  -3.94799e-10   \n",
      "11      0    0     0.0128386   ...      0.00114296  -2.92657e-10   \n",
      "12      0    0  -0.000826103   ...      0.00123199   1.14926e-08   \n",
      "13      0    0   5.70001e-05   ...    -0.000225082    1.4868e-09   \n",
      "14      0    0   -0.00967267   ...       0.0414953  -6.13448e-10   \n",
      "15      0    0    0.00188566   ...     -0.00071905   3.84421e-10   \n",
      "16      0    0  -2.00951e-06   ...     -3.3055e-06   1.69638e-10   \n",
      "17      0    0    -0.0799479   ...      -0.0534947             0   \n",
      "18      0    0    -0.0247125   ...     -0.00141009             0   \n",
      "19      0    0      0.016164   ...     4.56704e-06  -1.17712e-10   \n",
      "20      0    0   -0.00451038   ...      0.00206763   4.98233e-09   \n",
      "21      0    0    -0.0109202   ...      -0.0176958  -1.45889e-09   \n",
      "22      0    0  -0.000193744   ...    -0.000558197   1.62403e-09   \n",
      "23      0    0    -0.0234022   ...      0.00295176   1.20128e-09   \n",
      "24      0    0     -0.165805   ...       0.0161101             0   \n",
      "25      0    0    -0.0193914   ...      -0.0115952             0   \n",
      "26      0    0     -0.103766   ...       0.0406129   7.13255e-09   \n",
      "27      0    0    0.00511995   ...     -0.00563926   2.16248e-09   \n",
      "28      0    0    -0.0125973   ...    -8.15884e-05   3.83086e-10   \n",
      "29      0    0   -0.00230833   ...      0.00101471   2.89101e-09   \n",
      "...   ...  ...           ...   ...             ...           ...   \n",
      "1229    0    0     0.0296515   ...       -0.346321             0   \n",
      "1230    0    0     0.0165597   ...       -0.363104             0   \n",
      "1231    0    0     0.0352628   ...       -0.353861             0   \n",
      "1232    0    0    -0.0132932   ...       -0.364439             0   \n",
      "1233    0    0     0.0136269   ...       -0.331334             0   \n",
      "1234    0    0     -0.130248   ...       -0.322322             0   \n",
      "1235    0    0     0.0565995   ...       -0.353242             0   \n",
      "1236    0    0    0.00364764   ...       -0.290117             0   \n",
      "1237    0    0      0.035341   ...        -0.29524             0   \n",
      "1238    0    0      0.092203   ...       -0.306267             0   \n",
      "1239    0    0   -0.00160779   ...       -0.273129             0   \n",
      "1240    0    0    0.00659013   ...       -0.333699             0   \n",
      "1241    0    0    0.00134183   ...       -0.288545             0   \n",
      "1242    0    0     -0.097697   ...       -0.340532             0   \n",
      "1243    0    0     0.0354179   ...        -0.32393             0   \n",
      "1244    0    0    0.00437941   ...       -0.294141             0   \n",
      "1245    0    0     -0.028417   ...       -0.267815             0   \n",
      "1246    0    0     0.0737299   ...       -0.278576             0   \n",
      "1247    0    0    -0.0907838   ...       -0.303887             0   \n",
      "1248    0    0   -0.00823763   ...       -0.171982             0   \n",
      "1249    0    0     0.0102253   ...       -0.308145             0   \n",
      "1250    0    0     -0.104446   ...       -0.315558             0   \n",
      "1251    0    0    -0.0813432   ...       -0.300301             0   \n",
      "1252    0    0    0.00461534   ...       -0.216442             0   \n",
      "1253    0    0     0.0429455   ...       -0.286502             0   \n",
      "1254    0    0    0.00509515   ...       -0.258725             0   \n",
      "1255    0    0     0.0165569   ...       -0.233004             0   \n",
      "1256    0    0      0.032842   ...       -0.245961             0   \n",
      "1257    0    0     -0.063596   ...       -0.160461             0   \n",
      "1258    0    0   -0.00461487   ...       -0.098342             0   \n",
      "\n",
      "                13            14          15          16          17  \\\n",
      "0              NaN           NaN         NaN         NaN         NaN   \n",
      "1              NaN           NaN         NaN         NaN         NaN   \n",
      "2              NaN           NaN         NaN         NaN         NaN   \n",
      "3              NaN           NaN         NaN         NaN         NaN   \n",
      "4              NaN           NaN         NaN         NaN         NaN   \n",
      "5              NaN           NaN         NaN         NaN         NaN   \n",
      "6              NaN           NaN         NaN         NaN         NaN   \n",
      "7              NaN           NaN         NaN         NaN         NaN   \n",
      "8               vz            fx          fy          fz      omegax   \n",
      "9     -1.95614e-10   2.17694e-11     4.69082     -1.0329    0.115745   \n",
      "10     3.98656e-10  -2.76659e-10   -0.461868   -0.519994   0.0749557   \n",
      "11    -4.43882e-10  -6.14119e-10  -0.0929354  -0.0194308     1.14532   \n",
      "12     4.08064e-09  -7.62678e-08    0.269374    -5.27046    -9.13683   \n",
      "13    -1.70952e-10  -7.94832e-10    0.426203   0.0373011    0.538337   \n",
      "14    -4.20615e-09  -6.00731e-09     3.23444     9.86229     7.76512   \n",
      "15     -5.1179e-10  -2.56154e-10     49.6834    -35.6983     190.507   \n",
      "16    -4.89381e-10  -9.36951e-11    0.661588   -0.455862    0.326687   \n",
      "17               0  -6.42063e-09     65.9711     221.362    -143.534   \n",
      "18               0  -2.39649e-09    -3.38173    -19.5705    0.767261   \n",
      "19     1.69581e-11  -1.79473e-11     0.21443     1.48843    -15.1848   \n",
      "20    -2.18713e-09  -1.25281e-09   -0.402906    -1.35286    0.504951   \n",
      "21    -8.43024e-10  -4.89461e-09    0.107535   -0.393634   0.0690035   \n",
      "22     3.75101e-09   2.66919e-09     4.51947    -30.9695    -10.7907   \n",
      "23      -4.692e-09     3.316e-09    0.262297    -3.21729   -0.437022   \n",
      "24               0  -2.39649e-09      123.04     197.222    -376.438   \n",
      "25               0  -6.42063e-09      18.678    -7.14328      15.912   \n",
      "26    -5.99755e-09   1.72752e-08     62.9142    -96.2402     230.212   \n",
      "27     1.66833e-09  -2.52833e-09    -0.48121    0.550189  -0.0424948   \n",
      "28     3.64007e-10  -3.78115e-10    0.607249    0.886308     6.96701   \n",
      "29    -1.29414e-09   -1.2108e-09   -0.364074    -1.95084      1.1385   \n",
      "...            ...           ...         ...         ...         ...   \n",
      "1229             0  -6.42063e-09    -161.043    -1427.86    -585.213   \n",
      "1230             0  -2.39649e-09     -111.54    -28.0234       17.12   \n",
      "1231             0  -2.39649e-09     503.738    -1602.58    -208.139   \n",
      "1232             0  -2.39649e-09     488.918     410.107     2253.34   \n",
      "1233             0  -2.39649e-09    -20.9591     418.959    -3.16153   \n",
      "1234             0  -2.39649e-09     3.90298    -542.271     88.5948   \n",
      "1235             0  -6.42063e-09     6.04823    -76.0057    -99.3099   \n",
      "1236             0  -1.10948e-08     2530.64     452.137     105.006   \n",
      "1237             0  -2.39649e-09     41.3516     281.965     288.707   \n",
      "1238             0  -6.42063e-09     21.9396     544.328     79.7074   \n",
      "1239             0  -6.42063e-09     37.9784    -15.6732   0.0143981   \n",
      "1240             0  -6.42063e-09    -12.0703     24.0579   -0.403572   \n",
      "1241             0  -2.39649e-09     1336.75     255.957     80.1441   \n",
      "1242             0  -6.42063e-09    -185.673     516.025     108.269   \n",
      "1243             0  -6.42063e-09     832.296    -244.535    -497.393   \n",
      "1244             0  -2.39649e-09     -20.827     25.8475    0.349529   \n",
      "1245             0  -2.39649e-09     1447.85    -20451.8     5007.97   \n",
      "1246             0  -2.43754e-08    -567.544    -2212.73     709.862   \n",
      "1247             0  -2.39649e-09    0.845877     37.8798     83.3694   \n",
      "1248             0  -2.39649e-09     588.103    -183.903    -2.22843   \n",
      "1249             0  -2.39649e-09     -16.941     34.6654    -57.2158   \n",
      "1250             0  -2.39649e-09     39.1959      51.505     354.554   \n",
      "1251             0  -2.39649e-09     393.646    -807.193     4.44856   \n",
      "1252             0  -2.39649e-09     167.899      69.082     1.01585   \n",
      "1253             0  -6.42063e-09      314.43    -427.163     30.9072   \n",
      "1254             0  -2.39649e-09    -48.1488    -31.9211    -25.1072   \n",
      "1255             0  -2.39649e-09     558.244    -374.431    -707.182   \n",
      "1256             0  -6.42063e-09     117.519    -509.214     27.0309   \n",
      "1257             0  -2.39649e-09    -311.385     -4301.2    -90.2907   \n",
      "1258             0  -6.42063e-09     317.583    -77.6797    0.208548   \n",
      "\n",
      "            18      19      20  \n",
      "0          NaN     NaN     NaN  \n",
      "1          NaN     NaN     NaN  \n",
      "2          NaN     NaN     NaN  \n",
      "3          NaN     NaN     NaN  \n",
      "4          NaN     NaN     NaN  \n",
      "5          NaN     NaN     NaN  \n",
      "6          NaN     NaN     NaN  \n",
      "7          NaN     NaN     NaN  \n",
      "8       omegay  omegaz  radius  \n",
      "9        9e-06     NaN     NaN  \n",
      "10       9e-06     NaN     NaN  \n",
      "11       9e-06     NaN     NaN  \n",
      "12    1.25e-05     NaN     NaN  \n",
      "13       9e-06     NaN     NaN  \n",
      "14       9e-06     NaN     NaN  \n",
      "15       9e-06     NaN     NaN  \n",
      "16       9e-06     NaN     NaN  \n",
      "17    1.25e-05     NaN     NaN  \n",
      "18       9e-06     NaN     NaN  \n",
      "19       9e-06     NaN     NaN  \n",
      "20     1.5e-05     NaN     NaN  \n",
      "21    1.25e-05     NaN     NaN  \n",
      "22       9e-06     NaN     NaN  \n",
      "23       9e-06     NaN     NaN  \n",
      "24       9e-06     NaN     NaN  \n",
      "25    1.25e-05     NaN     NaN  \n",
      "26       9e-06     NaN     NaN  \n",
      "27    1.25e-05     NaN     NaN  \n",
      "28       9e-06     NaN     NaN  \n",
      "29    1.25e-05     NaN     NaN  \n",
      "...        ...     ...     ...  \n",
      "1229  1.25e-05     NaN     NaN  \n",
      "1230     9e-06     NaN     NaN  \n",
      "1231     9e-06     NaN     NaN  \n",
      "1232     9e-06     NaN     NaN  \n",
      "1233     9e-06     NaN     NaN  \n",
      "1234     9e-06     NaN     NaN  \n",
      "1235  1.25e-05     NaN     NaN  \n",
      "1236   1.5e-05     NaN     NaN  \n",
      "1237     9e-06     NaN     NaN  \n",
      "1238  1.25e-05     NaN     NaN  \n",
      "1239  1.25e-05     NaN     NaN  \n",
      "1240  1.25e-05     NaN     NaN  \n",
      "1241     9e-06     NaN     NaN  \n",
      "1242  1.25e-05     NaN     NaN  \n",
      "1243  1.25e-05     NaN     NaN  \n",
      "1244     9e-06     NaN     NaN  \n",
      "1245     9e-06     NaN     NaN  \n",
      "1246  1.95e-05     NaN     NaN  \n",
      "1247     9e-06     NaN     NaN  \n",
      "1248     9e-06     NaN     NaN  \n",
      "1249     9e-06     NaN     NaN  \n",
      "1250     9e-06     NaN     NaN  \n",
      "1251     9e-06     NaN     NaN  \n",
      "1252     9e-06     NaN     NaN  \n",
      "1253  1.25e-05     NaN     NaN  \n",
      "1254     9e-06     NaN     NaN  \n",
      "1255     9e-06     NaN     NaN  \n",
      "1256  1.25e-05     NaN     NaN  \n",
      "1257     9e-06     NaN     NaN  \n",
      "1258  1.25e-05     NaN     NaN  \n",
      "\n",
      "[1259 rows x 21 columns]\n"
     ]
    }
   ],
   "source": [
    "print(df)"
   ]
  },
  {
   "cell_type": "code",
   "execution_count": 165,
   "metadata": {},
   "outputs": [
    {
     "name": "stdout",
     "output_type": "stream",
     "text": [
      "type\n",
      "type\n",
      "x\n",
      "y\n",
      "z\n",
      "vx\n",
      "vy\n",
      "vz\n"
     ]
    }
   ],
   "source": [
    "print(df.iloc[8][3])\n",
    "print(df.iloc[8][4])\n",
    "print(df.iloc[8][5])\n",
    "print(df.iloc[8][6])\n",
    "print(df.iloc[8][7])\n",
    "print(df.iloc[8][11])\n",
    "print(df.iloc[8][12])\n",
    "print(df.iloc[8][13])"
   ]
  },
  {
   "cell_type": "code",
   "execution_count": 166,
   "metadata": {},
   "outputs": [
    {
     "name": "stdout",
     "output_type": "stream",
     "text": [
      "0.000224208\n",
      "3.15041e-05\n",
      "3.13164e-05\n",
      "0\n",
      "0\n",
      "-2.26486e-06\n",
      "-1.34491e-10\n",
      "-1.95614e-10\n",
      "9e-06\n"
     ]
    }
   ],
   "source": [
    "print(df.iloc[9][3])\n",
    "print(df.iloc[9][4])\n",
    "print(df.iloc[9][5])\n",
    "print(df.iloc[9][6])\n",
    "print(df.iloc[9][7])\n",
    "print(df.iloc[9][11])\n",
    "print(df.iloc[9][12])\n",
    "print(df.iloc[9][13])\n",
    "print(df.iloc[9][18])"
   ]
  },
  {
   "cell_type": "code",
   "execution_count": 33,
   "metadata": {},
   "outputs": [],
   "source": []
  },
  {
   "cell_type": "code",
   "execution_count": 34,
   "metadata": {},
   "outputs": [],
   "source": []
  },
  {
   "cell_type": "markdown",
   "metadata": {},
   "source": [
    "list.clear() 的陷阱"
   ]
  },
  {
   "cell_type": "code",
   "execution_count": 38,
   "metadata": {},
   "outputs": [
    {
     "data": {
      "text/plain": [
       "[[4]]"
      ]
     },
     "execution_count": 38,
     "metadata": {},
     "output_type": "execute_result"
    }
   ],
   "source": [
    "a = []\n",
    "b = [1,2,3]\n",
    "a.append(b)\n",
    "b.clear()\n",
    "b.append(4)\n",
    "a"
   ]
  },
  {
   "cell_type": "code",
   "execution_count": 47,
   "metadata": {},
   "outputs": [
    {
     "data": {
      "text/plain": [
       "[[1, 2, 3]]"
      ]
     },
     "execution_count": 47,
     "metadata": {},
     "output_type": "execute_result"
    }
   ],
   "source": [
    "import copy\n",
    "a = []\n",
    "b = [1,2,3]\n",
    "a.append(b.copy())\n",
    "b.clear()\n",
    "b.append(4)\n",
    "a"
   ]
  },
  {
   "cell_type": "code",
   "execution_count": 54,
   "metadata": {},
   "outputs": [
    {
     "data": {
      "text/plain": [
       "[[(1, 2), (2, 3)]]"
      ]
     },
     "execution_count": 54,
     "metadata": {},
     "output_type": "execute_result"
    }
   ],
   "source": [
    "import copy\n",
    "a = []\n",
    "b = [(1,2),(2,3)]\n",
    "a.append(b.copy())\n",
    "b.clear()\n",
    "b.append((3,4))\n",
    "a"
   ]
  },
  {
   "cell_type": "code",
   "execution_count": 55,
   "metadata": {},
   "outputs": [
    {
     "data": {
      "text/plain": [
       "[[(3, 4)]]"
      ]
     },
     "execution_count": 55,
     "metadata": {},
     "output_type": "execute_result"
    }
   ],
   "source": [
    "import copy\n",
    "a = []\n",
    "b = [(1,2),(2,3)]\n",
    "a.append(b)\n",
    "b.clear()\n",
    "b.append((3,4))\n",
    "a"
   ]
  },
  {
   "cell_type": "code",
   "execution_count": 53,
   "metadata": {},
   "outputs": [
    {
     "data": {
      "text/plain": [
       "[[1, 2, 3]]"
      ]
     },
     "execution_count": 53,
     "metadata": {},
     "output_type": "execute_result"
    }
   ],
   "source": [
    "import copy\n",
    "a = []\n",
    "b = [1,2,3]\n",
    "a.append(copy.deepcopy(b))\n",
    "b.clear()\n",
    "b.append('a')\n",
    "a"
   ]
  },
  {
   "cell_type": "code",
   "execution_count": 167,
   "metadata": {},
   "outputs": [],
   "source": [
    "import copy\n",
    "def get_needed_data(df):\n",
    "    needed_data = []\n",
    "    cur_unit = []\n",
    "    for row_idx in range(9,len(df)):\n",
    "        if len(cur_unit) >= 9:\n",
    "            needed_data.append(cur_unit.copy())\n",
    "            cur_unit = []\n",
    "        cur_unit.append((df.iloc[row_idx][3],df.iloc[row_idx][4],df.iloc[row_idx][5],df.iloc[row_idx][18]))\n",
    "    if cur_unit:\n",
    "        needed_data.append(cur_unit.copy()) # 这里也要写成cur_unit.copy() !\n",
    "    # print(needed_data)\n",
    "    return needed_data"
   ]
  },
  {
   "cell_type": "code",
   "execution_count": 160,
   "metadata": {},
   "outputs": [
    {
     "name": "stdout",
     "output_type": "stream",
     "text": [
      "/*--------------------------------*- C++ -*----------------------------------*\\\n",
      "| =========                 |                                                 |\n",
      "| \\\\      /  F ield         | OpenFOAM: The Open Source CFD Toolbox           |\n",
      "|  \\\\    /   O peration     | Version:  3.0.1                                 |\n",
      "|   \\\\  /    A nd           | Web:      www.OpenFOAM.org                      |\n",
      "|    \\\\/     M anipulation  |                                                 |\n",
      "\\*---------------------------------------------------------------------------*/\n",
      "FoamFile\n",
      "{\n",
      "    version     2.0;\n",
      "    format      ascii;\n",
      "    class       dictionary;\n",
      "    location    \"system\";\n",
      "    object      funkySetFieldsDict;\n",
      "}\n",
      "// * * * * * * * * * * * * * * * * * * * * * * * * * * * * * * * * * * * * * //\n",
      "\n",
      "\n"
     ]
    }
   ],
   "source": [
    "with open('C:/Users/k/Desktop/funkySetFieldsDict','r') as f:\n",
    "    raw_str = f.read()\n",
    "text_head = raw_str[:788]\n",
    "print(text_head)"
   ]
  },
  {
   "cell_type": "code",
   "execution_count": 81,
   "metadata": {},
   "outputs": [
    {
     "name": "stdout",
     "output_type": "stream",
     "text": [
      "\n",
      "    {\n",
      "    field alpha.phase1;\n",
      "    expression \"1\";\n",
      "    condition \"pos().z<=0\";\n",
      "    keepPatches true;\n",
      "    }\n"
     ]
    }
   ],
   "source": [
    "print(raw_str[814:920])\n",
    "tiny_head = raw_str[814:920]"
   ]
  },
  {
   "cell_type": "code",
   "execution_count": 64,
   "metadata": {},
   "outputs": [
    {
     "name": "stdout",
     "output_type": "stream",
     "text": [
      "expressions\n",
      "(\n"
     ]
    }
   ],
   "source": [
    "text_body = ''\n",
    "text_body_head = 'expressions\\n(\\n'\n",
    "text_body_tail = ');'"
   ]
  },
  {
   "cell_type": "code",
   "execution_count": 65,
   "metadata": {},
   "outputs": [],
   "source": [
    "text_body_main = ''"
   ]
  },
  {
   "cell_type": "markdown",
   "metadata": {},
   "source": [
    "alphawater\n",
    "    {\n",
    "    field alpha.phase1;\n",
    "    expression \"1\";\n",
    "    condition \"pos().z<=0\";\n",
    "    keepPatches true;\n",
    "    }\n",
    "\n",
    "pp\n",
    "    {\n",
    "    field p;\n",
    "        expression \"1e5-4510*9.81*(pos().z)\";\n",
    "    condition \"pos().z<=0\";\n",
    "    keepPatches true;\n",
    "    }"
   ]
  },
  {
   "cell_type": "code",
   "execution_count": 92,
   "metadata": {},
   "outputs": [],
   "source": [
    "import os\n",
    "import re\n",
    "def read_head(head,root_path = '.'):\n",
    "    if head == 'a':\n",
    "        path = os.path.join(root_path,'head1.txt')\n",
    "    elif head == 'p':\n",
    "        path = os.path.join(root_path,'head2.txt')\n",
    "    with open(path) as f:\n",
    "        head = f.read()\n",
    "#     re.match('expression.*;',head)\n",
    "    return head"
   ]
  },
  {
   "cell_type": "code",
   "execution_count": 94,
   "metadata": {},
   "outputs": [
    {
     "name": "stdout",
     "output_type": "stream",
     "text": [
      "pp\n",
      "    {\n",
      "    field p;\n",
      "        expression \"1e5-4510*9.81*(pos().z)\";\n",
      "    condition \"pos().z<=0\";\n",
      "    keepPatches true;\n",
      "    }\n"
     ]
    }
   ],
   "source": [
    "print(read_head('p','C:/Users/k/Desktop/'))"
   ]
  },
  {
   "cell_type": "code",
   "execution_count": 127,
   "metadata": {},
   "outputs": [
    {
     "name": "stdout",
     "output_type": "stream",
     "text": [
      "<_sre.SRE_Match object; span=(0, 123), match='pp\\n    {\\n    field p;\\n        expression \"1e5->\n",
      "pp\n",
      "    {\n",
      "    field p;\n",
      "        expression \"1e5-4510*9.81*(pos().z)\";\n",
      "    condition \"pos().z<=0\";\n",
      "    keepPatches true;\n",
      "    }\n",
      "('field p;', 'expression \"1e5-4510*9.81*(pos().z)\";')\n",
      "field p;\n",
      "expression \"1e5-4510*9.81*(pos().z)\";\n"
     ]
    }
   ],
   "source": [
    "head = read_head('p','C:/Users/k/Desktop/')\n",
    "# print(head)\n",
    "# print(re.match(r'.*(expression.*).*',head,re.S))\n",
    "print(re.match(r'.*(field.*?;).*(expression.*?;).*',head,re.S))\n",
    "print(re.match(r'.*(field.*?;).*(expression.*?;).*',head,re.S).group(0))\n",
    "print(re.match(r'.*(field.*?;).*(expression.*?;).*',head,re.S).groups())\n",
    "print(re.match(r'.*(field.*?;).*(expression.*?;).*',head,re.S).group(1))\n",
    "print(re.match(r'.*(field.*?;).*(expression.*?;).*',head,re.S).group(2))"
   ]
  },
  {
   "cell_type": "code",
   "execution_count": 140,
   "metadata": {},
   "outputs": [
    {
     "name": "stdout",
     "output_type": "stream",
     "text": [
      "pp\n",
      "    {\n",
      "field hello world;\n",
      "        expression \"1e5-4510*9.81*(pos().z)\";\n",
      "    condition \"pos().z<=0\";\n",
      "    keepPatches true;\n",
      "    }\n"
     ]
    }
   ],
   "source": [
    "print(re.sub(r'.*(field.*?;).*','field hello world;',head,re.S))"
   ]
  },
  {
   "cell_type": "code",
   "execution_count": 129,
   "metadata": {},
   "outputs": [
    {
     "name": "stdout",
     "output_type": "stream",
     "text": [
      "ajld\n",
      "ajldda\n"
     ]
    }
   ],
   "source": [
    "s = 'ajld'\n",
    "t = s\n",
    "t += 'da'\n",
    "\n",
    "print(s)\n",
    "print(t)\n"
   ]
  },
  {
   "cell_type": "code",
   "execution_count": 132,
   "metadata": {},
   "outputs": [
    {
     "name": "stdout",
     "output_type": "stream",
     "text": [
      "abc\n"
     ]
    }
   ],
   "source": [
    "test_str = (\n",
    "            'ab' \n",
    "            'c'\n",
    "           )\n",
    "print(test_str)"
   ]
  },
  {
   "cell_type": "code",
   "execution_count": null,
   "metadata": {},
   "outputs": [],
   "source": [
    "alphawater1{\n",
    "    field alpha.phase1;\n",
    "    expression \"1\";\n",
    "    condition \"pow(pow(pos().x-0.00000899675,2)+pow(pos().y-0.0000100715,2)+pow(pos().z-0.00000899369,2),0.5)<=0.000009||pow(pow(pos().x-0.0000124931,2)+pow(pos().y-0.0000338298,2)+pow(pos().z-0.0000124865,2),0.5)<=0.0000125||pow(pow(pos().x-0.0000269977,2)+pow(pos().y-0.00000900041,2)+pow(pos().z-0.00000899668,2),0.5)<=0.000009||pow(pow(pos().x-0.0000320206,2)+pow(pos().y-0.0000242899,2)+pow(pos().z-0.00002482,2),0.5)<=0.0000125||pow(pow(pos().x-0.0000169248,2)+pow(pos().y-0.00000899312,2)+pow(pos().z-0.0000251104,2),0.5)<=0.000009||pow(pow(pos().x-0.00000899576,2)+pow(pos().y-0.0000239376,2)+pow(pos().z-0.0000312417,2),0.5)<=0.000009||pow(pow(pos().x-0.0000462206,2)+pow(pos().y-0.0000211905,2)+pow(pos().z-0.00000899022,2),0.5)<=0.000009||pow(pow(pos().x-0.0000594541,2)+pow(pos().y-0.00000899677,2)+pow(pos().z-0.00000899635,2),0.5)<=0.000009||pow(pow(pos().x-0.0000774497,2)+pow(pos().y-0.0000089934,2)+pow(pos().z-0.00000898912,2),0.5)<=0.000009\";\n",
    "    keepPatches true;\n",
    "    }"
   ]
  },
  {
   "cell_type": "code",
   "execution_count": 137,
   "metadata": {},
   "outputs": [
    {
     "data": {
      "text/plain": [
       "(1, 2, 2, 3)"
      ]
     },
     "execution_count": 137,
     "metadata": {},
     "output_type": "execute_result"
    }
   ],
   "source": [
    "from functools import reduce\n",
    "def add(x,y):\n",
    "    return x + y\n",
    "reduce(add,[(1,2),(2,3)])"
   ]
  },
  {
   "cell_type": "code",
   "execution_count": 138,
   "metadata": {},
   "outputs": [
    {
     "data": {
      "text/plain": [
       "'a1d2'"
      ]
     },
     "execution_count": 138,
     "metadata": {},
     "output_type": "execute_result"
    }
   ],
   "source": [
    "(\n",
    "    'a{}'\n",
    "    'd{}'\n",
    ").format(*[1,2])"
   ]
  },
  {
   "cell_type": "code",
   "execution_count": 141,
   "metadata": {},
   "outputs": [],
   "source": [
    "def get_field_name(s):\n",
    "    field_name = s.strip().split()[1]\n",
    "    if 'alpha' in field_name:\n",
    "        return 'alphawater'\n",
    "    elif 'p' == field_name[0]:\n",
    "        return 'pp'\n",
    "    return None"
   ]
  },
  {
   "cell_type": "code",
   "execution_count": 156,
   "metadata": {},
   "outputs": [],
   "source": [
    "#追求效率的话，可以用正则得到关键位置的idx，然后替换，每替换一次都要重新计算关键位置idx\n",
    "from functools import reduce\n",
    "def fill_condition_str(unit):\n",
    "    res = 'condition ' + '\\n'\n",
    "    for idx,item in enumerate(unit):\n",
    "        s = 'pow(pow(pos().x-{},2)+pow(pos().y-{},2)+pow(pos().z-{},2),0.5)<={}'.format(*item)\n",
    "        if idx == 0:\n",
    "            res += s\n",
    "        else:\n",
    "            res += '||' + s\n",
    "    res += ';'\n",
    "    return res\n",
    "def gen_str(data,head_pre):\n",
    "    res = ''\n",
    "    head = read_head(head_pre,'C:/Users/k/Desktop/')\n",
    "    res += head + '\\n' + '\\n'\n",
    "    idx = 1\n",
    "    for unit in data:\n",
    "        if len(unit) == 9:\n",
    "            unit_data_list = list(reduce(lambda x,y:x+y,unit))\n",
    "            condition_str = (\n",
    "                            'condition '\n",
    "                            '\"pow(pow(pos().x-{},2)+pow(pos().y-{},2)+pow(pos().z-{},2),0.5)<={}||'\n",
    "                            'pow(pow(pos().x-{},2)+pow(pos().y-{},2)+pow(pos().z-{},2),0.5)<={}||'\n",
    "                            'pow(pow(pos().x-{},2)+pow(pos().y-{},2)+pow(pos().z-{},2),0.5)<={}||'\n",
    "                            'pow(pow(pos().x-{},2)+pow(pos().y-{},2)+pow(pos().z-{},2),0.5)<={}||'\n",
    "                            'pow(pow(pos().x-{},2)+pow(pos().y-{},2)+pow(pos().z-{},2),0.5)<={}||'\n",
    "                            'pow(pow(pos().x-{},2)+pow(pos().y-{},2)+pow(pos().z-{},2),0.5)<={}||'\n",
    "                            'pow(pow(pos().x-{},2)+pow(pos().y-{},2)+pow(pos().z-{},2),0.5)<={}||'\n",
    "                            'pow(pow(pos().x-{},2)+pow(pos().y-{},2)+pow(pos().z-{},2),0.5)<={}||'\n",
    "                            'pow(pow(pos().x-{},2)+pow(pos().y-{},2)+pow(pos().z-{},2),0.5)<={}\";'\n",
    "                            ).format(*unit_data_list)\n",
    "        else:\n",
    "            condition_str = fill_condition_str(unit)\n",
    "        field_name = get_field_name(re.match(r'.*(field.*?;).*(expression.*?;).*',head,re.S).group(1))\n",
    "        unit_str = re.sub(r'.*(condition.*?;).*',condition_str,head,re.S)\n",
    "        unit_str = re.sub(r'.*(%s).*'%(field_name),field_name+str(idx),unit_str,re.S)\n",
    "        res += unit_str\n",
    "        idx += 1\n",
    "    return res"
   ]
  },
  {
   "cell_type": "code",
   "execution_count": 145,
   "metadata": {},
   "outputs": [
    {
     "data": {
      "text/plain": [
       "[[('-2.26486e-06', '-1.34491e-10', '-1.95614e-10', '9e-06'),\n",
       "  ('-0.00210783', '-3.94799e-10', '3.98656e-10', '9e-06'),\n",
       "  ('0.00114296', '-2.92657e-10', '-4.43882e-10', '9e-06'),\n",
       "  ('0.00123199', '1.14926e-08', '4.08064e-09', '1.25e-05'),\n",
       "  ('-0.000225082', '1.4868e-09', '-1.70952e-10', '9e-06'),\n",
       "  ('0.0414953', '-6.13448e-10', '-4.20615e-09', '9e-06'),\n",
       "  ('-0.00071905', '3.84421e-10', '-5.1179e-10', '9e-06'),\n",
       "  ('-3.3055e-06', '1.69638e-10', '-4.89381e-10', '9e-06'),\n",
       "  ('-0.0534947', '0', '0', '1.25e-05')],\n",
       " [('-0.00141009', '0', '0', '9e-06'),\n",
       "  ('4.56704e-06', '-1.17712e-10', '1.69581e-11', '9e-06'),\n",
       "  ('0.00206763', '4.98233e-09', '-2.18713e-09', '1.5e-05'),\n",
       "  ('-0.0176958', '-1.45889e-09', '-8.43024e-10', '1.25e-05'),\n",
       "  ('-0.000558197', '1.62403e-09', '3.75101e-09', '9e-06'),\n",
       "  ('0.00295176', '1.20128e-09', '-4.692e-09', '9e-06'),\n",
       "  ('0.0161101', '0', '0', '9e-06'),\n",
       "  ('-0.0115952', '0', '0', '1.25e-05'),\n",
       "  ('0.0406129', '7.13255e-09', '-5.99755e-09', '9e-06')]]"
      ]
     },
     "execution_count": 145,
     "metadata": {},
     "output_type": "execute_result"
    }
   ],
   "source": [
    "get_needed_data(df)[:2]"
   ]
  },
  {
   "cell_type": "code",
   "execution_count": 158,
   "metadata": {},
   "outputs": [],
   "source": [
    "# print(gen_str(get_needed_data(df),'a'))"
   ]
  },
  {
   "cell_type": "code",
   "execution_count": 168,
   "metadata": {},
   "outputs": [],
   "source": [
    "text_body_main = gen_str(get_needed_data(df),'a')\n",
    "text_body_head = 'expressions\\n(\\n'\n",
    "text_body_tail = ');'\n",
    "text = text_head + text_body_head + text_body_main + text_body_tail\n",
    "# print(text)\n",
    "with open('C:/Users/k/Desktop/NewfunkySetFieldsDict','w',encoding = 'utf8') as f:\n",
    "    f.write(text)"
   ]
  },
  {
   "cell_type": "code",
   "execution_count": null,
   "metadata": {},
   "outputs": [],
   "source": []
  }
 ],
 "metadata": {
  "kernelspec": {
   "display_name": "Python 3",
   "language": "python",
   "name": "python3"
  },
  "language_info": {
   "codemirror_mode": {
    "name": "ipython",
    "version": 3
   },
   "file_extension": ".py",
   "mimetype": "text/x-python",
   "name": "python",
   "nbconvert_exporter": "python",
   "pygments_lexer": "ipython3",
   "version": "3.6.5"
  }
 },
 "nbformat": 4,
 "nbformat_minor": 2
}
